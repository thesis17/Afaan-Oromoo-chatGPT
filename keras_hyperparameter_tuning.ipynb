{
  "metadata": {
    "kernelspec": {
      "language": "python",
      "display_name": "Python 3",
      "name": "python3"
    },
    "language_info": {
      "name": "python",
      "version": "3.11.13",
      "mimetype": "text/x-python",
      "codemirror_mode": {
        "name": "ipython",
        "version": 3
      },
      "pygments_lexer": "ipython3",
      "nbconvert_exporter": "python",
      "file_extension": ".py"
    },
    "kaggle": {
      "accelerator": "none",
      "dataSources": [
        {
          "sourceId": 482,
          "sourceType": "datasetVersion",
          "datasetId": 228
        }
      ],
      "dockerImageVersionId": 31089,
      "isInternetEnabled": true,
      "language": "python",
      "sourceType": "notebook",
      "isGpuEnabled": false
    },
    "colab": {
      "name": "keras-hyperparameter-tuning",
      "provenance": [],
      "include_colab_link": true
    }
  },
  "nbformat_minor": 0,
  "nbformat": 4,
  "cells": [
    {
      "cell_type": "markdown",
      "metadata": {
        "id": "view-in-github",
        "colab_type": "text"
      },
      "source": [
        "<a href=\"https://colab.research.google.com/github/thesis17/Afaan-Oromoo-chatGPT/blob/main/keras_hyperparameter_tuning.ipynb\" target=\"_parent\"><img src=\"https://colab.research.google.com/assets/colab-badge.svg\" alt=\"Open In Colab\"/></a>"
      ]
    },
    {
      "source": [
        "# IMPORTANT: RUN THIS CELL IN ORDER TO IMPORT YOUR KAGGLE DATA SOURCES,\n",
        "# THEN FEEL FREE TO DELETE THIS CELL.\n",
        "# NOTE: THIS NOTEBOOK ENVIRONMENT DIFFERS FROM KAGGLE'S PYTHON\n",
        "# ENVIRONMENT SO THERE MAY BE MISSING LIBRARIES USED BY YOUR\n",
        "# NOTEBOOK.\n",
        "import kagglehub\n",
        "uciml_pima_indians_diabetes_database_path = kagglehub.dataset_download('uciml/pima-indians-diabetes-database')\n",
        "\n",
        "print('Data source import complete.')\n"
      ],
      "metadata": {
        "id": "dSH_opETmZqH"
      },
      "cell_type": "code",
      "outputs": [],
      "execution_count": null
    },
    {
      "cell_type": "code",
      "source": [
        "# This Python 3 environment comes with many helpful analytics libraries installed\n",
        "# It is defined by the kaggle/python Docker image: https://github.com/kaggle/docker-python\n",
        "# For example, here's several helpful packages to load\n",
        "\n",
        "import numpy as np # linear algebra\n",
        "import pandas as pd # data processing, CSV file I/O (e.g. pd.read_csv)\n",
        "\n",
        "# Input data files are available in the read-only \"../input/\" directory\n",
        "# For example, running this (by clicking run or pressing Shift+Enter) will list all files under the input directory\n",
        "\n",
        "import os\n",
        "for dirname, _, filenames in os.walk('/kaggle/input'):\n",
        "    for filename in filenames:\n",
        "        print(os.path.join(dirname, filename))\n",
        "\n",
        "# You can write up to 20GB to the current directory (/kaggle/working/) that gets preserved as output when you create a version using \"Save & Run All\"\n",
        "# You can also write temporary files to /kaggle/temp/, but they won't be saved outside of the current session"
      ],
      "metadata": {
        "_uuid": "8f2839f25d086af736a60e9eeb907d3b93b6e0e5",
        "_cell_guid": "b1076dfc-b9ad-4769-8c92-a6c4dae69d19",
        "trusted": true,
        "execution": {
          "iopub.status.busy": "2025-08-22T04:43:51.113838Z",
          "iopub.execute_input": "2025-08-22T04:43:51.114119Z",
          "iopub.status.idle": "2025-08-22T04:43:51.132074Z",
          "shell.execute_reply.started": "2025-08-22T04:43:51.114098Z",
          "shell.execute_reply": "2025-08-22T04:43:51.130675Z"
        },
        "id": "DJVqVf_VmZqI"
      },
      "outputs": [],
      "execution_count": null
    },
    {
      "cell_type": "code",
      "source": [
        "df=pd.read_csv('/kaggle/input/pima-indians-diabetes-database/diabetes.csv')"
      ],
      "metadata": {
        "trusted": true,
        "execution": {
          "iopub.status.busy": "2025-08-22T04:43:51.133637Z",
          "iopub.execute_input": "2025-08-22T04:43:51.134022Z",
          "iopub.status.idle": "2025-08-22T04:43:51.143935Z",
          "shell.execute_reply.started": "2025-08-22T04:43:51.13399Z",
          "shell.execute_reply": "2025-08-22T04:43:51.142804Z"
        },
        "id": "T1jnDNO3mZqI"
      },
      "outputs": [],
      "execution_count": null
    },
    {
      "cell_type": "code",
      "source": [
        "df.head()"
      ],
      "metadata": {
        "trusted": true,
        "execution": {
          "iopub.status.busy": "2025-08-22T04:43:51.144822Z",
          "iopub.execute_input": "2025-08-22T04:43:51.14504Z",
          "iopub.status.idle": "2025-08-22T04:43:51.162949Z",
          "shell.execute_reply.started": "2025-08-22T04:43:51.145023Z",
          "shell.execute_reply": "2025-08-22T04:43:51.161833Z"
        },
        "id": "XjVGsbvcmZqJ"
      },
      "outputs": [],
      "execution_count": null
    },
    {
      "cell_type": "code",
      "source": [
        "df.corr()['Outcome']"
      ],
      "metadata": {
        "trusted": true,
        "execution": {
          "iopub.status.busy": "2025-08-22T04:43:51.164928Z",
          "iopub.execute_input": "2025-08-22T04:43:51.165237Z",
          "iopub.status.idle": "2025-08-22T04:43:51.185595Z",
          "shell.execute_reply.started": "2025-08-22T04:43:51.165204Z",
          "shell.execute_reply": "2025-08-22T04:43:51.184136Z"
        },
        "id": "xxRohBD5mZqJ"
      },
      "outputs": [],
      "execution_count": null
    },
    {
      "cell_type": "code",
      "source": [
        "x=df.iloc[:,:-1].values\n",
        "y=df.iloc[:,-1].values"
      ],
      "metadata": {
        "trusted": true,
        "execution": {
          "iopub.status.busy": "2025-08-22T04:43:51.186665Z",
          "iopub.execute_input": "2025-08-22T04:43:51.187042Z",
          "iopub.status.idle": "2025-08-22T04:43:51.201451Z",
          "shell.execute_reply.started": "2025-08-22T04:43:51.187012Z",
          "shell.execute_reply": "2025-08-22T04:43:51.200425Z"
        },
        "id": "3zetBy_amZqJ"
      },
      "outputs": [],
      "execution_count": null
    },
    {
      "cell_type": "code",
      "source": [
        "from sklearn.preprocessing import StandardScaler\n",
        "scaler=StandardScaler()"
      ],
      "metadata": {
        "trusted": true,
        "execution": {
          "iopub.status.busy": "2025-08-22T04:43:51.202825Z",
          "iopub.execute_input": "2025-08-22T04:43:51.203423Z",
          "iopub.status.idle": "2025-08-22T04:43:51.227065Z",
          "shell.execute_reply.started": "2025-08-22T04:43:51.203383Z",
          "shell.execute_reply": "2025-08-22T04:43:51.226066Z"
        },
        "id": "PE72oJnAmZqJ"
      },
      "outputs": [],
      "execution_count": null
    },
    {
      "cell_type": "code",
      "source": [
        "x= scaler.fit_transform(x)"
      ],
      "metadata": {
        "trusted": true,
        "execution": {
          "iopub.status.busy": "2025-08-22T04:43:51.22823Z",
          "iopub.execute_input": "2025-08-22T04:43:51.228653Z",
          "iopub.status.idle": "2025-08-22T04:43:51.249821Z",
          "shell.execute_reply.started": "2025-08-22T04:43:51.228595Z",
          "shell.execute_reply": "2025-08-22T04:43:51.248826Z"
        },
        "id": "L1TZbuiDmZqK"
      },
      "outputs": [],
      "execution_count": null
    },
    {
      "cell_type": "code",
      "source": [
        "x.shape"
      ],
      "metadata": {
        "trusted": true,
        "execution": {
          "iopub.status.busy": "2025-08-22T04:43:51.252265Z",
          "iopub.execute_input": "2025-08-22T04:43:51.252572Z",
          "iopub.status.idle": "2025-08-22T04:43:51.268737Z",
          "shell.execute_reply.started": "2025-08-22T04:43:51.252554Z",
          "shell.execute_reply": "2025-08-22T04:43:51.267559Z"
        },
        "id": "w4Y8iT3imZqK"
      },
      "outputs": [],
      "execution_count": null
    },
    {
      "cell_type": "code",
      "source": [
        "from sklearn.model_selection import train_test_split\n",
        "x_train,x_test,y_train,y_test=train_test_split(x,y,test_size=0.2,random_state=1)"
      ],
      "metadata": {
        "trusted": true,
        "execution": {
          "iopub.status.busy": "2025-08-22T04:43:51.26989Z",
          "iopub.execute_input": "2025-08-22T04:43:51.270262Z",
          "iopub.status.idle": "2025-08-22T04:43:51.287793Z",
          "shell.execute_reply.started": "2025-08-22T04:43:51.270229Z",
          "shell.execute_reply": "2025-08-22T04:43:51.28672Z"
        },
        "id": "CFVriUF2mZqK"
      },
      "outputs": [],
      "execution_count": null
    },
    {
      "cell_type": "code",
      "source": [
        "import tensorflow\n",
        "from tensorflow import keras\n",
        "from keras import Sequential\n",
        "from keras.layers import Dense"
      ],
      "metadata": {
        "trusted": true,
        "execution": {
          "iopub.status.busy": "2025-08-22T04:43:51.288679Z",
          "iopub.execute_input": "2025-08-22T04:43:51.288996Z",
          "iopub.status.idle": "2025-08-22T04:43:51.314717Z",
          "shell.execute_reply.started": "2025-08-22T04:43:51.288972Z",
          "shell.execute_reply": "2025-08-22T04:43:51.313803Z"
        },
        "id": "35mznDOImZqL"
      },
      "outputs": [],
      "execution_count": null
    },
    {
      "cell_type": "code",
      "source": [
        "model=Sequential()\n",
        "model.add(Dense(32,activation='relu',input_dim=8))\n",
        "model.add(Dense(1,activation='sigmoid'))\n",
        "\n",
        "model.compile(optimizer='Adam',loss='binary_crossentropy',metrics=['accuracy'])\n"
      ],
      "metadata": {
        "trusted": true,
        "execution": {
          "iopub.status.busy": "2025-08-22T04:50:04.811932Z",
          "iopub.execute_input": "2025-08-22T04:50:04.812205Z",
          "iopub.status.idle": "2025-08-22T04:50:04.848717Z",
          "shell.execute_reply.started": "2025-08-22T04:50:04.812188Z",
          "shell.execute_reply": "2025-08-22T04:50:04.84765Z"
        },
        "id": "-VIwaWAXmZqL"
      },
      "outputs": [],
      "execution_count": null
    },
    {
      "cell_type": "code",
      "source": [
        "model.fit(x_train,y_train,batch_size=32,epochs=70,validation_data=(x_test,y_test))"
      ],
      "metadata": {
        "trusted": true,
        "execution": {
          "iopub.status.busy": "2025-08-22T04:50:05.20088Z",
          "iopub.execute_input": "2025-08-22T04:50:05.201156Z",
          "iopub.status.idle": "2025-08-22T04:50:18.203138Z",
          "shell.execute_reply.started": "2025-08-22T04:50:05.201136Z",
          "shell.execute_reply": "2025-08-22T04:50:18.202172Z"
        },
        "id": "rENfSNAXmZqL"
      },
      "outputs": [],
      "execution_count": null
    },
    {
      "cell_type": "code",
      "source": [
        "import keras_tuner as kt"
      ],
      "metadata": {
        "trusted": true,
        "execution": {
          "iopub.status.busy": "2025-08-22T04:50:21.188424Z",
          "iopub.execute_input": "2025-08-22T04:50:21.18872Z",
          "iopub.status.idle": "2025-08-22T04:50:21.194942Z",
          "shell.execute_reply.started": "2025-08-22T04:50:21.188699Z",
          "shell.execute_reply": "2025-08-22T04:50:21.19304Z"
        },
        "id": "_xw08jLrmZqL"
      },
      "outputs": [],
      "execution_count": null
    },
    {
      "cell_type": "code",
      "source": [
        "def build_model(hp):\n",
        "    model=Sequential()\n",
        "    model.add(Dense(32,activation='relu',input_dim=8))\n",
        "    model.add(Dense(1,activation='sigmoid'))\n",
        "    optimizer=hp.Choice('optimize', values=['adam','sgd','rmsprop','adadelta'])\n",
        "    model.compile(optimizer=optimizer,loss='binary_crossentropy',metrics=['accuracy'])\n",
        "    return model"
      ],
      "metadata": {
        "trusted": true,
        "execution": {
          "iopub.status.busy": "2025-08-22T04:50:30.471559Z",
          "iopub.execute_input": "2025-08-22T04:50:30.47187Z",
          "iopub.status.idle": "2025-08-22T04:50:30.47785Z",
          "shell.execute_reply.started": "2025-08-22T04:50:30.471849Z",
          "shell.execute_reply": "2025-08-22T04:50:30.476527Z"
        },
        "id": "EJ7bLwvbmZqL"
      },
      "outputs": [],
      "execution_count": null
    },
    {
      "cell_type": "code",
      "source": [
        "tuner=kt.RandomSearch(build_model,objective='val_accuracy',max_trials=5)\n",
        "\n",
        "tuner.search(x_train,y_train,epochs=5,validation_data=(x_test,y_test))"
      ],
      "metadata": {
        "trusted": true,
        "execution": {
          "iopub.status.busy": "2025-08-22T04:50:33.050526Z",
          "iopub.execute_input": "2025-08-22T04:50:33.050903Z",
          "iopub.status.idle": "2025-08-22T04:50:33.066047Z",
          "shell.execute_reply.started": "2025-08-22T04:50:33.05088Z",
          "shell.execute_reply": "2025-08-22T04:50:33.065174Z"
        },
        "id": "pE4oYstcmZqL"
      },
      "outputs": [],
      "execution_count": null
    },
    {
      "cell_type": "code",
      "source": [
        "model=tuner.get_best_models(num_models=1)[0]"
      ],
      "metadata": {
        "trusted": true,
        "execution": {
          "iopub.status.busy": "2025-08-22T04:50:46.172446Z",
          "iopub.execute_input": "2025-08-22T04:50:46.172752Z",
          "iopub.status.idle": "2025-08-22T04:50:46.825234Z",
          "shell.execute_reply.started": "2025-08-22T04:50:46.172735Z",
          "shell.execute_reply": "2025-08-22T04:50:46.823822Z"
        },
        "id": "bKPtk55PmZqL"
      },
      "outputs": [],
      "execution_count": null
    },
    {
      "cell_type": "code",
      "source": [
        "\n",
        "\n",
        "model.summary()"
      ],
      "metadata": {
        "trusted": true,
        "execution": {
          "iopub.status.busy": "2025-08-22T04:50:50.400667Z",
          "iopub.execute_input": "2025-08-22T04:50:50.400983Z",
          "iopub.status.idle": "2025-08-22T04:50:50.416688Z",
          "shell.execute_reply.started": "2025-08-22T04:50:50.400962Z",
          "shell.execute_reply": "2025-08-22T04:50:50.415496Z"
        },
        "id": "-CoePEwCmZqL"
      },
      "outputs": [],
      "execution_count": null
    },
    {
      "cell_type": "code",
      "source": [
        "model.fit(x_train,y_train,batch_size=32,epochs=170,initial_epoch=6,validation_data=(x_test,y_test))"
      ],
      "metadata": {
        "trusted": true,
        "execution": {
          "iopub.status.busy": "2025-08-22T04:51:19.912225Z",
          "iopub.execute_input": "2025-08-22T04:51:19.91251Z",
          "iopub.status.idle": "2025-08-22T04:51:44.727232Z",
          "shell.execute_reply.started": "2025-08-22T04:51:19.912488Z",
          "shell.execute_reply": "2025-08-22T04:51:44.725999Z"
        },
        "id": "0zN8kZFPmZqL"
      },
      "outputs": [],
      "execution_count": null
    },
    {
      "cell_type": "code",
      "source": [
        "def build_model(hp):\n",
        "    model=Sequential()\n",
        "    units=hp.Int('units',min_value=8,max_value=128,step=8)\n",
        "    model.add(Dense(units=units,activation='relu',input_dim=8))\n",
        "    model.add(Dense(1,activation='sigmoid'))\n",
        "    optimizer=hp.Choice('optimize', values=['adam','sgd','rmsprop','adadelta'])\n",
        "    model.compile(optimizer=optimizer,loss='binary_crossentropy',metrics=['accuracy'])\n",
        "    return model"
      ],
      "metadata": {
        "trusted": true,
        "execution": {
          "iopub.status.busy": "2025-08-22T04:57:51.760676Z",
          "iopub.execute_input": "2025-08-22T04:57:51.761248Z",
          "iopub.status.idle": "2025-08-22T04:57:51.768135Z",
          "shell.execute_reply.started": "2025-08-22T04:57:51.761215Z",
          "shell.execute_reply": "2025-08-22T04:57:51.766837Z"
        },
        "id": "8DwbZb4PmZqL"
      },
      "outputs": [],
      "execution_count": null
    },
    {
      "cell_type": "code",
      "source": [
        "tuner=kt.RandomSearch(build_model,objective='val_accuracy',max_trials=5,directory='mydir')\n",
        "\n"
      ],
      "metadata": {
        "trusted": true,
        "execution": {
          "iopub.status.busy": "2025-08-22T04:59:15.389181Z",
          "iopub.execute_input": "2025-08-22T04:59:15.389585Z",
          "iopub.status.idle": "2025-08-22T04:59:15.430376Z",
          "shell.execute_reply.started": "2025-08-22T04:59:15.389552Z",
          "shell.execute_reply": "2025-08-22T04:59:15.429394Z"
        },
        "id": "HjVsmQgBmZqM"
      },
      "outputs": [],
      "execution_count": null
    },
    {
      "cell_type": "code",
      "source": [
        "tuner.search(x_train,y_train,epochs=5,validation_data=(x_test,y_test))"
      ],
      "metadata": {
        "trusted": true,
        "execution": {
          "iopub.status.busy": "2025-08-22T04:59:16.960793Z",
          "iopub.execute_input": "2025-08-22T04:59:16.961076Z",
          "iopub.status.idle": "2025-08-22T04:59:30.745893Z",
          "shell.execute_reply.started": "2025-08-22T04:59:16.961057Z",
          "shell.execute_reply": "2025-08-22T04:59:30.744682Z"
        },
        "id": "YZXJgMchmZqM"
      },
      "outputs": [],
      "execution_count": null
    },
    {
      "cell_type": "code",
      "source": [
        "tuner.get_best_hyperparameters()[0].values"
      ],
      "metadata": {
        "trusted": true,
        "execution": {
          "iopub.status.busy": "2025-08-22T05:01:22.901365Z",
          "iopub.execute_input": "2025-08-22T05:01:22.901659Z",
          "iopub.status.idle": "2025-08-22T05:01:22.908248Z",
          "shell.execute_reply.started": "2025-08-22T05:01:22.901638Z",
          "shell.execute_reply": "2025-08-22T05:01:22.907426Z"
        },
        "id": "jOCfOu9ZmZqM"
      },
      "outputs": [],
      "execution_count": null
    },
    {
      "cell_type": "code",
      "source": [
        "model=tuner.get_best_models(num_models=1)[0]"
      ],
      "metadata": {
        "trusted": true,
        "execution": {
          "iopub.status.busy": "2025-08-22T05:02:29.658049Z",
          "iopub.execute_input": "2025-08-22T05:02:29.658343Z",
          "iopub.status.idle": "2025-08-22T05:02:30.3558Z",
          "shell.execute_reply.started": "2025-08-22T05:02:29.658324Z",
          "shell.execute_reply": "2025-08-22T05:02:30.354813Z"
        },
        "id": "BRILrFqGmZqM"
      },
      "outputs": [],
      "execution_count": null
    },
    {
      "cell_type": "code",
      "source": [
        "model.fit(x_train,y_train,batch_size=32,epochs=170,initial_epoch=6,validation_data=(x_test,y_test))"
      ],
      "metadata": {
        "trusted": true,
        "execution": {
          "iopub.status.busy": "2025-08-22T05:03:14.129712Z",
          "iopub.execute_input": "2025-08-22T05:03:14.130642Z",
          "iopub.status.idle": "2025-08-22T05:03:38.017189Z",
          "shell.execute_reply.started": "2025-08-22T05:03:14.13061Z",
          "shell.execute_reply": "2025-08-22T05:03:38.016452Z"
        },
        "id": "6_bvUlLNmZqM"
      },
      "outputs": [],
      "execution_count": null
    },
    {
      "cell_type": "code",
      "source": [
        "def build_model(hp):\n",
        "    model=Sequential()\n",
        "    model.add(Dense(72,activation='relu',input_dim=8))\n",
        "    for i in range(hp.Int('num_layers',min_value=1,max_value=128)):\n",
        "        model.add(Dense(72,activation='relu'))\n",
        "    model.add(Dense(1,activation='sigmoid'))\n",
        "    model.compile(optimizer='rmsprop',loss='binary_crossentropy',metrics=['accuracy'])\n",
        "    return model"
      ],
      "metadata": {
        "trusted": true,
        "execution": {
          "iopub.status.busy": "2025-08-22T05:10:54.57851Z",
          "iopub.execute_input": "2025-08-22T05:10:54.578832Z",
          "iopub.status.idle": "2025-08-22T05:10:54.58494Z",
          "shell.execute_reply.started": "2025-08-22T05:10:54.578809Z",
          "shell.execute_reply": "2025-08-22T05:10:54.583377Z"
        },
        "id": "AudsqTFfmZqM"
      },
      "outputs": [],
      "execution_count": null
    },
    {
      "cell_type": "code",
      "source": [
        "tuner=kt.RandomSearch(build_model,objective='val_accuracy',max_trials=5,directory='mydir1')"
      ],
      "metadata": {
        "trusted": true,
        "execution": {
          "iopub.status.busy": "2025-08-22T05:10:56.007785Z",
          "iopub.execute_input": "2025-08-22T05:10:56.008052Z",
          "iopub.status.idle": "2025-08-22T05:10:56.054692Z",
          "shell.execute_reply.started": "2025-08-22T05:10:56.008034Z",
          "shell.execute_reply": "2025-08-22T05:10:56.053654Z"
        },
        "id": "OzfBea1vmZqM"
      },
      "outputs": [],
      "execution_count": null
    },
    {
      "cell_type": "code",
      "source": [
        "tuner.search(x_train,y_train,epochs=5,validation_data=(x_test,y_test))"
      ],
      "metadata": {
        "trusted": true,
        "execution": {
          "iopub.status.busy": "2025-08-22T05:10:57.439325Z",
          "iopub.execute_input": "2025-08-22T05:10:57.439605Z",
          "iopub.status.idle": "2025-08-22T05:12:25.439469Z",
          "shell.execute_reply.started": "2025-08-22T05:10:57.439586Z",
          "shell.execute_reply": "2025-08-22T05:12:25.438515Z"
        },
        "id": "5gFfEUYVmZqM"
      },
      "outputs": [],
      "execution_count": null
    },
    {
      "cell_type": "code",
      "source": [
        "tuner.get_best_hyperparameters()[0].values"
      ],
      "metadata": {
        "trusted": true,
        "execution": {
          "iopub.status.busy": "2025-08-22T05:12:27.215091Z",
          "iopub.execute_input": "2025-08-22T05:12:27.215372Z",
          "iopub.status.idle": "2025-08-22T05:12:27.222069Z",
          "shell.execute_reply.started": "2025-08-22T05:12:27.215348Z",
          "shell.execute_reply": "2025-08-22T05:12:27.221112Z"
        },
        "id": "_WOrHZSzmZqM"
      },
      "outputs": [],
      "execution_count": null
    },
    {
      "cell_type": "code",
      "source": [
        "model=tuner.get_best_models(num_models=1)[0]"
      ],
      "metadata": {
        "trusted": true,
        "execution": {
          "iopub.status.busy": "2025-08-22T05:12:25.441798Z",
          "iopub.execute_input": "2025-08-22T05:12:25.44208Z",
          "iopub.status.idle": "2025-08-22T05:12:27.214076Z",
          "shell.execute_reply.started": "2025-08-22T05:12:25.442059Z",
          "shell.execute_reply": "2025-08-22T05:12:27.213009Z"
        },
        "id": "vnqUzNbEmZqM"
      },
      "outputs": [],
      "execution_count": null
    },
    {
      "cell_type": "code",
      "source": [
        "model.fit(x_train,y_train,batch_size=32,epochs=170,initial_epoch=6,validation_data=(x_test,y_test))"
      ],
      "metadata": {
        "trusted": true,
        "execution": {
          "iopub.status.busy": "2025-08-22T05:12:27.223847Z",
          "iopub.execute_input": "2025-08-22T05:12:27.224122Z",
          "iopub.status.idle": "2025-08-22T05:13:02.429487Z",
          "shell.execute_reply.started": "2025-08-22T05:12:27.224104Z",
          "shell.execute_reply": "2025-08-22T05:13:02.428561Z"
        },
        "id": "C75WhBnWmZqM"
      },
      "outputs": [],
      "execution_count": null
    },
    {
      "cell_type": "code",
      "source": [],
      "metadata": {
        "trusted": true,
        "id": "mCUAp2T7mZqM"
      },
      "outputs": [],
      "execution_count": null
    }
  ]
}