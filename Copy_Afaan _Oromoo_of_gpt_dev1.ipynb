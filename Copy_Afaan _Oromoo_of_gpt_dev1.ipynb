{
  "nbformat": 4,
  "nbformat_minor": 0,
  "metadata": {
    "colab": {
      "provenance": [],
      "include_colab_link": true
    },
    "kernelspec": {
      "name": "python3",
      "display_name": "Python 3"
    },
    "language_info": {
      "name": "python"
    }
  },
  "cells": [
    {
      "cell_type": "markdown",
      "metadata": {
        "id": "view-in-github",
        "colab_type": "text"
      },
      "source": [
        "<a href=\"https://colab.research.google.com/github/thesis17/Afaan-Oromoo-chatGPT/blob/main/Copy_Afaan%20_Oromoo_of_gpt_dev1.ipynb\" target=\"_parent\"><img src=\"https://colab.research.google.com/assets/colab-badge.svg\" alt=\"Open In Colab\"/></a>"
      ]
    },
    {
      "cell_type": "markdown",
      "source": [
        "## Building a GPT\n",
        "\n",
        "Companion notebook to the [Zero To Hero](https://karpathy.ai/zero-to-hero.html) video on GPT."
      ],
      "metadata": {
        "id": "wJpXpmjEYC_T"
      }
    },
    {
      "cell_type": "code",
      "execution_count": null,
      "metadata": {
        "colab": {
          "base_uri": "https://localhost:8080/"
        },
        "id": "h5hjCcLDr2WC",
        "outputId": "8d6b2fab-8b7e-4d33-df39-f08999ce199f"
      },
      "outputs": [
        {
          "output_type": "stream",
          "name": "stdout",
          "text": [
            "--2025-05-19 02:34:05--  https://raw.githubusercontent.com/karpathy/char-rnn/master/data/tinyshakespeare/input.txt\n",
            "Resolving raw.githubusercontent.com (raw.githubusercontent.com)... 185.199.108.133, 185.199.109.133, 185.199.110.133, ...\n",
            "Connecting to raw.githubusercontent.com (raw.githubusercontent.com)|185.199.108.133|:443... connected.\n",
            "HTTP request sent, awaiting response... 200 OK\n",
            "Length: 1115394 (1.1M) [text/plain]\n",
            "Saving to: ‘input.txt’\n",
            "\n",
            "input.txt           100%[===================>]   1.06M  --.-KB/s    in 0.02s   \n",
            "\n",
            "2025-05-19 02:34:06 (43.5 MB/s) - ‘input.txt’ saved [1115394/1115394]\n",
            "\n"
          ]
        }
      ],
      "source": [
        "# We always start with a dataset to train on. Let's download the tiny shakespeare dataset\n",
        "!wget https://raw.githubusercontent.com/karpathy/char-rnn/master/data/tinyshakespeare/input.txt"
      ]
    },
    {
      "cell_type": "code",
      "source": [
        "import json\n",
        "\n",
        "file = json.load(open('/content/drive/MyDrive/Complete_Thesis/afaan_oromoo_chatgpt_format_dataset.json', \"r\"))\n",
        "print(file[3])"
      ],
      "metadata": {
        "colab": {
          "base_uri": "https://localhost:8080/"
        },
        "id": "lWmgKBRrLaBo",
        "outputId": "1dfb4b65-5ff7-4af8-aa74-3632a8edc75a"
      },
      "execution_count": 54,
      "outputs": [
        {
          "output_type": "stream",
          "name": "stdout",
          "text": [
            "{'idx': 3, 'dhukkuba': 'Kirpitookidiizimii', 'Mallattoo': \"['Mallattoolee qaama saalaa fi qaama saalaa dhiiraa', 'Dhiita'uu qaama saalaa', 'Dhukkubbiin qaama saalaa', 'Flatulence', 'Pus gurra irraa dhangala'uu', 'Jaundice', 'Mass in scrotum', 'Hinqina guddina', ' Dhangala'aan adiin ija irraa bahu', 'Daa'ima aaruu']\", 'sababa': \"Kiriptookidiizimii (kan Giriikii \\\\xce\\\\xba\\\\xcf\\\\x81\\\\xcf\\\\x85\\\\xcf\\\\x80\\\\xcf\\\\x84\\\\xcf\\\\x8c\\\\xcf\\\\x82, kryptos, hiikni dhokataa fi \\\\xe1\\\\xbd\\\\x84\\\\xcf\\\\x81 irraa kan argame \\\\xcf\\\\x87\\\\xce\\\\xb9\\\\xcf\\\\x82, orkiisiin, jechuunis testicle) jechuun testes tokko ykn lamaan isaanii scrotum irraa dhabuudha. Qaama saalaa dhiiraa ilaalchisee mudaa dhalootaa baay’inaan mul’atudha. Haala adda ta’een, kirpitookidizimiin jireenya booda, yeroo baay’ee hanga dargaggummaa ga’eessotaatti guddachuu danda’a. Daa’imman dhiiraa yeroo guutuu dhalatan keessaa gara %3 fi yeroo malee dhalatan keessaa %30 yoo xiqqaate qaama saalaa dhiiraa tokko kan hin buune qabatanii dhalatan. Haa ta'u malee, gara %80 kan ta'an testes cryptorchid waggaa jalqabaa jireenya isaaniitti (harki caalaan isaanii ji'a sadii keessatti) gadi bu'u, kunis taatee dhugaa cryptorchidism walumaa galatti naannoo %1 taasisa. Cryptorchidism monorkism haala qaama saalaa tokko qofa qabaachuu irraa adda.\", 'QormaataFiHojimaata': \"['Qorannoo gogaa qaamaa guutuu raawwatame (ML)', 'Ultrasonography (Ultrasound)', 'Qorannoo qaama saalaa', 'Qorannoo qaama saalaa', 'Hojimaata wal'aansaa YKN biroo; qaama saalaa dhiiraa', 'Hojimaata sirna narvii wal'aansaa YKN biroo', 'Madaallii wal'aansa hojii (Yaala dubbii)']\", 'Qorichoota Beekamoo': \"['Talaallii Konjugeetii Heemophilus B (Duumne)', 'Talaallii Hepatitis B (Duumne)', 'Talaallii Rotavirus (Talaallii Rotavirus)', 'Desoximetasone Topical']\"}\n"
          ]
        }
      ]
    },
    {
      "cell_type": "code",
      "source": [
        "from google.colab import drive\n",
        "drive.mount('/content/drive')"
      ],
      "metadata": {
        "id": "CMegR-mXLvPy",
        "colab": {
          "base_uri": "https://localhost:8080/"
        },
        "outputId": "7b630cb1-4ee6-4020-9834-44d4fc8e3b9e"
      },
      "execution_count": 5,
      "outputs": [
        {
          "output_type": "stream",
          "name": "stdout",
          "text": [
            "Mounted at /content/drive\n"
          ]
        }
      ]
    },
    {
      "cell_type": "code",
      "source": [
        "# read it in to inspect it\n",
        "with open('/content/drive/MyDrive/Complete_Thesis/afaan_oromoo_chatgpt_format_dataset.json', 'r', encoding='utf-8') as f:\n",
        "    file = f.read()"
      ],
      "metadata": {
        "id": "O6medjfRsLD9"
      },
      "execution_count": 10,
      "outputs": []
    },
    {
      "cell_type": "code",
      "source": [
        "print(\"length of dataset in characters: \", len(file))"
      ],
      "metadata": {
        "colab": {
          "base_uri": "https://localhost:8080/"
        },
        "id": "6xWI_VyAsN8F",
        "outputId": "dca81dfd-8c8e-48eb-af85-5f2712e765e8"
      },
      "execution_count": 12,
      "outputs": [
        {
          "output_type": "stream",
          "name": "stdout",
          "text": [
            "length of dataset in characters:  1112720\n"
          ]
        }
      ]
    },
    {
      "cell_type": "code",
      "source": [
        "# let's look at the first 1000 characters\n",
        "print(file[:3000])"
      ],
      "metadata": {
        "colab": {
          "base_uri": "https://localhost:8080/"
        },
        "id": "2c5V0FvqseE0",
        "outputId": "e064c8ab-2c75-49cc-b867-3fe422437675"
      },
      "execution_count": 51,
      "outputs": [
        {
          "output_type": "stream",
          "name": "stdout",
          "text": [
            "[\n",
            "  {\n",
            "    \"idx\": 0,\n",
            "    \"dhukkuba\": \"Dhibee rifachuu (Panic disorder).\",\n",
            "    \"Mallattoo\": \"['Yaaddoo fi rifachuu', 'Dhiphina sammuu', 'Hafuura baafachuu dadhabuu', 'Mallattoolee dhiphina sammuu ykn sammuu', 'Dhukkubbiin garaa qara', 'Mataa', 'Hirriba dhabuu', 'Sochii fedhii malee hin baramne', 'Garaa dhiphachuu', ' Dha'annaa onnee', 'Dha'annaa onnee sirrii hin taane', 'Saffisaan hafuura baafachuu']\",\n",
            "    \"sababa\": \"Panic disorder jechuun dhibee yaaddoo ta’ee fi rifachuu cimaa irra deddeebi’amee dhufuun kan beekamudha. Akkasumas jijjiirama amala guddaa yoo xiqqaate ji’a tokkoof turuu fi dhiibbaa inni geessisu ykn yaaddoo haleellaa biroo qabaachuu itti fufiinsa qabu of keessatti qabachuu danda’a. Kanneen lammaffaa ammoo haleellaa dursanii (anticiptory attacks) (DSM-IVR) jedhamu. Jeeqamni rifachuu (panic disorder) fi agoraphobia (sodaa bakka namoonni baay’een itti baay’atu) wajjin tokko miti, haa ta’u malee, namoonni baay’een dhibee rifachuudhaan qabamanis agoraphobia’n kan rakkatan ta’us. Rifachuun tilmaamuun hin danda’amu, kanaaf namni dhuunfaa tokko rifachuun itti aanu yoom akka uumamu yaaduudhaan dhiphina, yaaddoo ykn yaadda’uu danda’a. Dhibeen rifachuu akka haala fayyaa, ykn madaallii keemikaalaa dhabuutti adda baafamuu danda’a. DSM-IV-TR jeequmsa rifachuu fi yaaddoo haala adda ta’een ibsa. Yaaddoon dhiphina yeroo dheeraa kan durfamu yoo ta’u, kunis deebii cimina giddu galeessaa guyyoota, torban ykn ji’ootaaf turuu danda’u irratti kan ijaaramu yoo ta’u, rifachuun taateewwan ciccimoo sababa tasa, kan hin mul’anneen kan ka’an yoo ta’u: yeroon isaa gabaabaa fi mallattoon isaa baay’eedha cimaa. Rifachuun daa’imman, akkasumas ga’eessota irratti mul’achuu danda’a. Keessattuu ijoolleen waan ta’aa jiru irratti hubannoo xiqqaa waan qabaniif, warri yeroo weerarri isaan mudates dhiphinni isaan mudachuu hin oolu.\",\n",
            "    \"QormaataFiHojimaata\": \"['Saayikooteeraapii', 'Gorsa fayyaa sammuu', 'Elektrookaardiyoogiraamii', 'Iskiriinii dhiphina sammuu (Skiriinii dhiphina sammuu)', 'Iskiriinii summii', 'Madaallii fi yaala saayikoloojii fi sammuu']\",\n",
            "    \"Qorichoota Beekamoo\": \"['Lorazepam', 'Alprazolam (Xanax)', 'Clonazepam', 'Paroxetine (Paxil)', 'Venlafaxine (Effexor)', 'Mirtazapine', 'Buspirone (Buspar)', 'Fluvoxamine (Luvox)', 'Imipramine ', 'Desvenlafaxine (Pristiq)', 1999 irratti kan argamu 'Klomipramine', 'Akaampirooseetii (Kaampral)']\"\n",
            "  },\n",
            "  {\n",
            "    \"idx\": 1,\n",
            "    \"dhukkuba\": \"Poolippii funyoo sagalee\",\n",
            "    \"Mallattoo\": \"['Sagalee hoarse', 'Dhukkubbii qoonqoo', 'Dubbuu dubbachuuf rakkachuu', 'Qufaa', 'Dhiphina hidhii', 'Dhiphina qoonqoo', 'Dhaga'uu hir'achuu', 'Qonqoo keessatti citaa', 'Qonoon dhiphina itti dhaga'ama', 'Rakkoon liqimsuu', 'Dhiita'uu gogaa', 'Fincaan qabachuu']\",\n",
            "    \"sababa\": \"beclomethasone oomisha hidhii,\",\n",
            "    \"QormaataFiHojimaata\": \"['Tiraakiyooskoopii fi laariingoskoopii baayoopsii waliin', 'Madaallii wal'aansa hojii (Yaala dubbii)', 'Hojimaata adda baasuu biroo (af-gaaffii; madaallii; marii)', 'Shaakala wal'aansa qaamaa (Shaakala)', 'Hoj\n"
          ]
        }
      ]
    },
    {
      "cell_type": "code",
      "source": [
        "# here are all the unique characters that occur in this text\n",
        "chars = sorted(list(set(file)))\n",
        "vocab_size = len(chars)\n",
        "print(''.join(chars))\n",
        "print(vocab_size)"
      ],
      "metadata": {
        "colab": {
          "base_uri": "https://localhost:8080/"
        },
        "id": "0e-Rbyr8sfM8",
        "outputId": "5900c0c0-f043-4adf-8d2c-4515cc184535"
      },
      "execution_count": 18,
      "outputs": [
        {
          "output_type": "stream",
          "name": "stdout",
          "text": [
            "\n",
            " \"#%&'()+,-./0123456789:;<=>?ABCDEFGHIJKLMNOPQRSTUVWXYZ[\\]`abcdefghijklmnopqrstuvwxyz{}ʼ​‘’\n",
            "92\n"
          ]
        }
      ]
    },
    {
      "cell_type": "code",
      "source": [
        "# create a mapping from characters to integers\n",
        "stoi = { ch:i for i,ch in enumerate(chars) }\n",
        "itos = { i:ch for i,ch in enumerate(chars) }\n",
        "encode = lambda s: [stoi[c] for c in s] # encoder: take a string, output a list of integers\n",
        "decode = lambda l: ''.join([itos[i] for i in l]) # decoder: take a list of integers, output a string\n",
        "\n",
        "print(encode(\"hii there\"))\n",
        "print(decode(encode(\"hii there\")))"
      ],
      "metadata": {
        "colab": {
          "base_uri": "https://localhost:8080/"
        },
        "id": "Yw1LKNCgwjj1",
        "outputId": "baea7cea-de6c-4967-c5f9-c4249d9caeb4"
      },
      "execution_count": 19,
      "outputs": [
        {
          "output_type": "stream",
          "name": "stdout",
          "text": [
            "[67, 68, 68, 1, 79, 67, 64, 77, 64]\n",
            "hii there\n"
          ]
        }
      ]
    },
    {
      "cell_type": "code",
      "source": [
        "# let's now encode the entire text dataset and store it into a torch.Tensor\n",
        "import torch # we use PyTorch: https://pytorch.org\n",
        "data = torch.tensor(encode(file), dtype=torch.long)\n",
        "print(data.shape, data.dtype)\n",
        "print(data[:1000]) # the 1000 characters we looked at earier will to the GPT look like this"
      ],
      "metadata": {
        "colab": {
          "base_uri": "https://localhost:8080/"
        },
        "id": "YJb0OXPwzvqg",
        "outputId": "50052892-acff-43ee-f71d-fad18f5f6275"
      },
      "execution_count": 21,
      "outputs": [
        {
          "output_type": "stream",
          "name": "stdout",
          "text": [
            "torch.Size([1112720]) torch.int64\n",
            "tensor([56,  0,  1,  1, 86,  0,  1,  1,  1,  1,  2, 68, 63, 83,  2, 24,  1, 14,\n",
            "        10,  0,  1,  1,  1,  1,  2, 63, 67, 80, 70, 70, 80, 61, 60,  2, 24,  1,\n",
            "         2, 33, 67, 68, 61, 64, 64,  1, 77, 68, 65, 60, 62, 67, 80, 80,  1,  7,\n",
            "        45, 60, 73, 68, 62,  1, 63, 68, 78, 74, 77, 63, 64, 77,  8, 12,  2, 10,\n",
            "         0,  1,  1,  1,  1,  2, 42, 60, 71, 71, 60, 79, 79, 74, 74,  2, 24,  1,\n",
            "         2, 56,  6, 54, 60, 60, 63, 63, 74, 74,  1, 65, 68,  1, 77, 68, 65, 60,\n",
            "        62, 67, 80, 80,  6, 10,  1,  6, 33, 67, 68, 75, 67, 68, 73, 60,  1, 78,\n",
            "        60, 72, 72, 80, 80,  6, 10,  1,  6, 37, 60, 65, 80, 80, 77, 60,  1, 61,\n",
            "        60, 60, 65, 60, 62, 67, 80, 80,  1, 63, 60, 63, 67, 60, 61, 80, 80,  6,\n",
            "        10,  1,  6, 42, 60, 71, 71, 60, 79, 79, 74, 74, 71, 64, 64,  1, 63, 67,\n",
            "        68, 75, 67, 68, 73, 60,  1, 78, 60, 72, 72, 80, 80,  1, 84, 70, 73,  1,\n",
            "        78, 60, 72, 72, 80, 80,  6, 10,  1,  6, 33, 67, 80, 70, 70, 80, 61, 61,\n",
            "        68, 68, 73,  1, 66, 60, 77, 60, 60,  1, 76, 60, 77, 60,  6, 10,  1,  6,\n",
            "        42, 60, 79, 60, 60,  6, 10,  1,  6, 37, 68, 77, 77, 68, 61, 60,  1, 63,\n",
            "        67, 60, 61, 80, 80,  6, 10,  1,  6, 48, 74, 62, 67, 68, 68,  1, 65, 64,\n",
            "        63, 67, 68, 68,  1, 72, 60, 71, 64, 64,  1, 67, 68, 73,  1, 61, 60, 77,\n",
            "        60, 72, 73, 64,  6, 10,  1,  6, 36, 60, 77, 60, 60,  1, 63, 67, 68, 75,\n",
            "        67, 60, 62, 67, 80, 80,  6, 10,  1,  6,  1, 33, 67, 60,  6, 60, 73, 73,\n",
            "        60, 60,  1, 74, 73, 73, 64, 64,  6, 10,  1,  6, 33, 67, 60,  6, 60, 73,\n",
            "        73, 60, 60,  1, 74, 73, 73, 64, 64,  1, 78, 68, 77, 77, 68, 68,  1, 67,\n",
            "        68, 73,  1, 79, 60, 60, 73, 64,  6, 10,  1,  6, 48, 60, 65, 65, 68, 78,\n",
            "        60, 60, 73,  1, 67, 60, 65, 80, 80, 77, 60,  1, 61, 60, 60, 65, 60, 62,\n",
            "        67, 80, 80,  6, 58,  2, 10,  0,  1,  1,  1,  1,  2, 78, 60, 61, 60, 61,\n",
            "        60,  2, 24,  1,  2, 45, 60, 73, 68, 62,  1, 63, 68, 78, 74, 77, 63, 64,\n",
            "        77,  1, 69, 64, 62, 67, 80, 80, 73,  1, 63, 67, 68, 61, 64, 64,  1, 84,\n",
            "        60, 60, 63, 63, 74, 74,  1, 79, 60, 91, 64, 64,  1, 65, 68,  1, 77, 68,\n",
            "        65, 60, 62, 67, 80, 80,  1, 62, 68, 72, 60, 60,  1, 68, 77, 77, 60,  1,\n",
            "        63, 64, 63, 63, 64, 64, 61, 68, 91, 60, 72, 64, 64,  1, 63, 67, 80, 65,\n",
            "        80, 80, 73,  1, 70, 60, 73,  1, 61, 64, 64, 70, 60, 72, 80, 63, 67, 60,\n",
            "        12,  1, 30, 70, 70, 60, 78, 80, 72, 60, 78,  1, 69, 68, 69, 69, 68, 68,\n",
            "        77, 60, 72, 60,  1, 60, 72, 60, 71, 60,  1, 66, 80, 63, 63, 60, 60,  1,\n",
            "        84, 74, 74,  1, 83, 68, 76, 76, 60, 60, 79, 64,  1, 69, 68, 91, 60,  1,\n",
            "        79, 74, 70, 70, 74, 74, 65,  1, 79, 80, 77, 80, 80,  1, 65, 68,  1, 63,\n",
            "        67, 68, 68, 61, 61, 60, 60,  1, 68, 73, 73, 68,  1, 66, 64, 64, 78, 78,\n",
            "        68, 78, 80,  1, 84, 70, 73,  1, 84, 60, 60, 63, 63, 74, 74,  1, 67, 60,\n",
            "        71, 64, 64, 71, 71, 60, 60,  1, 61, 68, 77, 74, 74,  1, 76, 60, 61, 60,\n",
            "        60, 62, 67, 80, 80,  1, 68, 79, 79, 68,  1, 65, 80, 65, 68, 68, 73, 78,\n",
            "        60,  1, 76, 60, 61, 80,  1, 74, 65,  1, 70, 64, 64, 78, 78, 60, 79, 79,\n",
            "        68,  1, 76, 60, 61, 60, 62, 67, 80, 80,  1, 63, 60, 73, 63, 60, 91, 60,\n",
            "        12,  1, 40, 60, 73, 73, 64, 64, 73,  1, 71, 60, 72, 72, 60, 65, 65, 60,\n",
            "        60,  1, 60, 72, 72, 74, 74,  1, 67, 60, 71, 64, 64, 71, 71, 60, 60,  1,\n",
            "        63, 80, 77, 78, 60, 73, 68, 68,  1,  7, 60, 73, 79, 68, 62, 68, 75, 79,\n",
            "        74, 77, 84,  1, 60, 79, 79, 60, 62, 70, 78,  8,  1,  7, 33, 48, 42, 11,\n",
            "        38, 51, 47,  8,  1, 69, 64, 63, 67, 60, 72, 80, 12,  1, 39, 64, 64, 76,\n",
            "        60, 72, 73, 68,  1, 77, 68, 65, 60, 62, 67, 80, 80,  1,  7, 75, 60, 73,\n",
            "        68, 62,  1, 63, 68, 78, 74, 77, 63, 64, 77,  8,  1, 65, 68,  1, 60, 66,\n",
            "        74, 77, 60, 75, 67, 74, 61, 68, 60,  1,  7, 78, 74, 63, 60, 60,  1, 61,\n",
            "        60, 70, 70, 60,  1, 73, 60, 72, 74, 74, 73, 73, 68,  1, 61, 60, 60, 84,\n",
            "        91, 64, 64, 73,  1, 68, 79, 79, 68,  1, 61, 60, 60, 84, 91, 60, 79, 80,\n",
            "         8,  1, 82, 60, 69, 69, 68, 73,  1, 79, 74, 70, 70, 74,  1, 72, 68, 79,\n",
            "        68, 10,  1, 67, 60, 60,  1, 79, 60, 91, 80,  1, 72, 60, 71, 64, 64, 10,\n",
            "         1, 73, 60, 72, 74, 74, 73, 73, 68,  1, 61, 60, 60, 84, 91, 64, 64, 73,\n",
            "         1, 63, 67, 68, 61, 64, 64,  1, 77, 68, 65, 60, 62, 67, 80, 80, 63, 67,\n",
            "        60, 60, 73,  1, 76, 60, 61, 60, 72, 60, 73, 68, 78,  1, 60, 66, 74, 77,\n",
            "        60, 75, 67, 74, 61, 68, 60, 91, 73,  1, 70, 60, 73,  1, 77, 60, 70, 70,\n",
            "        60, 79, 60, 73,  1, 79, 60, 91, 80, 78])\n"
          ]
        }
      ]
    },
    {
      "cell_type": "code",
      "source": [
        "# Let's now split up the data into train and validation sets\n",
        "n = int(0.9*len(data)) # first 90% will be train, rest val\n",
        "train_data = data[:n]\n",
        "val_data = data[n:]"
      ],
      "metadata": {
        "id": "f_WIXqxz0lU5"
      },
      "execution_count": 22,
      "outputs": []
    },
    {
      "cell_type": "code",
      "source": [
        "block_size = 8\n",
        "train_data[:block_size+1]"
      ],
      "metadata": {
        "colab": {
          "base_uri": "https://localhost:8080/"
        },
        "id": "TD5Bj8Y6IAD4",
        "outputId": "b651854a-19f7-437d-d602-f11f9b5df1b6"
      },
      "execution_count": 23,
      "outputs": [
        {
          "output_type": "execute_result",
          "data": {
            "text/plain": [
              "tensor([56,  0,  1,  1, 86,  0,  1,  1,  1])"
            ]
          },
          "metadata": {},
          "execution_count": 23
        }
      ]
    },
    {
      "cell_type": "code",
      "source": [
        "x = train_data[:block_size]\n",
        "y = train_data[1:block_size+1]\n",
        "for t in range(block_size):\n",
        "    context = x[:t+1]\n",
        "    target = y[t]\n",
        "    print(f\"when input is {context} the target: {target}\")"
      ],
      "metadata": {
        "colab": {
          "base_uri": "https://localhost:8080/"
        },
        "id": "9HXDe8vGJCEn",
        "outputId": "ee67a4c7-8592-4686-d1b9-ed89a00e594b"
      },
      "execution_count": 24,
      "outputs": [
        {
          "output_type": "stream",
          "name": "stdout",
          "text": [
            "when input is tensor([56]) the target: 0\n",
            "when input is tensor([56,  0]) the target: 1\n",
            "when input is tensor([56,  0,  1]) the target: 1\n",
            "when input is tensor([56,  0,  1,  1]) the target: 86\n",
            "when input is tensor([56,  0,  1,  1, 86]) the target: 0\n",
            "when input is tensor([56,  0,  1,  1, 86,  0]) the target: 1\n",
            "when input is tensor([56,  0,  1,  1, 86,  0,  1]) the target: 1\n",
            "when input is tensor([56,  0,  1,  1, 86,  0,  1,  1]) the target: 1\n"
          ]
        }
      ]
    },
    {
      "cell_type": "code",
      "source": [
        "torch.manual_seed(1337)\n",
        "batch_size = 4 # how many independent sequences will we process in parallel?\n",
        "block_size = 8 # what is the maximum context length for predictions?\n",
        "\n",
        "def get_batch(split):\n",
        "    # generate a small batch of data of inputs x and targets y\n",
        "    data = train_data if split == 'train' else val_data\n",
        "    ix = torch.randint(len(data) - block_size, (batch_size,))\n",
        "    x = torch.stack([data[i:i+block_size] for i in ix])\n",
        "    y = torch.stack([data[i+1:i+block_size+1] for i in ix])\n",
        "    return x, y\n",
        "\n",
        "xb, yb = get_batch('train')\n",
        "print('inputs:')\n",
        "print(xb.shape)\n",
        "print(xb)\n",
        "print('targets:')\n",
        "print(yb.shape)\n",
        "print(yb)\n",
        "\n",
        "print('----')\n",
        "\n",
        "for b in range(batch_size): # batch dimension\n",
        "    for t in range(block_size): # time dimension\n",
        "        context = xb[b, :t+1]\n",
        "        target = yb[b,t]\n",
        "        print(f\"when input is {context.tolist()} the target: {target}\")"
      ],
      "metadata": {
        "colab": {
          "base_uri": "https://localhost:8080/"
        },
        "id": "Q3k1Czf7LuA9",
        "outputId": "02a98530-2150-41b6-8124-b7e634f85ac2"
      },
      "execution_count": 25,
      "outputs": [
        {
          "output_type": "stream",
          "name": "stdout",
          "text": [
            "inputs:\n",
            "torch.Size([4, 8])\n",
            "tensor([[61, 68, 68,  1, 66, 80, 77, 77],\n",
            "        [ 1, 84, 74, 74,  1, 79, 60,  6],\n",
            "        [44, 77, 79, 67, 74,  1, 32, 84],\n",
            "        [10,  1,  6, 49, 74, 71, 73, 60]])\n",
            "targets:\n",
            "torch.Size([4, 8])\n",
            "tensor([[68, 68,  1, 66, 80, 77, 77, 60],\n",
            "        [84, 74, 74,  1, 79, 60,  6, 80],\n",
            "        [77, 79, 67, 74,  1, 32, 84, 62],\n",
            "        [ 1,  6, 49, 74, 71, 73, 60, 65]])\n",
            "----\n",
            "when input is [61] the target: 68\n",
            "when input is [61, 68] the target: 68\n",
            "when input is [61, 68, 68] the target: 1\n",
            "when input is [61, 68, 68, 1] the target: 66\n",
            "when input is [61, 68, 68, 1, 66] the target: 80\n",
            "when input is [61, 68, 68, 1, 66, 80] the target: 77\n",
            "when input is [61, 68, 68, 1, 66, 80, 77] the target: 77\n",
            "when input is [61, 68, 68, 1, 66, 80, 77, 77] the target: 60\n",
            "when input is [1] the target: 84\n",
            "when input is [1, 84] the target: 74\n",
            "when input is [1, 84, 74] the target: 74\n",
            "when input is [1, 84, 74, 74] the target: 1\n",
            "when input is [1, 84, 74, 74, 1] the target: 79\n",
            "when input is [1, 84, 74, 74, 1, 79] the target: 60\n",
            "when input is [1, 84, 74, 74, 1, 79, 60] the target: 6\n",
            "when input is [1, 84, 74, 74, 1, 79, 60, 6] the target: 80\n",
            "when input is [44] the target: 77\n",
            "when input is [44, 77] the target: 79\n",
            "when input is [44, 77, 79] the target: 67\n",
            "when input is [44, 77, 79, 67] the target: 74\n",
            "when input is [44, 77, 79, 67, 74] the target: 1\n",
            "when input is [44, 77, 79, 67, 74, 1] the target: 32\n",
            "when input is [44, 77, 79, 67, 74, 1, 32] the target: 84\n",
            "when input is [44, 77, 79, 67, 74, 1, 32, 84] the target: 62\n",
            "when input is [10] the target: 1\n",
            "when input is [10, 1] the target: 6\n",
            "when input is [10, 1, 6] the target: 49\n",
            "when input is [10, 1, 6, 49] the target: 74\n",
            "when input is [10, 1, 6, 49, 74] the target: 71\n",
            "when input is [10, 1, 6, 49, 74, 71] the target: 73\n",
            "when input is [10, 1, 6, 49, 74, 71, 73] the target: 60\n",
            "when input is [10, 1, 6, 49, 74, 71, 73, 60] the target: 65\n"
          ]
        }
      ]
    },
    {
      "cell_type": "code",
      "source": [
        "print(xb) # our input to the transformer"
      ],
      "metadata": {
        "colab": {
          "base_uri": "https://localhost:8080/"
        },
        "id": "qpyyAeIzQjlO",
        "outputId": "36bae05f-3b39-48ee-c3f2-5e96d72e5146"
      },
      "execution_count": 26,
      "outputs": [
        {
          "output_type": "stream",
          "name": "stdout",
          "text": [
            "tensor([[61, 68, 68,  1, 66, 80, 77, 77],\n",
            "        [ 1, 84, 74, 74,  1, 79, 60,  6],\n",
            "        [44, 77, 79, 67, 74,  1, 32, 84],\n",
            "        [10,  1,  6, 49, 74, 71, 73, 60]])\n"
          ]
        }
      ]
    },
    {
      "cell_type": "code",
      "source": [
        "import torch\n",
        "import torch.nn as nn\n",
        "from torch.nn import functional as F\n",
        "torch.manual_seed(1337)\n",
        "\n",
        "class BigramLanguageModel(nn.Module):\n",
        "\n",
        "    def __init__(self, vocab_size):\n",
        "        super().__init__()\n",
        "        # each token directly reads off the logits for the next token from a lookup table\n",
        "        self.token_embedding_table = nn.Embedding(vocab_size, vocab_size)\n",
        "\n",
        "    def forward(self, idx, targets=None):\n",
        "\n",
        "        # idx and targets are both (B,T) tensor of integers\n",
        "        logits = self.token_embedding_table(idx) # (B,T,C)\n",
        "\n",
        "        if targets is None:\n",
        "            loss = None\n",
        "        else:\n",
        "            B, T, C = logits.shape\n",
        "            logits = logits.view(B*T, C)\n",
        "            targets = targets.view(B*T)\n",
        "            loss = F.cross_entropy(logits, targets)\n",
        "\n",
        "        return logits, loss\n",
        "\n",
        "    def generate(self, idx, max_new_tokens):\n",
        "        # idx is (B, T) array of indices in the current context\n",
        "        for _ in range(max_new_tokens):\n",
        "            # get the predictions\n",
        "            logits, loss = self(idx)\n",
        "            # focus only on the last time step\n",
        "            logits = logits[:, -1, :] # becomes (B, C)\n",
        "            # apply softmax to get probabilities\n",
        "            probs = F.softmax(logits, dim=-1) # (B, C)\n",
        "            # sample from the distribution\n",
        "            idx_next = torch.multinomial(probs, num_samples=1) # (B, 1)\n",
        "            # append sampled index to the running sequence\n",
        "            idx = torch.cat((idx, idx_next), dim=1) # (B, T+1)\n",
        "        return idx\n",
        "\n",
        "m = BigramLanguageModel(vocab_size)\n",
        "logits, loss = m(xb, yb)\n",
        "print(logits.shape)\n",
        "print(loss)\n",
        "\n",
        "print(decode(m.generate(idx = torch.zeros((1, 1), dtype=torch.long), max_new_tokens=100)[0].tolist()))\n"
      ],
      "metadata": {
        "colab": {
          "base_uri": "https://localhost:8080/"
        },
        "id": "nql_1ER53oCf",
        "outputId": "00da581e-015c-45b5-dbaa-1cfbf8f6accf"
      },
      "execution_count": 27,
      "outputs": [
        {
          "output_type": "stream",
          "name": "stdout",
          "text": [
            "torch.Size([32, 92])\n",
            "tensor(5.1515, grad_fn=<NllLossBackward0>)\n",
            "\n",
            "j:(2xG;‘:w<m0Q49q’f[TL[G.yj33[xdK5oexyQnY&:r) Bqznm'=+-S{i‘zqKvEʼ%m9K&=2q]XLt)\"Of‘-Wf7g>i5i-XIJv4li5\n"
          ]
        }
      ]
    },
    {
      "cell_type": "code",
      "source": [
        "# create a PyTorch optimizer\n",
        "optimizer = torch.optim.AdamW(m.parameters(), lr=1e-3)"
      ],
      "metadata": {
        "id": "eTyJ8qAaDdiF"
      },
      "execution_count": 28,
      "outputs": []
    },
    {
      "cell_type": "code",
      "source": [
        "batch_size = 32\n",
        "for steps in range(100): # increase number of steps for good results...\n",
        "\n",
        "    # sample a batch of data\n",
        "    xb, yb = get_batch('train')\n",
        "\n",
        "    # evaluate the loss\n",
        "    logits, loss = m(xb, yb)\n",
        "    optimizer.zero_grad(set_to_none=True)\n",
        "    loss.backward()\n",
        "    optimizer.step()\n",
        "\n",
        "print(loss.item())\n"
      ],
      "metadata": {
        "colab": {
          "base_uri": "https://localhost:8080/"
        },
        "id": "Hs4kI8YdEkQj",
        "outputId": "8cfcb8ab-ba37-44ab-89eb-c1352d5ed6f3"
      },
      "execution_count": 29,
      "outputs": [
        {
          "output_type": "stream",
          "name": "stdout",
          "text": [
            "4.833554744720459\n"
          ]
        }
      ]
    },
    {
      "cell_type": "code",
      "source": [
        "print(decode(m.generate(idx = torch.zeros((1, 1), dtype=torch.long), max_new_tokens=500)[0].tolist()))"
      ],
      "metadata": {
        "colab": {
          "base_uri": "https://localhost:8080/"
        },
        "id": "EcVIDWAZEtjN",
        "outputId": "e9c61803-dd4d-4dfa-9a88-a33988ea4381"
      },
      "execution_count": 30,
      "outputs": [
        {
          "output_type": "stream",
          "name": "stdout",
          "text": [
            "\n",
            "YC&4485Jt\\XTYc<GNmuU]Jn​i33/bZF5HQZdTXk+LsQgZiT(kE];3KIqt#c,Xw‘\\GoqQ6rpWnF:\"’i1N215f9FYdexMyd-?.: 1I`[o0(h:#​Sʼ-Ce93-G?;7K{mUd<oI&L4(5gZ\\5 gIC5T.7#O‘fOL>:'NzfZ?:gf3/Z?05hvcVRIp<’T`#z49QZA,/0v/+GD=7<okapZ =;,s?7 rIVpa)IJ15exMD‘W..zT2\n",
            "b#x40hRm#O-#LHBmN%(75a7j--:/\"?z%jX0uw=3:ZOhAgoub-F6rsJnngfxA,\\Xt06A’;eyFVm>qaU]ʼ\\\\hKT`zuqIOT#Rz50v1\"AWYz7T{'AW.X`7>rU)U i-0b7h<hJQy’N4X\\Y​D\"\n",
            "p​CnDE7s-<S+]3\n",
            "u8,I3+]​M%XeDEH'S?S]RU)SHnTPAZ9q];‘%d.’od16vOfnMqXJ[\n",
            "j;wV:,[D<o)ly1O(#l0’o`4k`GM'N<m`[U​pb7gocO9Q3#[e]I4},3aF‘2\n"
          ]
        }
      ]
    },
    {
      "cell_type": "markdown",
      "source": [
        "## The mathematical trick in self-attention"
      ],
      "metadata": {
        "id": "XinV8nmAnmKN"
      }
    },
    {
      "cell_type": "code",
      "source": [
        "# toy example illustrating how matrix multiplication can be used for a \"weighted aggregation\"\n",
        "torch.manual_seed(42)\n",
        "a = torch.tril(torch.ones(3, 3))\n",
        "a = a / torch.sum(a, 1, keepdim=True)\n",
        "b = torch.randint(0,10,(3,2)).float()\n",
        "c = a @ b\n",
        "print('a=')\n",
        "print(a)\n",
        "print('--')\n",
        "print('b=')\n",
        "print(b)\n",
        "print('--')\n",
        "print('c=')\n",
        "print(c)"
      ],
      "metadata": {
        "colab": {
          "base_uri": "https://localhost:8080/"
        },
        "id": "tukiH-NbRBhA",
        "outputId": "18b5ba44-0f22-4b70-8da9-23b95bcb2d7a"
      },
      "execution_count": 31,
      "outputs": [
        {
          "output_type": "stream",
          "name": "stdout",
          "text": [
            "a=\n",
            "tensor([[1.0000, 0.0000, 0.0000],\n",
            "        [0.5000, 0.5000, 0.0000],\n",
            "        [0.3333, 0.3333, 0.3333]])\n",
            "--\n",
            "b=\n",
            "tensor([[2., 7.],\n",
            "        [6., 4.],\n",
            "        [6., 5.]])\n",
            "--\n",
            "c=\n",
            "tensor([[2.0000, 7.0000],\n",
            "        [4.0000, 5.5000],\n",
            "        [4.6667, 5.3333]])\n"
          ]
        }
      ]
    },
    {
      "cell_type": "code",
      "source": [
        "# consider the following toy example:\n",
        "\n",
        "torch.manual_seed(1337)\n",
        "B,T,C = 4,8,2 # batch, time, channels\n",
        "x = torch.randn(B,T,C)\n",
        "x.shape"
      ],
      "metadata": {
        "colab": {
          "base_uri": "https://localhost:8080/"
        },
        "id": "Hs_E24uRE8kr",
        "outputId": "6adc75f5-4a48-49a1-85d3-ee6ab8aa80a8"
      },
      "execution_count": 32,
      "outputs": [
        {
          "output_type": "execute_result",
          "data": {
            "text/plain": [
              "torch.Size([4, 8, 2])"
            ]
          },
          "metadata": {},
          "execution_count": 32
        }
      ]
    },
    {
      "cell_type": "code",
      "source": [
        "# We want x[b,t] = mean_{i<=t} x[b,i]\n",
        "xbow = torch.zeros((B,T,C))\n",
        "for b in range(B):\n",
        "    for t in range(T):\n",
        "        xprev = x[b,:t+1] # (t,C)\n",
        "        xbow[b,t] = torch.mean(xprev, 0)\n"
      ],
      "metadata": {
        "id": "86NuXX0fn7ps"
      },
      "execution_count": 33,
      "outputs": []
    },
    {
      "cell_type": "code",
      "source": [
        "# version 2: using matrix multiply for a weighted aggregation\n",
        "wei = torch.tril(torch.ones(T, T))\n",
        "wei = wei / wei.sum(1, keepdim=True)\n",
        "xbow2 = wei @ x # (B, T, T) @ (B, T, C) ----> (B, T, C)\n",
        "torch.allclose(xbow, xbow2)"
      ],
      "metadata": {
        "colab": {
          "base_uri": "https://localhost:8080/"
        },
        "id": "yhdOAd6-wXkZ",
        "outputId": "42d6a929-ca09-4515-ae9d-4da2990f2e7f"
      },
      "execution_count": 34,
      "outputs": [
        {
          "output_type": "execute_result",
          "data": {
            "text/plain": [
              "False"
            ]
          },
          "metadata": {},
          "execution_count": 34
        }
      ]
    },
    {
      "cell_type": "code",
      "source": [
        "# version 3: use Softmax\n",
        "tril = torch.tril(torch.ones(T, T))\n",
        "wei = torch.zeros((T,T))\n",
        "wei = wei.masked_fill(tril == 0, float('-inf'))\n",
        "wei = F.softmax(wei, dim=-1)\n",
        "xbow3 = wei @ x\n",
        "torch.allclose(xbow, xbow3)\n"
      ],
      "metadata": {
        "colab": {
          "base_uri": "https://localhost:8080/"
        },
        "id": "wOURrfG-ysoL",
        "outputId": "4c0bb56b-a1df-46b6-f06b-fdfd3f3533d9"
      },
      "execution_count": 35,
      "outputs": [
        {
          "output_type": "execute_result",
          "data": {
            "text/plain": [
              "False"
            ]
          },
          "metadata": {},
          "execution_count": 35
        }
      ]
    },
    {
      "cell_type": "code",
      "source": [
        "# version 4: self-attention!\n",
        "torch.manual_seed(1337)\n",
        "B,T,C = 4,8,32 # batch, time, channels\n",
        "x = torch.randn(B,T,C)\n",
        "\n",
        "# let's see a single Head perform self-attention\n",
        "head_size = 16\n",
        "key = nn.Linear(C, head_size, bias=False)\n",
        "query = nn.Linear(C, head_size, bias=False)\n",
        "value = nn.Linear(C, head_size, bias=False)\n",
        "k = key(x)   # (B, T, 16)\n",
        "q = query(x) # (B, T, 16)\n",
        "wei =  q @ k.transpose(-2, -1) # (B, T, 16) @ (B, 16, T) ---> (B, T, T)\n",
        "\n",
        "tril = torch.tril(torch.ones(T, T))\n",
        "#wei = torch.zeros((T,T))\n",
        "wei = wei.masked_fill(tril == 0, float('-inf'))\n",
        "wei = F.softmax(wei, dim=-1)\n",
        "\n",
        "v = value(x)\n",
        "out = wei @ v\n",
        "#out = wei @ x\n",
        "\n",
        "out.shape"
      ],
      "metadata": {
        "colab": {
          "base_uri": "https://localhost:8080/"
        },
        "id": "EDarxEWIRMKq",
        "outputId": "3e0d48e2-24f9-4d6f-ab4a-4240aca4d9b9"
      },
      "execution_count": 36,
      "outputs": [
        {
          "output_type": "execute_result",
          "data": {
            "text/plain": [
              "torch.Size([4, 8, 16])"
            ]
          },
          "metadata": {},
          "execution_count": 36
        }
      ]
    },
    {
      "cell_type": "code",
      "source": [
        "wei[0]"
      ],
      "metadata": {
        "colab": {
          "base_uri": "https://localhost:8080/"
        },
        "id": "vT1hdtzXCjgL",
        "outputId": "06e31249-8308-4686-c2e5-51fbd79c9095"
      },
      "execution_count": 37,
      "outputs": [
        {
          "output_type": "execute_result",
          "data": {
            "text/plain": [
              "tensor([[1.0000, 0.0000, 0.0000, 0.0000, 0.0000, 0.0000, 0.0000, 0.0000],\n",
              "        [0.1574, 0.8426, 0.0000, 0.0000, 0.0000, 0.0000, 0.0000, 0.0000],\n",
              "        [0.2088, 0.1646, 0.6266, 0.0000, 0.0000, 0.0000, 0.0000, 0.0000],\n",
              "        [0.5792, 0.1187, 0.1889, 0.1131, 0.0000, 0.0000, 0.0000, 0.0000],\n",
              "        [0.0294, 0.1052, 0.0469, 0.0276, 0.7909, 0.0000, 0.0000, 0.0000],\n",
              "        [0.0176, 0.2689, 0.0215, 0.0089, 0.6812, 0.0019, 0.0000, 0.0000],\n",
              "        [0.1691, 0.4066, 0.0438, 0.0416, 0.1048, 0.2012, 0.0329, 0.0000],\n",
              "        [0.0210, 0.0843, 0.0555, 0.2297, 0.0573, 0.0709, 0.2423, 0.2391]],\n",
              "       grad_fn=<SelectBackward0>)"
            ]
          },
          "metadata": {},
          "execution_count": 37
        }
      ]
    },
    {
      "cell_type": "markdown",
      "source": [
        "Notes:\n",
        "- Attention is a **communication mechanism**. Can be seen as nodes in a directed graph looking at each other and aggregating information with a weighted sum from all nodes that point to them, with data-dependent weights.\n",
        "- There is no notion of space. Attention simply acts over a set of vectors. This is why we need to positionally encode tokens.\n",
        "- Each example across batch dimension is of course processed completely independently and never \"talk\" to each other\n",
        "- In an \"encoder\" attention block just delete the single line that does masking with `tril`, allowing all tokens to communicate. This block here is called a \"decoder\" attention block because it has triangular masking, and is usually used in autoregressive settings, like language modeling.\n",
        "- \"self-attention\" just means that the keys and values are produced from the same source as queries. In \"cross-attention\", the queries still get produced from x, but the keys and values come from some other, external source (e.g. an encoder module)\n",
        "- \"Scaled\" attention additional divides `wei` by 1/sqrt(head_size). This makes it so when input Q,K are unit variance, wei will be unit variance too and Softmax will stay diffuse and not saturate too much. Illustration below"
      ],
      "metadata": {
        "id": "M5CvobiQ0pLr"
      }
    },
    {
      "cell_type": "code",
      "source": [
        "k = torch.randn(B,T,head_size)\n",
        "q = torch.randn(B,T,head_size)\n",
        "wei = q @ k.transpose(-2, -1) * head_size**-0.5"
      ],
      "metadata": {
        "id": "4SNbLq5z3oBw"
      },
      "execution_count": 38,
      "outputs": []
    },
    {
      "cell_type": "code",
      "source": [
        "k.var()"
      ],
      "metadata": {
        "colab": {
          "base_uri": "https://localhost:8080/"
        },
        "id": "Nl6I9n9IRTSo",
        "outputId": "d3c138e4-4e28-4a89-f208-036e3793ccc1"
      },
      "execution_count": 39,
      "outputs": [
        {
          "output_type": "execute_result",
          "data": {
            "text/plain": [
              "tensor(1.0449)"
            ]
          },
          "metadata": {},
          "execution_count": 39
        }
      ]
    },
    {
      "cell_type": "code",
      "source": [
        "q.var()"
      ],
      "metadata": {
        "colab": {
          "base_uri": "https://localhost:8080/"
        },
        "id": "T1tQx7oeRvtc",
        "outputId": "0371255b-fe3a-4241-bd08-79de808e2b41"
      },
      "execution_count": 40,
      "outputs": [
        {
          "output_type": "execute_result",
          "data": {
            "text/plain": [
              "tensor(1.0700)"
            ]
          },
          "metadata": {},
          "execution_count": 40
        }
      ]
    },
    {
      "cell_type": "code",
      "source": [
        "wei.var()"
      ],
      "metadata": {
        "colab": {
          "base_uri": "https://localhost:8080/"
        },
        "id": "MLb_odHU3iKM",
        "outputId": "20d4a25a-d2c4-4f18-95af-f51852e3a496"
      },
      "execution_count": 41,
      "outputs": [
        {
          "output_type": "execute_result",
          "data": {
            "text/plain": [
              "tensor(1.0918)"
            ]
          },
          "metadata": {},
          "execution_count": 41
        }
      ]
    },
    {
      "cell_type": "code",
      "source": [
        "torch.softmax(torch.tensor([0.1, -0.2, 0.3, -0.2, 0.5]), dim=-1)"
      ],
      "metadata": {
        "colab": {
          "base_uri": "https://localhost:8080/"
        },
        "id": "JB82yzt44REI",
        "outputId": "9656aa09-996f-4778-e438-d327316ff6e8"
      },
      "execution_count": 42,
      "outputs": [
        {
          "output_type": "execute_result",
          "data": {
            "text/plain": [
              "tensor([0.1925, 0.1426, 0.2351, 0.1426, 0.2872])"
            ]
          },
          "metadata": {},
          "execution_count": 42
        }
      ]
    },
    {
      "cell_type": "code",
      "source": [
        "torch.softmax(torch.tensor([0.1, -0.2, 0.3, -0.2, 0.5])*8, dim=-1) # gets too peaky, converges to one-hot"
      ],
      "metadata": {
        "colab": {
          "base_uri": "https://localhost:8080/"
        },
        "id": "Mpt8569BB9_f",
        "outputId": "d4135b3f-13c1-4b1e-adca-da29c171ffb9"
      },
      "execution_count": 43,
      "outputs": [
        {
          "output_type": "execute_result",
          "data": {
            "text/plain": [
              "tensor([0.0326, 0.0030, 0.1615, 0.0030, 0.8000])"
            ]
          },
          "metadata": {},
          "execution_count": 43
        }
      ]
    },
    {
      "cell_type": "code",
      "source": [
        "class LayerNorm1d: # (used to be BatchNorm1d)\n",
        "\n",
        "  def __init__(self, dim, eps=1e-5, momentum=0.1):\n",
        "    self.eps = eps\n",
        "    self.gamma = torch.ones(dim)\n",
        "    self.beta = torch.zeros(dim)\n",
        "\n",
        "  def __call__(self, x):\n",
        "    # calculate the forward pass\n",
        "    xmean = x.mean(1, keepdim=True) # batch mean\n",
        "    xvar = x.var(1, keepdim=True) # batch variance\n",
        "    xhat = (x - xmean) / torch.sqrt(xvar + self.eps) # normalize to unit variance\n",
        "    self.out = self.gamma * xhat + self.beta\n",
        "    return self.out\n",
        "\n",
        "  def parameters(self):\n",
        "    return [self.gamma, self.beta]\n",
        "\n",
        "torch.manual_seed(1337)\n",
        "module = LayerNorm1d(100)\n",
        "x = torch.randn(32, 100) # batch size 32 of 100-dimensional vectors\n",
        "x = module(x)\n",
        "x.shape"
      ],
      "metadata": {
        "colab": {
          "base_uri": "https://localhost:8080/"
        },
        "id": "2Num7sX9CKOH",
        "outputId": "ebda87a8-4d70-4f8a-bacf-6ed704635755"
      },
      "execution_count": 44,
      "outputs": [
        {
          "output_type": "execute_result",
          "data": {
            "text/plain": [
              "torch.Size([32, 100])"
            ]
          },
          "metadata": {},
          "execution_count": 44
        }
      ]
    },
    {
      "cell_type": "code",
      "source": [
        "x[:,0].mean(), x[:,0].std() # mean,std of one feature across all batch inputs"
      ],
      "metadata": {
        "colab": {
          "base_uri": "https://localhost:8080/"
        },
        "id": "633T2cmnW1uk",
        "outputId": "c2f04ca1-61cf-4442-b51b-120d62e06341"
      },
      "execution_count": 45,
      "outputs": [
        {
          "output_type": "execute_result",
          "data": {
            "text/plain": [
              "(tensor(0.1469), tensor(0.8803))"
            ]
          },
          "metadata": {},
          "execution_count": 45
        }
      ]
    },
    {
      "cell_type": "code",
      "source": [
        "x[0,:].mean(), x[0,:].std() # mean,std of a single input from the batch, of its features"
      ],
      "metadata": {
        "colab": {
          "base_uri": "https://localhost:8080/"
        },
        "id": "LN9cK9BoXCYb",
        "outputId": "2df17f77-1d80-4d07-8532-c178df97c0a3"
      },
      "execution_count": 46,
      "outputs": [
        {
          "output_type": "execute_result",
          "data": {
            "text/plain": [
              "(tensor(-9.5367e-09), tensor(1.0000))"
            ]
          },
          "metadata": {},
          "execution_count": 46
        }
      ]
    },
    {
      "cell_type": "code",
      "source": [
        "# French to English translation example:\n",
        "\n",
        "# <--------- ENCODE ------------------><--------------- DECODE ----------------->\n",
        "# les réseaux de neurones sont géniaux! <START> neural networks are awesome!<END>\n",
        "\n"
      ],
      "metadata": {
        "id": "dRJH6wM_XFfU"
      },
      "execution_count": 48,
      "outputs": []
    },
    {
      "cell_type": "markdown",
      "source": [
        "### Full finished code, for reference\n",
        "\n",
        "You may want to refer directly to the git repo instead though."
      ],
      "metadata": {
        "id": "ZcvKeBXoZFOY"
      }
    },
    {
      "cell_type": "code",
      "source": [
        "import torch\n",
        "import torch.nn as nn\n",
        "from torch.nn import functional as F\n",
        "\n",
        "# hyperparameters\n",
        "batch_size = 16 # how many independent sequences will we process in parallel?\n",
        "block_size = 32 # what is the maximum context length for predictions?\n",
        "max_iters = 5000\n",
        "eval_interval = 100\n",
        "learning_rate = 1e-3\n",
        "device = 'cuda' if torch.cuda.is_available() else 'cpu'\n",
        "eval_iters = 200\n",
        "n_embd = 64\n",
        "n_head = 4\n",
        "n_layer = 4\n",
        "dropout = 0.0\n",
        "# ------------\n",
        "\n",
        "torch.manual_seed(1337)\n",
        "\n",
        "# wget https://raw.githubusercontent.com/karpathy/char-rnn/master/data/tinyshakespeare/input.txt\n",
        "with open('/content/drive/MyDrive/Complete_Thesis/afaan_oromoo_chatgpt_format_dataset.json', 'r', encoding='utf-8') as f:\n",
        "    file = f.read()\n",
        "\n",
        "# here are all the unique characters that occur in this text\n",
        "chars = sorted(list(set(file)))\n",
        "vocab_size = len(chars)\n",
        "# create a mapping from characters to integers\n",
        "stoi = { ch:i for i,ch in enumerate(chars) }\n",
        "itos = { i:ch for i,ch in enumerate(chars) }\n",
        "encode = lambda s: [stoi[c] for c in s] # encoder: take a string, output a list of integers\n",
        "decode = lambda l: ''.join([itos[i] for i in l]) # decoder: take a list of integers, output a string\n",
        "\n",
        "# Train and test splits\n",
        "data = torch.tensor(encode(file), dtype=torch.long)\n",
        "n = int(0.9*len(data)) # first 90% will be train, rest val\n",
        "train_data = data[:n]\n",
        "val_data = data[n:]\n",
        "\n",
        "# data loading\n",
        "def get_batch(split):\n",
        "    # generate a small batch of data of inputs x and targets y\n",
        "    data = train_data if split == 'train' else val_data\n",
        "    ix = torch.randint(len(data) - block_size, (batch_size,))\n",
        "    x = torch.stack([data[i:i+block_size] for i in ix])\n",
        "    y = torch.stack([data[i+1:i+block_size+1] for i in ix])\n",
        "    x, y = x.to(device), y.to(device)\n",
        "    return x, y\n",
        "\n",
        "@torch.no_grad()\n",
        "def estimate_loss():\n",
        "    out = {}\n",
        "    model.eval()\n",
        "    for split in ['train', 'val']:\n",
        "        losses = torch.zeros(eval_iters)\n",
        "        for k in range(eval_iters):\n",
        "            X, Y = get_batch(split)\n",
        "            logits, loss = model(X, Y)\n",
        "            losses[k] = loss.item()\n",
        "        out[split] = losses.mean()\n",
        "    model.train()\n",
        "    return out\n",
        "\n",
        "class Head(nn.Module):\n",
        "    \"\"\" one head of self-attention \"\"\"\n",
        "\n",
        "    def __init__(self, head_size):\n",
        "        super().__init__()\n",
        "        self.key = nn.Linear(n_embd, head_size, bias=False)\n",
        "        self.query = nn.Linear(n_embd, head_size, bias=False)\n",
        "        self.value = nn.Linear(n_embd, head_size, bias=False)\n",
        "        self.register_buffer('tril', torch.tril(torch.ones(block_size, block_size)))\n",
        "\n",
        "        self.dropout = nn.Dropout(dropout)\n",
        "\n",
        "    def forward(self, x):\n",
        "        B,T,C = x.shape\n",
        "        k = self.key(x)   # (B,T,C)\n",
        "        q = self.query(x) # (B,T,C)\n",
        "        # compute attention scores (\"affinities\")\n",
        "        wei = q @ k.transpose(-2,-1) * C**-0.5 # (B, T, C) @ (B, C, T) -> (B, T, T)\n",
        "        wei = wei.masked_fill(self.tril[:T, :T] == 0, float('-inf')) # (B, T, T)\n",
        "        wei = F.softmax(wei, dim=-1) # (B, T, T)\n",
        "        wei = self.dropout(wei)\n",
        "        # perform the weighted aggregation of the values\n",
        "        v = self.value(x) # (B,T,C)\n",
        "        out = wei @ v # (B, T, T) @ (B, T, C) -> (B, T, C)\n",
        "        return out\n",
        "\n",
        "class MultiHeadAttention(nn.Module):\n",
        "    \"\"\" multiple heads of self-attention in parallel \"\"\"\n",
        "\n",
        "    def __init__(self, num_heads, head_size):\n",
        "        super().__init__()\n",
        "        self.heads = nn.ModuleList([Head(head_size) for _ in range(num_heads)])\n",
        "        self.proj = nn.Linear(n_embd, n_embd)\n",
        "        self.dropout = nn.Dropout(dropout)\n",
        "\n",
        "    def forward(self, x):\n",
        "        out = torch.cat([h(x) for h in self.heads], dim=-1)\n",
        "        out = self.dropout(self.proj(out))\n",
        "        return out\n",
        "\n",
        "class FeedFoward(nn.Module):\n",
        "    \"\"\" a simple linear layer followed by a non-linearity \"\"\"\n",
        "\n",
        "    def __init__(self, n_embd):\n",
        "        super().__init__()\n",
        "        self.net = nn.Sequential(\n",
        "            nn.Linear(n_embd, 4 * n_embd),\n",
        "            nn.ReLU(),\n",
        "            nn.Linear(4 * n_embd, n_embd),\n",
        "            nn.Dropout(dropout),\n",
        "        )\n",
        "\n",
        "    def forward(self, x):\n",
        "        return self.net(x)\n",
        "\n",
        "class Block(nn.Module):\n",
        "    \"\"\" Transformer block: communication followed by computation \"\"\"\n",
        "\n",
        "    def __init__(self, n_embd, n_head):\n",
        "        # n_embd: embedding dimension, n_head: the number of heads we'd like\n",
        "        super().__init__()\n",
        "        head_size = n_embd // n_head\n",
        "        self.sa = MultiHeadAttention(n_head, head_size)\n",
        "        self.ffwd = FeedFoward(n_embd)\n",
        "        self.ln1 = nn.LayerNorm(n_embd)\n",
        "        self.ln2 = nn.LayerNorm(n_embd)\n",
        "\n",
        "    def forward(self, x):\n",
        "        x = x + self.sa(self.ln1(x))\n",
        "        x = x + self.ffwd(self.ln2(x))\n",
        "        return x\n",
        "\n",
        "# super simple bigram model\n",
        "class BigramLanguageModel(nn.Module):\n",
        "\n",
        "    def __init__(self):\n",
        "        super().__init__()\n",
        "        # each token directly reads off the logits for the next token from a lookup table\n",
        "        self.token_embedding_table = nn.Embedding(vocab_size, n_embd)\n",
        "        self.position_embedding_table = nn.Embedding(block_size, n_embd)\n",
        "        self.blocks = nn.Sequential(*[Block(n_embd, n_head=n_head) for _ in range(n_layer)])\n",
        "        self.ln_f = nn.LayerNorm(n_embd) # final layer norm\n",
        "        self.lm_head = nn.Linear(n_embd, vocab_size)\n",
        "\n",
        "    def forward(self, idx, targets=None):\n",
        "        B, T = idx.shape\n",
        "\n",
        "        # idx and targets are both (B,T) tensor of integers\n",
        "        tok_emb = self.token_embedding_table(idx) # (B,T,C)\n",
        "        pos_emb = self.position_embedding_table(torch.arange(T, device=device)) # (T,C)\n",
        "        x = tok_emb + pos_emb # (B,T,C)\n",
        "        x = self.blocks(x) # (B,T,C)\n",
        "        x = self.ln_f(x) # (B,T,C)\n",
        "        logits = self.lm_head(x) # (B,T,vocab_size)\n",
        "\n",
        "        if targets is None:\n",
        "            loss = None\n",
        "        else:\n",
        "            B, T, C = logits.shape\n",
        "            logits = logits.view(B*T, C)\n",
        "            targets = targets.view(B*T)\n",
        "            loss = F.cross_entropy(logits, targets)\n",
        "\n",
        "        return logits, loss\n",
        "\n",
        "    def generate(self, idx, max_new_tokens):\n",
        "        # idx is (B, T) array of indices in the current context\n",
        "        for _ in range(max_new_tokens):\n",
        "            # crop idx to the last block_size tokens\n",
        "            idx_cond = idx[:, -block_size:]\n",
        "            # get the predictions\n",
        "            logits, loss = self(idx_cond)\n",
        "            # focus only on the last time step\n",
        "            logits = logits[:, -1, :] # becomes (B, C)\n",
        "            # apply softmax to get probabilities\n",
        "            probs = F.softmax(logits, dim=-1) # (B, C)\n",
        "            # sample from the distribution\n",
        "            idx_next = torch.multinomial(probs, num_samples=1) # (B, 1)\n",
        "            # append sampled index to the running sequence\n",
        "            idx = torch.cat((idx, idx_next), dim=1) # (B, T+1)\n",
        "        return idx\n",
        "\n",
        "model = BigramLanguageModel()\n",
        "m = model.to(device)\n",
        "# print the number of parameters in the model\n",
        "print(sum(p.numel() for p in m.parameters())/1e6, 'M parameters')\n",
        "\n",
        "# create a PyTorch optimizer\n",
        "optimizer = torch.optim.AdamW(model.parameters(), lr=learning_rate)\n",
        "\n",
        "for iter in range(max_iters):\n",
        "\n",
        "    # every once in a while evaluate the loss on train and val sets\n",
        "    if iter % eval_interval == 0 or iter == max_iters - 1:\n",
        "        losses = estimate_loss()\n",
        "        print(f\"step {iter}: train loss {losses['train']:.4f}, val loss {losses['val']:.4f}\")\n",
        "\n",
        "    # sample a batch of data\n",
        "    xb, yb = get_batch('train')\n",
        "\n",
        "    # evaluate the loss\n",
        "    logits, loss = model(xb, yb)\n",
        "    optimizer.zero_grad(set_to_none=True)\n",
        "    loss.backward()\n",
        "    optimizer.step()\n",
        "\n",
        "# generate from the model\n",
        "context = torch.zeros((1, 1), dtype=torch.long, device=device)\n",
        "print(decode(m.generate(context, max_new_tokens=2000)[0].tolist()))\n"
      ],
      "metadata": {
        "colab": {
          "base_uri": "https://localhost:8080/"
        },
        "id": "hoelkOrFY8bN",
        "outputId": "71f149a4-8bb5-4c25-ba0d-ac7f82121e67"
      },
      "execution_count": 50,
      "outputs": [
        {
          "output_type": "stream",
          "name": "stdout",
          "text": [
            "0.213212 M parameters\n",
            "step 0: train loss 4.6309, val loss 4.6303\n",
            "step 100: train loss 2.6255, val loss 2.6561\n",
            "step 200: train loss 2.3725, val loss 2.4033\n",
            "step 300: train loss 2.2353, val loss 2.2737\n",
            "step 400: train loss 2.1378, val loss 2.1630\n",
            "step 500: train loss 2.0361, val loss 2.0556\n",
            "step 600: train loss 1.9382, val loss 1.9841\n",
            "step 700: train loss 1.8587, val loss 1.9065\n",
            "step 800: train loss 1.7946, val loss 1.8395\n",
            "step 900: train loss 1.7596, val loss 1.7584\n",
            "step 1000: train loss 1.6747, val loss 1.7209\n",
            "step 1100: train loss 1.6666, val loss 1.7121\n",
            "step 1200: train loss 1.6417, val loss 1.6805\n",
            "step 1300: train loss 1.5855, val loss 1.6434\n",
            "step 1400: train loss 1.5721, val loss 1.6087\n",
            "step 1500: train loss 1.5385, val loss 1.5885\n",
            "step 1600: train loss 1.5296, val loss 1.5669\n",
            "step 1700: train loss 1.4737, val loss 1.5452\n",
            "step 1800: train loss 1.4880, val loss 1.5183\n",
            "step 1900: train loss 1.4538, val loss 1.5055\n",
            "step 2000: train loss 1.4408, val loss 1.5071\n",
            "step 2100: train loss 1.4322, val loss 1.4666\n",
            "step 2200: train loss 1.4013, val loss 1.4776\n",
            "step 2300: train loss 1.3943, val loss 1.4383\n",
            "step 2400: train loss 1.3933, val loss 1.4290\n",
            "step 2500: train loss 1.3892, val loss 1.4098\n",
            "step 2600: train loss 1.3519, val loss 1.4133\n",
            "step 2700: train loss 1.3428, val loss 1.3934\n",
            "step 2800: train loss 1.3133, val loss 1.3737\n",
            "step 2900: train loss 1.3067, val loss 1.3621\n",
            "step 3000: train loss 1.3143, val loss 1.3818\n",
            "step 3100: train loss 1.2976, val loss 1.3590\n",
            "step 3200: train loss 1.2930, val loss 1.3606\n",
            "step 3300: train loss 1.2839, val loss 1.3376\n",
            "step 3400: train loss 1.2710, val loss 1.3413\n",
            "step 3500: train loss 1.2794, val loss 1.3187\n",
            "step 3600: train loss 1.2554, val loss 1.2956\n",
            "step 3700: train loss 1.2683, val loss 1.3299\n",
            "step 3800: train loss 1.2517, val loss 1.3114\n",
            "step 3900: train loss 1.2336, val loss 1.3100\n",
            "step 4000: train loss 1.2383, val loss 1.3090\n",
            "step 4100: train loss 1.2261, val loss 1.2859\n",
            "step 4200: train loss 1.2144, val loss 1.2920\n",
            "step 4300: train loss 1.2298, val loss 1.2821\n",
            "step 4400: train loss 1.2266, val loss 1.2765\n",
            "step 4500: train loss 1.2209, val loss 1.2787\n",
            "step 4600: train loss 1.2055, val loss 1.2779\n",
            "step 4700: train loss 1.2113, val loss 1.2579\n",
            "step 4800: train loss 1.1946, val loss 1.2698\n",
            "step 4900: train loss 1.1928, val loss 1.2462\n",
            "step 4999: train loss 1.1694, val loss 1.2638\n",
            "\n",
            "    \"sababa\": \"Dhukkuba garaachaa\",\n",
            "    \"Mallattoo\": \"[2,\n",
            "    \"dhukkuba\": \"Dhibeen taashuuw irraawwa summmuu kee, fusaa madaa', 'Rar bara imirra kofohuu hidhiigaa', 'Mataa wal'aansa bakka walhaba ti. Dhiitti leensi’een biranii hidhii', 'Dhukkubbii garaa qaama siluunuu danda’a. Akkaalaa tasooGiriifii (vaa\\\", Isosu celus sps indums stocha stoon olittylaa hin dabaluun onnee', 'Fecicinudazone Topical', 'Perdicamudine', 'Akseemmoozii Topical', 'Flonides Kornise Keosa (Endorntrox)', 'Tamotipizil Prode Tycitive ykn hir’ana baay'ee tiruu ykn dhiigaa man lallittooyidarmaa’udhu\",\n",
            "    \"Mallattoo\": \"['Dhukkubbii garaa qarma qaama sababa alaattaa guddiibba miidhuu isaa dhiiga kanitii) jedhamuutii mul’atanii kannee of \\\"werurzysoysis mulaar essg baay’ee qisoonnaatii tiruu ta’anii alaumii Bomps', 'Leuriomide', 'Nybipabifine (Usii-) (Saalaa (Unty)', 'Tycitamii Iodoteemii Alfaala (Preuncatin-)', 'Talliyaal (Ultrazulalsil)', 'Orfazolide (Erivarium)', 'Loricloprin', 'Methametone', 'Nykooliin tokkon dhabsan, xiqqaasuun hama pheullaation agaatii ni ogidii \\\" quubuu harganiin keessatti giddosez ypicitol mosone fakina hir’isuu, kan hama ykliireenaazno\",\n",
            "    \"Mallattoo\": \"['Dhiibbaa guddaa bakka lambuu oleetii hidhaa Tyenza dhabuu\",\n",
            "    \"QormaataFiHojimaata\": \"['Coriclinis (Prodhyxa) ictufuu, of katan dhukkubni akka buusuuu', 'Dhukkubbiin garaa guddisuudha. Dalluun gamuus kanneen aktiroologic rept aallii haaxiquu', 'Dhukkubbii harkaan jedhamu\",\n",
            "    \"Mallattoo\": \"['Dhukkubbiin hargalaa', 'Dhukkubbiin malattooleetti istaanii, finctuuf galagiignision waliitti fuuldaan hin bariqqinnaa halla ija hin bara. Akkaa saaraa kan dhuufu disa bula’uu irraa kan ow lafuuraaf dhugaabiin kan madeesiidhii fi qabamne yeroo kun kan Nyes yoo ta’u, mul’ata. alla booda bidha. Kaniiddin gara tishandarti. Yoo hunda gara mataa guluu malee timilo dhukkuba garmaa ulbaanaa daluu'uu', 'QulUlfina gadameessaa irraa (aansa Taayiroof gootti bara’ee dhagamanii mallee, ykn miigfudhachuuf fi ilquuncetic A ffan Meermola ykn qub\n"
          ]
        }
      ]
    },
    {
      "cell_type": "code",
      "source": [],
      "metadata": {
        "id": "fjjvMifYZf7x"
      },
      "execution_count": null,
      "outputs": []
    }
  ]
}