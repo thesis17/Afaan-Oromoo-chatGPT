{
  "metadata": {
    "kernelspec": {
      "language": "python",
      "display_name": "Python 3",
      "name": "python3"
    },
    "language_info": {
      "name": "python",
      "version": "3.10.12",
      "mimetype": "text/x-python",
      "codemirror_mode": {
        "name": "ipython",
        "version": 3
      },
      "pygments_lexer": "ipython3",
      "nbconvert_exporter": "python",
      "file_extension": ".py"
    },
    "kaggle": {
      "accelerator": "nvidiaTeslaT4",
      "dataSources": [
        {
          "sourceId": 61542,
          "databundleVersionId": 7516023,
          "sourceType": "competition"
        },
        {
          "sourceId": 6847931,
          "sourceType": "datasetVersion",
          "datasetId": 3936750
        },
        {
          "sourceId": 6865136,
          "sourceType": "datasetVersion",
          "datasetId": 3945154
        },
        {
          "sourceId": 6888403,
          "sourceType": "datasetVersion",
          "datasetId": 3955358
        },
        {
          "sourceId": 6890527,
          "sourceType": "datasetVersion",
          "datasetId": 3942644
        },
        {
          "sourceId": 6920799,
          "sourceType": "datasetVersion",
          "datasetId": 3973977
        },
        {
          "sourceId": 6971638,
          "sourceType": "datasetVersion",
          "datasetId": 3961875
        },
        {
          "sourceId": 6977472,
          "sourceType": "datasetVersion",
          "datasetId": 4005256
        },
        {
          "sourceId": 7018354,
          "sourceType": "datasetVersion",
          "datasetId": 4035516
        },
        {
          "sourceId": 7060310,
          "sourceType": "datasetVersion",
          "datasetId": 3944051
        },
        {
          "sourceId": 7082713,
          "sourceType": "datasetVersion",
          "datasetId": 4039374
        },
        {
          "sourceId": 7254534,
          "sourceType": "datasetVersion",
          "datasetId": 4203616
        },
        {
          "sourceId": 7359107,
          "sourceType": "datasetVersion",
          "datasetId": 4274446
        }
      ],
      "dockerImageVersionId": 30559,
      "isInternetEnabled": false,
      "language": "python",
      "sourceType": "notebook",
      "isGpuEnabled": true
    },
    "colab": {
      "name": "LSTM&Transformer CNN_branch ",
      "provenance": [],
      "include_colab_link": true
    }
  },
  "nbformat_minor": 0,
  "nbformat": 4,
  "cells": [
    {
      "cell_type": "markdown",
      "metadata": {
        "id": "view-in-github",
        "colab_type": "text"
      },
      "source": [
        "<a href=\"https://colab.research.google.com/github/thesis17/Afaan-Oromoo-chatGPT/blob/main/LSTM%26Transformer_CNN_branch.ipynb\" target=\"_parent\"><img src=\"https://colab.research.google.com/assets/colab-badge.svg\" alt=\"Open In Colab\"/></a>"
      ]
    },
    {
      "source": [
        "# IMPORTANT: RUN THIS CELL IN ORDER TO IMPORT YOUR KAGGLE DATA SOURCES,\n",
        "# THEN FEEL FREE TO DELETE THIS CELL.\n",
        "# NOTE: THIS NOTEBOOK ENVIRONMENT DIFFERS FROM KAGGLE'S PYTHON\n",
        "# ENVIRONMENT SO THERE MAY BE MISSING LIBRARIES USED BY YOUR\n",
        "# NOTEBOOK.\n",
        "import kagglehub\n",
        "alejopaullier_daigt_external_dataset_path = kagglehub.dataset_download('alejopaullier/daigt-external-dataset')\n",
        "narsil_daigt_misc_path = kagglehub.dataset_download('narsil/daigt-misc')\n",
        "darraghdog_hello_claude_1000_essays_from_anthropic_path = kagglehub.dataset_download('darraghdog/hello-claude-1000-essays-from-anthropic')\n",
        "thedrcat_daigt_proper_train_dataset_path = kagglehub.dataset_download('thedrcat/daigt-proper-train-dataset')\n",
        "kingki19_llm_generated_essay_using_palm_from_google_gen_ai_path = kagglehub.dataset_download('kingki19/llm-generated-essay-using-palm-from-google-gen-ai')\n",
        "carlmcbrideellis_llm_7_prompt_training_dataset_path = kagglehub.dataset_download('carlmcbrideellis/llm-7-prompt-training-dataset')\n",
        "thedrcat_daigt_v2_train_dataset_path = kagglehub.dataset_download('thedrcat/daigt-v2-train-dataset')\n",
        "jdragonxherrera_augmented_data_for_llm_detect_ai_generated_text_path = kagglehub.dataset_download('jdragonxherrera/augmented-data-for-llm-detect-ai-generated-text')\n",
        "nbroad_daigt_data_llama_70b_and_falcon180b_path = kagglehub.dataset_download('nbroad/daigt-data-llama-70b-and-falcon180b')\n",
        "carlmcbrideellis_llm_mistral_7b_instruct_texts_path = kagglehub.dataset_download('carlmcbrideellis/llm-mistral-7b-instruct-texts')\n",
        "datafan07_daigt_gemini_pro_8_5k_essays_path = kagglehub.dataset_download('datafan07/daigt-gemini-pro-8-5k-essays')\n",
        "dardodel_4k_mixtral87b_crafted_essays_for_detect_ai_comp_path = kagglehub.dataset_download('dardodel/4k-mixtral87b-crafted-essays-for-detect-ai-comp')\n",
        "\n",
        "print('Data source import complete.')\n"
      ],
      "metadata": {
        "id": "JAEv3STXpku6"
      },
      "cell_type": "code",
      "outputs": [],
      "execution_count": null
    },
    {
      "cell_type": "code",
      "source": [
        "import os\n",
        "import random\n",
        "import numpy as np\n",
        "import tensorflow as tf\n",
        "import pandas as pd\n",
        "from sklearn.model_selection import train_test_split\n",
        "import re\n",
        "import string\n",
        "import tensorflow_text as tf_text"
      ],
      "metadata": {
        "_uuid": "8f2839f25d086af736a60e9eeb907d3b93b6e0e5",
        "_cell_guid": "b1076dfc-b9ad-4769-8c92-a6c4dae69d19",
        "execution": {
          "iopub.status.busy": "2024-12-16T13:04:24.771797Z",
          "iopub.execute_input": "2024-12-16T13:04:24.772602Z",
          "iopub.status.idle": "2024-12-16T13:04:32.952845Z",
          "shell.execute_reply.started": "2024-12-16T13:04:24.772558Z",
          "shell.execute_reply": "2024-12-16T13:04:32.952185Z"
        },
        "trusted": true,
        "id": "72VTRop1pku7"
      },
      "outputs": [],
      "execution_count": null
    },
    {
      "cell_type": "code",
      "source": [
        "#train = pd.read_csv('/kaggle/input/llm-detect-ai-generated-text/train_essays.csv')\n",
        "extra_train = pd.read_csv(\"/kaggle/input/daigt-external-dataset/daigt_external_dataset.csv\")\n",
        "#extra_train_new = pd.read_csv(\"/kaggle/input/daigt-proper-train-dataset/train_drcat_01.csv\")\n",
        "test = pd.read_csv('/kaggle/input/llm-detect-ai-generated-text/test_essays.csv')\n",
        "#train_prompts = pd.read_csv('/kaggle/input/llm-detect-ai-generated-text/train_prompts.csv')"
      ],
      "metadata": {
        "execution": {
          "iopub.status.busy": "2024-12-16T13:04:32.954527Z",
          "iopub.execute_input": "2024-12-16T13:04:32.954955Z",
          "iopub.status.idle": "2024-12-16T13:04:33.180381Z",
          "shell.execute_reply.started": "2024-12-16T13:04:32.954931Z",
          "shell.execute_reply": "2024-12-16T13:04:33.17949Z"
        },
        "trusted": true,
        "id": "kz39rH6Npku7"
      },
      "outputs": [],
      "execution_count": null
    },
    {
      "cell_type": "code",
      "source": [
        "extra_train_1 = pd.read_csv(\"/kaggle/input/llm-mistral-7b-instruct-texts/Mistral7B_CME_v7.csv\").drop(['prompt_id','prompt_name'], axis=1)\n",
        "extra_train_2 = pd.read_csv(\"/kaggle/input/hello-claude-1000-essays-from-anthropic/persuade15_claude_instant1.csv\").drop(['prompt_id','essay_title'],axis=1).rename(columns = {'essay_text': 'text'})\n",
        "extra_train_2['generated'] = 1\n",
        "extra_train_3 = pd.read_csv(\"/kaggle/input/daigt-data-llama-70b-and-falcon180b/llama_falcon_v3.csv\").drop(['prompt_name','model'], axis=1)\n",
        "extra_train_4 = pd.read_csv(\"/kaggle/input/llm-generated-essay-using-palm-from-google-gen-ai/LLM_generated_essay_PaLM.csv\").drop(['id','prompt_id'], axis=1)\n",
        "\n",
        "extra_train_5 = pd.read_csv(\"/kaggle/input/daigt-v2-train-dataset/train_v2_drcat_02.csv\").rename(columns = {'label': 'generated'}).drop(['prompt_name','source', 'RDizzl3_seven'], axis=1)\n",
        "\n",
        "extra_train_5 = extra_train_5[extra_train_5['generated'] == 0]\n",
        "extra_train_5 = extra_train_5.sample(n=18149)\n",
        "\n",
        "extra_train_6 = pd.read_csv(\"/kaggle/input/4k-mixtral87b-crafted-essays-for-detect-ai-comp/Mixtral8x7b_4k_essays_for_DetectAIGeneratedTextCompetition.csv\").rename(columns = {'AI_Essay': 'text'}).drop(['model_Raw_output','student_id','prompt_id','index'], axis=1)\n",
        "extra_train_6['generated'] = 1"
      ],
      "metadata": {
        "execution": {
          "iopub.status.busy": "2024-12-16T13:04:33.181511Z",
          "iopub.execute_input": "2024-12-16T13:04:33.181744Z",
          "iopub.status.idle": "2024-12-16T13:04:36.632717Z",
          "shell.execute_reply.started": "2024-12-16T13:04:33.181725Z",
          "shell.execute_reply": "2024-12-16T13:04:36.632001Z"
        },
        "trusted": true,
        "id": "kwX_69Rbpku7"
      },
      "outputs": [],
      "execution_count": null
    },
    {
      "cell_type": "code",
      "source": [
        "extra_train_new = pd.concat([extra_train_1, extra_train_2,\n",
        "                             extra_train_3, extra_train_4,\n",
        "                             extra_train_5, extra_train_6], axis=0)"
      ],
      "metadata": {
        "execution": {
          "iopub.status.busy": "2024-12-16T13:04:36.633727Z",
          "iopub.execute_input": "2024-12-16T13:04:36.634025Z",
          "iopub.status.idle": "2024-12-16T13:04:36.640768Z",
          "shell.execute_reply.started": "2024-12-16T13:04:36.633997Z",
          "shell.execute_reply": "2024-12-16T13:04:36.639994Z"
        },
        "trusted": true,
        "id": "fG4tVWaJpku8"
      },
      "outputs": [],
      "execution_count": null
    },
    {
      "cell_type": "code",
      "source": [
        "extra_train_student_generated = extra_train[['text']]\n",
        "extra_train_student_generated['generated'] = 0\n",
        "\n",
        "extra_train_ai_generated = extra_train[['source_text']].rename(columns = {'source_text':'text'})\n",
        "extra_train_ai_generated['generated'] = 1\n",
        "\n",
        "extra_train_f = pd.concat([extra_train_student_generated, extra_train_ai_generated, extra_train_new], axis=0)\n",
        "#extra_train_f = pd.concat([extra_train_student_generated, extra_train_ai_generated], axis=0)\n",
        "extra_train_f"
      ],
      "metadata": {
        "execution": {
          "iopub.status.busy": "2024-12-16T13:04:36.642497Z",
          "iopub.execute_input": "2024-12-16T13:04:36.64272Z",
          "iopub.status.idle": "2024-12-16T13:04:36.670056Z",
          "shell.execute_reply.started": "2024-12-16T13:04:36.642701Z",
          "shell.execute_reply": "2024-12-16T13:04:36.669315Z"
        },
        "trusted": true,
        "id": "r7-sqm-kpku8"
      },
      "outputs": [],
      "execution_count": null
    },
    {
      "cell_type": "code",
      "source": [
        "#train_final = pd.concat([extra_train_f, train.drop(columns=['prompt_id', 'id'], axis=0)], axis=0).reset_index(drop=True).drop_duplicates()\n",
        "train_final = extra_train_f\n",
        "train_final"
      ],
      "metadata": {
        "execution": {
          "iopub.status.busy": "2024-12-16T13:04:36.671491Z",
          "iopub.execute_input": "2024-12-16T13:04:36.671798Z",
          "iopub.status.idle": "2024-12-16T13:04:36.681329Z",
          "shell.execute_reply.started": "2024-12-16T13:04:36.671769Z",
          "shell.execute_reply": "2024-12-16T13:04:36.680601Z"
        },
        "trusted": true,
        "id": "WhmH4x9Tpku8"
      },
      "outputs": [],
      "execution_count": null
    },
    {
      "cell_type": "code",
      "source": [
        "import matplotlib.pyplot as plt\n",
        "sequence_lengths = train_final['text'].apply(lambda x: len(x.split()))\n",
        "\n",
        "plt.hist(sequence_lengths, bins=30, alpha=0.75, color='blue')\n",
        "plt.title('Distribution of Text Sequence Lengths')\n",
        "plt.xlabel('Sequence Length')\n",
        "plt.ylabel('Frequency')\n",
        "plt.show()"
      ],
      "metadata": {
        "execution": {
          "iopub.status.busy": "2024-12-16T13:04:36.682327Z",
          "iopub.execute_input": "2024-12-16T13:04:36.68258Z",
          "iopub.status.idle": "2024-12-16T13:04:37.822187Z",
          "shell.execute_reply.started": "2024-12-16T13:04:36.682558Z",
          "shell.execute_reply": "2024-12-16T13:04:37.821458Z"
        },
        "trusted": true,
        "id": "On_brQl1pku8"
      },
      "outputs": [],
      "execution_count": null
    },
    {
      "cell_type": "code",
      "source": [
        "print(train_final['generated'].value_counts())"
      ],
      "metadata": {
        "execution": {
          "iopub.status.busy": "2024-12-16T13:04:37.823408Z",
          "iopub.execute_input": "2024-12-16T13:04:37.82397Z",
          "iopub.status.idle": "2024-12-16T13:04:37.831149Z",
          "shell.execute_reply.started": "2024-12-16T13:04:37.823938Z",
          "shell.execute_reply": "2024-12-16T13:04:37.830261Z"
        },
        "trusted": true,
        "id": "nB7Y4OxOpku8"
      },
      "outputs": [],
      "execution_count": null
    },
    {
      "cell_type": "code",
      "source": [
        "train_df, val_df = train_test_split(train_final, test_size=0.3, random_state=222)\n",
        "\n",
        "batch_size = 32\n",
        "\n",
        "raw_train_ds = tf.data.Dataset.from_tensor_slices(\n",
        "    (train_df['text'].values, train_df['generated'].values)\n",
        ").batch(batch_size)\n",
        "\n",
        "raw_val_ds = tf.data.Dataset.from_tensor_slices(\n",
        "    (val_df['text'].values, val_df['generated'].values)\n",
        ").batch(batch_size)"
      ],
      "metadata": {
        "execution": {
          "iopub.status.busy": "2024-12-16T13:04:37.832105Z",
          "iopub.execute_input": "2024-12-16T13:04:37.832367Z",
          "iopub.status.idle": "2024-12-16T13:04:38.988165Z",
          "shell.execute_reply.started": "2024-12-16T13:04:37.832345Z",
          "shell.execute_reply": "2024-12-16T13:04:38.987509Z"
        },
        "trusted": true,
        "id": "xfS9e0aHpku8"
      },
      "outputs": [],
      "execution_count": null
    },
    {
      "cell_type": "code",
      "source": [
        "max_features = 75000\n",
        "embedding_dim = 64\n",
        "sequence_length = 512\n",
        "\n",
        "def tf_lower_and_split_punct(text):\n",
        "    text = tf_text.normalize_utf8(text, 'NFKD')\n",
        "    text = tf.strings.lower(text)\n",
        "    text = tf.strings.regex_replace(text, '[^ a-z.?!,¿]', '')\n",
        "    text = tf.strings.regex_replace(text, '[.?!,¿]', r' \\0 ')\n",
        "    text = tf.strings.strip(text)\n",
        "    text = tf.strings.join(['[START]', text, '[END]'], separator=' ')\n",
        "    return text\n",
        "\n",
        "\n",
        "# Text vectorization layer\n",
        "vectorize_layer = tf.keras.layers.TextVectorization(\n",
        "    standardize=tf_lower_and_split_punct,\n",
        "    max_tokens=max_features,\n",
        "    ngrams = (3,5),\n",
        "    output_mode=\"int\",\n",
        "    output_sequence_length=sequence_length,\n",
        "    pad_to_max_tokens=True\n",
        ")\n",
        "\n",
        "text_ds = raw_train_ds.map(lambda x, y: x)\n",
        "vectorize_layer.adapt(text_ds)\n",
        "\n",
        "def vectorize_text(text, label):\n",
        "    text = tf.expand_dims(text, -1)\n",
        "    return vectorize_layer(text), label\n",
        "\n",
        "train_ds = raw_train_ds.map(vectorize_text)\n",
        "val_ds = raw_val_ds.map(vectorize_text)"
      ],
      "metadata": {
        "execution": {
          "iopub.status.busy": "2024-12-16T13:04:38.989148Z",
          "iopub.execute_input": "2024-12-16T13:04:38.989433Z",
          "iopub.status.idle": "2024-12-16T13:05:40.665641Z",
          "shell.execute_reply.started": "2024-12-16T13:04:38.98941Z",
          "shell.execute_reply": "2024-12-16T13:05:40.664912Z"
        },
        "trusted": true,
        "id": "7zfc-zHYpku8"
      },
      "outputs": [],
      "execution_count": null
    },
    {
      "cell_type": "code",
      "source": [
        "from tensorflow.keras.layers import TextVectorization, Embedding, Bidirectional, LSTM, Conv1D, MaxPooling1D, Dense, Dropout, Concatenate, Flatten\n",
        "from tensorflow.keras import Model, Input\n",
        "\n",
        "\n",
        "class TransformerBlock(tf.keras.layers.Layer):\n",
        "    def __init__(self, embed_dim, num_heads, ff_dim, rate=0.1):\n",
        "        super(TransformerBlock, self).__init__()\n",
        "        self.att = tf.keras.layers.MultiHeadAttention(num_heads=num_heads, key_dim=embed_dim)\n",
        "        self.ffn = tf.keras.Sequential(\n",
        "            [tf.keras.layers.Dense(ff_dim, activation=\"relu\"), tf.keras.layers.Dense(embed_dim),]\n",
        "        )\n",
        "        self.layernorm1 = tf.keras.layers.LayerNormalization(epsilon=1e-6)\n",
        "        self.layernorm2 = tf.keras.layers.LayerNormalization(epsilon=1e-6)\n",
        "        self.dropout1 = tf.keras.layers.Dropout(rate)\n",
        "        self.dropout2 = tf.keras.layers.Dropout(rate)\n",
        "\n",
        "    def call(self, inputs, training):\n",
        "        attn_output = self.att(inputs, inputs)\n",
        "        attn_output = self.dropout1(attn_output, training=training)\n",
        "        out1 = self.layernorm1(inputs + attn_output)\n",
        "        ffn_output = self.ffn(out1)\n",
        "        ffn_output = self.dropout2(ffn_output, training=training)\n",
        "        return self.layernorm2(out1 + ffn_output)"
      ],
      "metadata": {
        "execution": {
          "iopub.status.busy": "2024-12-16T13:05:40.666897Z",
          "iopub.execute_input": "2024-12-16T13:05:40.667726Z",
          "iopub.status.idle": "2024-12-16T13:05:40.676535Z",
          "shell.execute_reply.started": "2024-12-16T13:05:40.667695Z",
          "shell.execute_reply": "2024-12-16T13:05:40.675842Z"
        },
        "trusted": true,
        "id": "J17thDZCpku9"
      },
      "outputs": [],
      "execution_count": null
    },
    {
      "cell_type": "code",
      "source": [
        "def cnn_branch(inputs, kernel_sizes, filters, drop_rate):\n",
        "    conv_blocks = []\n",
        "    for kernel_size in kernel_sizes:\n",
        "        conv = Conv1D(filters=filters, kernel_size=kernel_size, padding='same', activation='relu')(inputs)\n",
        "        conv = MaxPooling1D(pool_size=2)(conv)\n",
        "        conv = Dropout(drop_rate)(conv)\n",
        "        conv_blocks.append(conv)\n",
        "    return Concatenate()(conv_blocks)"
      ],
      "metadata": {
        "trusted": true,
        "execution": {
          "iopub.status.busy": "2024-12-16T13:05:40.677557Z",
          "iopub.execute_input": "2024-12-16T13:05:40.677804Z",
          "iopub.status.idle": "2024-12-16T13:05:40.688696Z",
          "shell.execute_reply.started": "2024-12-16T13:05:40.677784Z",
          "shell.execute_reply": "2024-12-16T13:05:40.687883Z"
        },
        "id": "n-9G-rD4pku9"
      },
      "outputs": [],
      "execution_count": null
    },
    {
      "cell_type": "code",
      "source": [
        "def build_model(sequence_length, max_features, embedding_dim, num_heads, ff_dim, drop_rate):\n",
        "    # 輸入層\n",
        "    inputs = Input(shape=(sequence_length,), dtype=\"int64\")\n",
        "\n",
        "    # 嵌入層\n",
        "    x = Embedding(input_dim=max_features, output_dim=embedding_dim)(inputs)\n",
        "\n",
        "    # 雙向 LSTM 層\n",
        "    x = Bidirectional(LSTM(64, return_sequences=True))(x)\n",
        "\n",
        "    # Transformer Block\n",
        "    x = TransformerBlock(embed_dim=embedding_dim, num_heads=num_heads, ff_dim=ff_dim, rate=drop_rate)(x)\n",
        "\n",
        "    # 多分支 CNN 模型\n",
        "    x = cnn_branch(x, kernel_sizes=[3, 5], filters=32, drop_rate=drop_rate)\n",
        "\n",
        "    # 額外的卷積與降維\n",
        "    x = Conv1D(filters=32, kernel_size=3, strides=1, padding='same', activation='relu')(x)\n",
        "    x = MaxPooling1D(pool_size=2)(x)\n",
        "    x = Dropout(drop_rate)(x)\n",
        "\n",
        "    # 全連接層\n",
        "    x = Flatten()(x)\n",
        "    x = Dense(128, activation='relu')(x)\n",
        "    x = Dropout(drop_rate)(x)\n",
        "\n",
        "    # 輸出層\n",
        "    outputs = Dense(1, activation='sigmoid')(x)\n",
        "\n",
        "    # 建立模型\n",
        "    return Model(inputs=inputs, outputs=outputs)"
      ],
      "metadata": {
        "trusted": true,
        "execution": {
          "iopub.status.busy": "2024-12-16T13:05:40.689783Z",
          "iopub.execute_input": "2024-12-16T13:05:40.690083Z",
          "iopub.status.idle": "2024-12-16T13:05:40.699085Z",
          "shell.execute_reply.started": "2024-12-16T13:05:40.690052Z",
          "shell.execute_reply": "2024-12-16T13:05:40.698352Z"
        },
        "id": "d-3-gq5Upku9"
      },
      "outputs": [],
      "execution_count": null
    },
    {
      "cell_type": "code",
      "source": [
        "model = build_model(sequence_length=512, max_features=75000, embedding_dim=128,\n",
        "                    num_heads=2, ff_dim=128, drop_rate=0.5)\n",
        "model.compile(optimizer='adam', loss='binary_crossentropy', metrics=['accuracy'])\n",
        "model.summary()"
      ],
      "metadata": {
        "trusted": true,
        "execution": {
          "iopub.status.busy": "2024-12-16T13:05:40.702162Z",
          "iopub.execute_input": "2024-12-16T13:05:40.702427Z",
          "iopub.status.idle": "2024-12-16T13:05:42.831368Z",
          "shell.execute_reply.started": "2024-12-16T13:05:40.702406Z",
          "shell.execute_reply": "2024-12-16T13:05:42.83053Z"
        },
        "id": "upzUgPU1pku9"
      },
      "outputs": [],
      "execution_count": null
    },
    {
      "cell_type": "code",
      "source": [
        "model.compile(loss=\"binary_crossentropy\", optimizer=\"adam\", metrics=[\"binary_accuracy\"])\n",
        "\n",
        "epochs = 1\n",
        "model.fit(train_ds, validation_data=val_ds, epochs=epochs)"
      ],
      "metadata": {
        "execution": {
          "iopub.status.busy": "2024-12-16T13:05:42.832365Z",
          "iopub.execute_input": "2024-12-16T13:05:42.83261Z",
          "iopub.status.idle": "2024-12-16T13:09:09.061346Z",
          "shell.execute_reply.started": "2024-12-16T13:05:42.832589Z",
          "shell.execute_reply": "2024-12-16T13:09:09.060558Z"
        },
        "trusted": true,
        "id": "tggrKgLHpku9"
      },
      "outputs": [],
      "execution_count": null
    },
    {
      "cell_type": "code",
      "source": [
        "test_text = test['text'].values\n",
        "vectorized_test_text = vectorize_layer(test_text)\n",
        "predictions = model.predict(vectorized_test_text)\n",
        "test['generated'] = predictions\n",
        "print(test[['text', 'generated']])"
      ],
      "metadata": {
        "execution": {
          "iopub.status.busy": "2024-12-16T13:09:09.062326Z",
          "iopub.execute_input": "2024-12-16T13:09:09.062574Z",
          "iopub.status.idle": "2024-12-16T13:09:09.957251Z",
          "shell.execute_reply.started": "2024-12-16T13:09:09.062553Z",
          "shell.execute_reply": "2024-12-16T13:09:09.956456Z"
        },
        "trusted": true,
        "id": "aSpZkBZrpku9"
      },
      "outputs": [],
      "execution_count": null
    },
    {
      "cell_type": "code",
      "source": [
        "test[['id', 'generated']].set_index('id').to_csv(\"submission.csv\")"
      ],
      "metadata": {
        "execution": {
          "iopub.status.busy": "2024-12-16T13:09:09.958393Z",
          "iopub.execute_input": "2024-12-16T13:09:09.958622Z",
          "iopub.status.idle": "2024-12-16T13:09:09.96601Z",
          "shell.execute_reply.started": "2024-12-16T13:09:09.958599Z",
          "shell.execute_reply": "2024-12-16T13:09:09.965222Z"
        },
        "trusted": true,
        "id": "On6-0aQApku9"
      },
      "outputs": [],
      "execution_count": null
    },
    {
      "cell_type": "code",
      "source": [],
      "metadata": {
        "trusted": true,
        "id": "1-6yRl0fpku9"
      },
      "outputs": [],
      "execution_count": null
    }
  ]
}