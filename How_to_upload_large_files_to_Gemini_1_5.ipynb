{
  "metadata": {
    "kernelspec": {
      "language": "python",
      "display_name": "Python 3",
      "name": "python3"
    },
    "language_info": {
      "name": "python",
      "version": "3.10.14",
      "mimetype": "text/x-python",
      "codemirror_mode": {
        "name": "ipython",
        "version": 3
      },
      "pygments_lexer": "ipython3",
      "nbconvert_exporter": "python",
      "file_extension": ".py"
    },
    "kaggle": {
      "accelerator": "none",
      "dataSources": [
        {
          "sourceId": 83735,
          "databundleVersionId": 9816611,
          "sourceType": "competition"
        },
        {
          "sourceId": 8347597,
          "sourceType": "datasetVersion",
          "datasetId": 4959085
        }
      ],
      "dockerImageVersionId": 30786,
      "isInternetEnabled": true,
      "language": "python",
      "sourceType": "notebook",
      "isGpuEnabled": false
    },
    "colab": {
      "name": "How to upload large files to Gemini 1.5",
      "provenance": [],
      "include_colab_link": true
    }
  },
  "nbformat_minor": 0,
  "nbformat": 4,
  "cells": [
    {
      "cell_type": "markdown",
      "metadata": {
        "id": "view-in-github",
        "colab_type": "text"
      },
      "source": [
        "<a href=\"https://colab.research.google.com/github/thesis17/Afaan-Oromoo-chatGPT/blob/main/How_to_upload_large_files_to_Gemini_1_5.ipynb\" target=\"_parent\"><img src=\"https://colab.research.google.com/assets/colab-badge.svg\" alt=\"Open In Colab\"/></a>"
      ]
    },
    {
      "source": [
        "# IMPORTANT: SOME KAGGLE DATA SOURCES ARE PRIVATE\n",
        "# RUN THIS CELL IN ORDER TO IMPORT YOUR KAGGLE DATA SOURCES.\n",
        "import kagglehub\n",
        "kagglehub.login()\n"
      ],
      "metadata": {
        "id": "E3olRw2e-eZ7"
      },
      "cell_type": "code",
      "outputs": [],
      "execution_count": null
    },
    {
      "source": [
        "# IMPORTANT: RUN THIS CELL IN ORDER TO IMPORT YOUR KAGGLE DATA SOURCES,\n",
        "# THEN FEEL FREE TO DELETE THIS CELL.\n",
        "# NOTE: THIS NOTEBOOK ENVIRONMENT DIFFERS FROM KAGGLE'S PYTHON\n",
        "# ENVIRONMENT SO THERE MAY BE MISSING LIBRARIES USED BY YOUR\n",
        "# NOTEBOOK.\n",
        "\n",
        "gemini_long_context_path = kagglehub.competition_download('gemini-long-context')\n",
        "bisheshworneupane_bish_100_nepali_text_driven_ai_anchor_path = kagglehub.dataset_download('bisheshworneupane/bish-100-nepali-text-driven-ai-anchor')\n",
        "google_gemini_1_5_flash_api_api_gemini_1_5_flash_1_path = kagglehub.model_download('google/gemini-1.5-flash-api/Api/gemini-1.5-flash/1')\n",
        "\n",
        "print('Data source import complete.')\n"
      ],
      "metadata": {
        "id": "AeJM017Z-eZ8"
      },
      "cell_type": "code",
      "outputs": [],
      "execution_count": null
    },
    {
      "cell_type": "markdown",
      "source": [
        "# How to upload large files to Gemini 1.5"
      ],
      "metadata": {
        "id": "IOcAYIm5-eZ9"
      }
    },
    {
      "cell_type": "markdown",
      "source": [
        "## Step 0: Preview your large file"
      ],
      "metadata": {
        "id": "FgyQxQyE-eZ_"
      }
    },
    {
      "cell_type": "code",
      "source": [
        "from IPython.display import Video\n",
        "nepali_video = '/kaggle/input/bish-100-nepali-text-driven-ai-anchor/Video/10.webm'\n",
        "Video(nepali_video, embed=True, width=640, height=480)"
      ],
      "metadata": {
        "_kg_hide-input": true,
        "execution": {
          "iopub.status.busy": "2024-10-16T20:51:42.904926Z",
          "iopub.execute_input": "2024-10-16T20:51:42.905483Z",
          "iopub.status.idle": "2024-10-16T20:51:43.147207Z",
          "shell.execute_reply.started": "2024-10-16T20:51:42.905437Z",
          "shell.execute_reply": "2024-10-16T20:51:43.146006Z"
        },
        "trusted": true,
        "id": "a6-nbDbg-eZ_"
      },
      "execution_count": null,
      "outputs": []
    },
    {
      "cell_type": "markdown",
      "source": [
        "## Step 1: Import Python Packages"
      ],
      "metadata": {
        "id": "rEJWSIEw-eaA"
      }
    },
    {
      "cell_type": "code",
      "source": [
        "import os\n",
        "import time\n",
        "import google.generativeai as genai\n",
        "from kaggle_secrets import UserSecretsClient"
      ],
      "metadata": {
        "execution": {
          "iopub.status.busy": "2024-10-16T20:43:20.329522Z",
          "iopub.execute_input": "2024-10-16T20:43:20.330727Z",
          "iopub.status.idle": "2024-10-16T20:43:20.554905Z",
          "shell.execute_reply.started": "2024-10-16T20:43:20.330659Z",
          "shell.execute_reply": "2024-10-16T20:43:20.553552Z"
        },
        "_kg_hide-input": false,
        "trusted": true,
        "id": "tFcC7Byh-eaB"
      },
      "execution_count": null,
      "outputs": []
    },
    {
      "cell_type": "markdown",
      "source": [
        "## Step 2: Authenticate with Google Generative AI"
      ],
      "metadata": {
        "id": "cg0z1nK3-eaB"
      }
    },
    {
      "cell_type": "markdown",
      "source": [
        "Use of Gemini will require an API key. Please visit [Google AI Studio](https://ai.google.dev/)  to generate your key.\n",
        "\n",
        "Next, you should attach that key to your Kaggle Notebook as a [Kaggle User Secret](https://www.kaggle.com/discussions/product-feedback/114053).\n",
        "\n",
        "These steps are illustrated in the following screenshots:\n",
        "\n",
        "Attaching User Secrets:\n",
        " - https://i.imgur.com/GjuRLCA.png\n",
        " - https://i.imgur.com/IrSXAtw.png\n",
        "\n",
        "For details about pricing see https://ai.google.dev/pricing."
      ],
      "metadata": {
        "id": "tOf-UQYS-eaC"
      }
    },
    {
      "cell_type": "code",
      "source": [
        "user_secrets = UserSecretsClient()\n",
        "ai_studio_token = user_secrets.get_secret(\"ai_studio_token\")\n",
        "genai.configure(api_key=ai_studio_token)"
      ],
      "metadata": {
        "_kg_hide-input": false,
        "id": "UI7hIqog-eaD"
      },
      "execution_count": null,
      "outputs": []
    },
    {
      "cell_type": "markdown",
      "source": [
        "## Step 3: Define helper functions"
      ],
      "metadata": {
        "id": "mnHcY_Es-eaE"
      }
    },
    {
      "cell_type": "code",
      "source": [
        "def upload_to_gemini(path, mime_type=None):\n",
        "  \"\"\"Uploads the given file to Gemini.\n",
        "\n",
        "  See https://ai.google.dev/gemini-api/docs/prompting_with_media\n",
        "  \"\"\"\n",
        "  file = genai.upload_file(path, mime_type=mime_type)\n",
        "  print(f\"Uploaded file '{file.display_name}' as: {file.uri}\")\n",
        "  return file\n",
        "\n",
        "def wait_for_files_active(files):\n",
        "  \"\"\"Waits for the given files to be active.\n",
        "\n",
        "  Some files uploaded to the Gemini API need to be processed before they can be\n",
        "  used as prompt inputs. The status can be seen by querying the file's \"state\"\n",
        "  field.\n",
        "\n",
        "  This implementation uses a simple blocking polling loop. Production code\n",
        "  should probably employ a more sophisticated approach.\n",
        "  \"\"\"\n",
        "  print(\"Waiting for file processing...\")\n",
        "  for name in (file.name for file in files):\n",
        "    file = genai.get_file(name)\n",
        "    while file.state.name == \"PROCESSING\":\n",
        "      print(\".\", end=\"\", flush=True)\n",
        "      time.sleep(10)\n",
        "      file = genai.get_file(name)\n",
        "    if file.state.name != \"ACTIVE\":\n",
        "      raise Exception(f\"File {file.name} failed to process\")\n",
        "  print(\"...all files ready\")\n",
        "  print()"
      ],
      "metadata": {
        "execution": {
          "iopub.status.busy": "2024-10-16T20:45:01.089257Z",
          "iopub.execute_input": "2024-10-16T20:45:01.089942Z",
          "iopub.status.idle": "2024-10-16T20:45:01.10317Z",
          "shell.execute_reply.started": "2024-10-16T20:45:01.089877Z",
          "shell.execute_reply": "2024-10-16T20:45:01.101129Z"
        },
        "_kg_hide-input": true,
        "trusted": true,
        "id": "eU2mr_r6-eaF"
      },
      "execution_count": null,
      "outputs": []
    },
    {
      "cell_type": "markdown",
      "source": [
        "## Step 4: Load the Gemini 1.5 model"
      ],
      "metadata": {
        "id": "A4_Vg70i-eaF"
      }
    },
    {
      "cell_type": "code",
      "source": [
        "# Create the model\n",
        "generation_config = {\n",
        "  \"temperature\": 1,\n",
        "  \"top_p\": 0.95,\n",
        "  \"top_k\": 64,\n",
        "  \"max_output_tokens\": 8192,\n",
        "  \"response_mime_type\": \"text/plain\",\n",
        "}\n",
        "\n",
        "model = genai.GenerativeModel(\n",
        "  model_name=\"gemini-1.5-flash\",\n",
        "  generation_config=generation_config,\n",
        ")"
      ],
      "metadata": {
        "id": "6-L6JnEL-eaG"
      },
      "execution_count": null,
      "outputs": []
    },
    {
      "cell_type": "markdown",
      "source": [
        "## Step 5: Upload your large file to Gemini 1.5"
      ],
      "metadata": {
        "id": "L8ju74Tc-eaG"
      }
    },
    {
      "cell_type": "code",
      "source": [
        "files = [\n",
        "  upload_to_gemini(nepali_video, mime_type=\"video/webm\"),\n",
        "]\n",
        "\n",
        "wait_for_files_active(files)\n",
        "\n",
        "chat_session = model.start_chat(\n",
        "  history=[\n",
        "    {\n",
        "      \"role\": \"user\",\n",
        "      \"parts\": [\n",
        "        files[0],\n",
        "      ],\n",
        "    }\n",
        "  ]\n",
        ")"
      ],
      "metadata": {
        "_uuid": "8f2839f25d086af736a60e9eeb907d3b93b6e0e5",
        "_cell_guid": "b1076dfc-b9ad-4769-8c92-a6c4dae69d19",
        "execution": {
          "iopub.status.busy": "2024-10-16T20:45:02.417714Z",
          "iopub.execute_input": "2024-10-16T20:45:02.418223Z",
          "iopub.status.idle": "2024-10-16T20:45:16.408974Z",
          "shell.execute_reply.started": "2024-10-16T20:45:02.418177Z",
          "shell.execute_reply": "2024-10-16T20:45:16.407593Z"
        },
        "trusted": true,
        "id": "41pdgevl-eaG"
      },
      "execution_count": null,
      "outputs": []
    },
    {
      "cell_type": "markdown",
      "source": [
        "## Step 6: Ask Gemini 1.5 questions about your large file"
      ],
      "metadata": {
        "id": "Y5k12zdW-eaG"
      }
    },
    {
      "cell_type": "code",
      "source": [
        "response = chat_session.send_message(\"Please give me the English language transcript for this video.\")\n",
        "print(response.text)"
      ],
      "metadata": {
        "execution": {
          "iopub.status.busy": "2024-10-16T20:47:46.541603Z",
          "iopub.execute_input": "2024-10-16T20:47:46.542646Z",
          "iopub.status.idle": "2024-10-16T20:47:47.704444Z",
          "shell.execute_reply.started": "2024-10-16T20:47:46.542595Z",
          "shell.execute_reply": "2024-10-16T20:47:47.702932Z"
        },
        "trusted": true,
        "id": "jtMnO7st-eaH"
      },
      "execution_count": null,
      "outputs": []
    },
    {
      "cell_type": "code",
      "source": [
        "print(response.usage_metadata)"
      ],
      "metadata": {
        "id": "jHZuDcuY-eaH"
      },
      "execution_count": null,
      "outputs": []
    },
    {
      "cell_type": "markdown",
      "source": [
        "Credit:\n",
        " - Adapted from https://aistudio.google.com/app/prompts/video-qa"
      ],
      "metadata": {
        "id": "CScw509l-eaH"
      }
    },
    {
      "cell_type": "code",
      "source": [],
      "metadata": {
        "id": "iJ3jrS-j-eaI"
      },
      "execution_count": null,
      "outputs": []
    }
  ]
}