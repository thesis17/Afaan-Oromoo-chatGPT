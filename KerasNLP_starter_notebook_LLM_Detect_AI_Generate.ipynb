{
  "metadata": {
    "kernelspec": {
      "language": "python",
      "display_name": "Python 3",
      "name": "python3"
    },
    "language_info": {
      "name": "python",
      "version": "3.10.12",
      "mimetype": "text/x-python",
      "codemirror_mode": {
        "name": "ipython",
        "version": 3
      },
      "pygments_lexer": "ipython3",
      "nbconvert_exporter": "python",
      "file_extension": ".py"
    },
    "kaggle": {
      "accelerator": "nvidiaTeslaT4",
      "dataSources": [
        {
          "sourceId": 61542,
          "databundleVersionId": 6888007,
          "sourceType": "competition"
        },
        {
          "sourceId": 6890527,
          "sourceType": "datasetVersion",
          "datasetId": 3942644
        }
      ],
      "dockerImageVersionId": 30558,
      "isInternetEnabled": true,
      "language": "python",
      "sourceType": "notebook",
      "isGpuEnabled": true
    },
    "colab": {
      "name": "KerasNLP starter notebook LLM - Detect AI Generate",
      "provenance": [],
      "include_colab_link": true
    }
  },
  "nbformat_minor": 0,
  "nbformat": 4,
  "cells": [
    {
      "cell_type": "markdown",
      "metadata": {
        "id": "view-in-github",
        "colab_type": "text"
      },
      "source": [
        "<a href=\"https://colab.research.google.com/github/thesis17/Afaan-Oromoo-chatGPT/blob/main/KerasNLP_starter_notebook_LLM_Detect_AI_Generate.ipynb\" target=\"_parent\"><img src=\"https://colab.research.google.com/assets/colab-badge.svg\" alt=\"Open In Colab\"/></a>"
      ]
    },
    {
      "source": [
        "# IMPORTANT: RUN THIS CELL IN ORDER TO IMPORT YOUR KAGGLE DATA SOURCES,\n",
        "# THEN FEEL FREE TO DELETE THIS CELL.\n",
        "# NOTE: THIS NOTEBOOK ENVIRONMENT DIFFERS FROM KAGGLE'S PYTHON\n",
        "# ENVIRONMENT SO THERE MAY BE MISSING LIBRARIES USED BY YOUR\n",
        "# NOTEBOOK.\n",
        "import kagglehub\n",
        "thedrcat_daigt_proper_train_dataset_path = kagglehub.dataset_download('thedrcat/daigt-proper-train-dataset')\n",
        "\n",
        "print('Data source import complete.')\n"
      ],
      "metadata": {
        "id": "YB5Ul2cZqMpc"
      },
      "cell_type": "code",
      "outputs": [],
      "execution_count": null
    },
    {
      "cell_type": "markdown",
      "source": [
        "<center><img src=\"https://keras.io/img/logo-small.png\" alt=\"Keras logo\" width=\"100\"><br/>\n",
        "This starter notebook is provided by the Keras team.</center>\n",
        "\n",
        "## Keras NLP starter guide here: https://keras.io/guides/keras_nlp/getting_started/\n",
        "\n",
        "In this competition, the challenge is to build a machine learning model that predicts if a text is written by an AI or by a student.\n",
        "\n",
        "__This starter notebook uses the [DistilBERT](https://arxiv.org/abs/1910.01108) pretrained model from KerasNLP.__\n",
        "\n",
        "\n",
        "**BERT** stands for **Bidirectional Encoder Representations from Transformers**. BERT and other Transformer encoder architectures have been wildly successful on a variety of tasks in NLP (natural language processing). They compute vector-space representations of natural language that are suitable for use in deep learning models.\n",
        "\n",
        "The BERT family of models uses the **Transformer encoder architecture** to process each token of input text in the full context of all tokens before and after, hence the name: Bidirectional Encoder Representations from Transformers.\n",
        "\n",
        "BERT models are usually pre-trained on a large corpus of text, then fine-tuned for specific tasks.\n",
        "\n",
        "**DistilBERT model** is a distilled form of the **BERT** model. The size of a BERT model was reduced by 40% via knowledge distillation during the pre-training phase while retaining 97% of its language understanding abilities and being 60% faster.\n",
        "\n",
        "\n",
        "\n",
        "![BERT Architecture](https://www.cse.chalmers.se/~richajo/nlp2019/l5/bert_class.png)\n",
        "\n",
        "\n",
        "\n",
        "In this notebook, you will:\n",
        "\n",
        "- Load the Detect AI Generated Text dataset\n",
        "- Explore the dataset\n",
        "- Preprocess the data\n",
        "- Load a DistilBERT model from Keras NLP\n",
        "- Train your own model, fine-tuning BERT\n",
        "- Generate the submission file\n"
      ],
      "metadata": {
        "_uuid": "8f2839f25d086af736a60e9eeb907d3b93b6e0e5",
        "_cell_guid": "b1076dfc-b9ad-4769-8c92-a6c4dae69d19",
        "id": "XO9IsBizqMpd"
      }
    },
    {
      "cell_type": "code",
      "source": [
        "!pip install keras-core --upgrade\n",
        "!pip install -q keras-nlp\n",
        "!pip install seaborn"
      ],
      "metadata": {
        "execution": {
          "iopub.status.busy": "2023-12-04T17:40:42.746117Z",
          "iopub.execute_input": "2023-12-04T17:40:42.746595Z",
          "iopub.status.idle": "2023-12-04T17:41:23.53671Z",
          "shell.execute_reply.started": "2023-12-04T17:40:42.746561Z",
          "shell.execute_reply": "2023-12-04T17:41:23.535653Z"
        },
        "trusted": true,
        "id": "0OogYcj9qMpe"
      },
      "execution_count": null,
      "outputs": []
    },
    {
      "cell_type": "code",
      "source": [
        "import os\n",
        "os.environ['KERAS_BACKEND'] = 'tensorflow'\n",
        "import numpy as np # linear algebra\n",
        "import pandas as pd # data processing, CSV file I/O (e.g. pd.read_csv)\n",
        "import tensorflow as tf\n",
        "import keras_core as keras\n",
        "import keras_nlp\n",
        "import seaborn as sns\n",
        "import matplotlib.pyplot as plt\n",
        "\n",
        "\n",
        "print(\"TensorFlow version:\", tf.__version__)\n",
        "print(\"Keras version:\", keras.__version__)\n",
        "print(\"KerasNLP version:\", keras_nlp.__version__)"
      ],
      "metadata": {
        "execution": {
          "iopub.status.busy": "2023-12-04T17:41:23.539203Z",
          "iopub.execute_input": "2023-12-04T17:41:23.539625Z",
          "iopub.status.idle": "2023-12-04T17:41:42.51945Z",
          "shell.execute_reply.started": "2023-12-04T17:41:23.539585Z",
          "shell.execute_reply": "2023-12-04T17:41:42.51844Z"
        },
        "trusted": true,
        "id": "rW5ezWS7qMpe"
      },
      "execution_count": null,
      "outputs": []
    },
    {
      "cell_type": "markdown",
      "source": [
        "# Load the Detect AI Generated Text\n",
        "Let's have a look at all the data files"
      ],
      "metadata": {
        "id": "FYa9iqqcqMpf"
      }
    },
    {
      "cell_type": "code",
      "source": [
        "DATA_DIR = '/kaggle/input/llm-detect-ai-generated-text/'\n",
        "\n",
        "for dirname, _, filenames in os.walk(DATA_DIR):\n",
        "    for filename in filenames:\n",
        "        print(os.path.join(dirname, filename))"
      ],
      "metadata": {
        "execution": {
          "iopub.status.busy": "2023-12-04T17:41:42.520619Z",
          "iopub.execute_input": "2023-12-04T17:41:42.52113Z",
          "iopub.status.idle": "2023-12-04T17:41:42.526925Z",
          "shell.execute_reply.started": "2023-12-04T17:41:42.521101Z",
          "shell.execute_reply": "2023-12-04T17:41:42.526057Z"
        },
        "trusted": true,
        "id": "8msOjLsIqMpf"
      },
      "execution_count": null,
      "outputs": []
    },
    {
      "cell_type": "markdown",
      "source": [
        "# Explore the dataset\n",
        "\n",
        "Let's look at the distribution of labels in the training set."
      ],
      "metadata": {
        "id": "xHTPor8MqMpf"
      }
    },
    {
      "cell_type": "code",
      "source": [
        "df_train_prompts = pd.read_csv(DATA_DIR + \"train_prompts.csv\")\n",
        "print(df_train_prompts.info())\n",
        "df_train_prompts.head()"
      ],
      "metadata": {
        "execution": {
          "iopub.status.busy": "2023-12-04T17:41:42.529017Z",
          "iopub.execute_input": "2023-12-04T17:41:42.529314Z",
          "iopub.status.idle": "2023-12-04T17:41:42.611114Z",
          "shell.execute_reply.started": "2023-12-04T17:41:42.529289Z",
          "shell.execute_reply": "2023-12-04T17:41:42.610094Z"
        },
        "trusted": true,
        "id": "Neoo194JqMpf"
      },
      "execution_count": null,
      "outputs": []
    },
    {
      "cell_type": "markdown",
      "source": [
        "**Only two prompts are used in this dataset.**\n",
        "\n",
        "Let's look at the distribution of text/generated in the training set."
      ],
      "metadata": {
        "id": "_CEsz2MxqMpg"
      }
    },
    {
      "cell_type": "code",
      "source": [
        "df_train_essays = pd.read_csv(DATA_DIR + \"train_essays.csv\")\n",
        "print(df_train_essays.info())\n",
        "df_train_essays.head()"
      ],
      "metadata": {
        "execution": {
          "iopub.status.busy": "2023-12-04T17:41:42.612261Z",
          "iopub.execute_input": "2023-12-04T17:41:42.612536Z",
          "iopub.status.idle": "2023-12-04T17:41:42.713292Z",
          "shell.execute_reply.started": "2023-12-04T17:41:42.612513Z",
          "shell.execute_reply": "2023-12-04T17:41:42.712423Z"
        },
        "trusted": true,
        "id": "PV1cm_3UqMpg"
      },
      "execution_count": null,
      "outputs": []
    },
    {
      "cell_type": "code",
      "source": [
        "f, ax = plt.subplots(figsize=(12, 4))\n",
        "\n",
        "sns.despine()\n",
        "ax = sns.countplot(data=df_train_essays,\n",
        "                   x=\"prompt_id\")\n",
        "\n",
        "abs_values = df_train_essays['prompt_id'].value_counts().values\n",
        "\n",
        "ax.bar_label(container=ax.containers[0], labels=abs_values)\n",
        "\n",
        "ax.set_title(\"Distribution of prompt ID\")"
      ],
      "metadata": {
        "execution": {
          "iopub.status.busy": "2023-12-04T17:41:42.714684Z",
          "iopub.execute_input": "2023-12-04T17:41:42.715346Z",
          "iopub.status.idle": "2023-12-04T17:41:43.062958Z",
          "shell.execute_reply.started": "2023-12-04T17:41:42.715306Z",
          "shell.execute_reply": "2023-12-04T17:41:43.062037Z"
        },
        "trusted": true,
        "id": "_cCUfFu5qMpg"
      },
      "execution_count": null,
      "outputs": []
    },
    {
      "cell_type": "code",
      "source": [
        "f, ax = plt.subplots(figsize=(12, 4))\n",
        "\n",
        "sns.despine()\n",
        "ax = sns.countplot(data=df_train_essays,\n",
        "                   x=\"generated\")\n",
        "\n",
        "abs_values = df_train_essays['generated'].value_counts().values\n",
        "\n",
        "ax.bar_label(container=ax.containers[0], labels=abs_values)\n",
        "\n",
        "ax.set_title(\"Distribution of Generated Text\")"
      ],
      "metadata": {
        "execution": {
          "iopub.status.busy": "2023-12-04T17:41:43.064121Z",
          "iopub.execute_input": "2023-12-04T17:41:43.064418Z",
          "iopub.status.idle": "2023-12-04T17:41:43.357569Z",
          "shell.execute_reply.started": "2023-12-04T17:41:43.06439Z",
          "shell.execute_reply": "2023-12-04T17:41:43.356576Z"
        },
        "trusted": true,
        "id": "ltCgo_BzqMpg"
      },
      "execution_count": null,
      "outputs": []
    },
    {
      "cell_type": "markdown",
      "source": [
        "**1375 essays are written by human and only 3 by AI.**\n",
        "\n",
        "**The distribution between the two prompts is pretty equal.**"
      ],
      "metadata": {
        "id": "t8iCKe0eqMpg"
      }
    },
    {
      "cell_type": "code",
      "source": [
        "df_test_essays = pd.read_csv(DATA_DIR + \"test_essays.csv\")\n",
        "print(df_test_essays.info())\n",
        "df_test_essays.head()"
      ],
      "metadata": {
        "execution": {
          "iopub.status.busy": "2023-12-04T17:41:43.359308Z",
          "iopub.execute_input": "2023-12-04T17:41:43.359641Z",
          "iopub.status.idle": "2023-12-04T17:41:43.382759Z",
          "shell.execute_reply.started": "2023-12-04T17:41:43.359612Z",
          "shell.execute_reply": "2023-12-04T17:41:43.381744Z"
        },
        "trusted": true,
        "id": "tn0c2mtBqMph"
      },
      "execution_count": null,
      "outputs": []
    },
    {
      "cell_type": "code",
      "source": [
        "df_test_essays[\"text\"].apply(lambda x : len(x))"
      ],
      "metadata": {
        "execution": {
          "iopub.status.busy": "2023-12-04T17:41:43.38402Z",
          "iopub.execute_input": "2023-12-04T17:41:43.384304Z",
          "iopub.status.idle": "2023-12-04T17:41:43.391614Z",
          "shell.execute_reply.started": "2023-12-04T17:41:43.384277Z",
          "shell.execute_reply": "2023-12-04T17:41:43.3907Z"
        },
        "trusted": true,
        "id": "IdPc-z81qMph"
      },
      "execution_count": null,
      "outputs": []
    },
    {
      "cell_type": "markdown",
      "source": [
        "**The test dataset contains only 3 essays. The length of each essay is very small (12 characters).**"
      ],
      "metadata": {
        "id": "ScnWPNpqqMph"
      }
    },
    {
      "cell_type": "markdown",
      "source": [
        "# Add new data to the training dataset\n",
        "\n",
        "As the dataset does not contain any generated data. We will use the dataset created by [DAREK KŁECZEK](https://www.kaggle.com/competitions/llm-detect-ai-generated-text/discussion/455517)"
      ],
      "metadata": {
        "id": "6w0NHqGIqMph"
      }
    },
    {
      "cell_type": "code",
      "source": [
        "df_train_essays_ext = pd.read_csv('/kaggle/input/daigt-proper-train-dataset/train_drcat_04.csv')\n",
        "\n",
        "df_train_essays_ext.rename(columns = {\"label\":\"generated\"}, inplace=True)\n",
        "\n",
        "df_train_essays_ext.info()"
      ],
      "metadata": {
        "execution": {
          "iopub.status.busy": "2023-12-04T17:41:43.395091Z",
          "iopub.execute_input": "2023-12-04T17:41:43.395388Z",
          "iopub.status.idle": "2023-12-04T17:41:46.367525Z",
          "shell.execute_reply.started": "2023-12-04T17:41:43.39534Z",
          "shell.execute_reply": "2023-12-04T17:41:46.366288Z"
        },
        "trusted": true,
        "id": "yIVRb0r8qMph"
      },
      "execution_count": null,
      "outputs": []
    },
    {
      "cell_type": "code",
      "source": [
        "df_train_essays_ext.head()"
      ],
      "metadata": {
        "execution": {
          "iopub.status.busy": "2023-12-04T17:41:46.368935Z",
          "iopub.execute_input": "2023-12-04T17:41:46.36969Z",
          "iopub.status.idle": "2023-12-04T17:41:46.38126Z",
          "shell.execute_reply.started": "2023-12-04T17:41:46.369652Z",
          "shell.execute_reply": "2023-12-04T17:41:46.380303Z"
        },
        "trusted": true,
        "id": "veucqfm9qMph"
      },
      "execution_count": null,
      "outputs": []
    },
    {
      "cell_type": "code",
      "source": [
        "f, ax = plt.subplots(figsize=(12, 4))\n",
        "\n",
        "sns.despine()\n",
        "ax = sns.countplot(data=df_train_essays_ext,\n",
        "                   x=\"generated\")\n",
        "\n",
        "abs_values = df_train_essays_ext['generated'].value_counts().values\n",
        "\n",
        "ax.bar_label(container=ax.containers[0], labels=abs_values)\n",
        "\n",
        "ax.set_title(\"Distribution of Generated Text\")"
      ],
      "metadata": {
        "execution": {
          "iopub.status.busy": "2023-12-04T17:41:46.382745Z",
          "iopub.execute_input": "2023-12-04T17:41:46.383048Z",
          "iopub.status.idle": "2023-12-04T17:41:46.675012Z",
          "shell.execute_reply.started": "2023-12-04T17:41:46.383022Z",
          "shell.execute_reply": "2023-12-04T17:41:46.67403Z"
        },
        "trusted": true,
        "id": "vMcR5LnqqMph"
      },
      "execution_count": null,
      "outputs": []
    },
    {
      "cell_type": "code",
      "source": [
        "df_train_essays\n"
      ],
      "metadata": {
        "execution": {
          "iopub.status.busy": "2023-12-04T17:41:46.676102Z",
          "iopub.execute_input": "2023-12-04T17:41:46.676421Z",
          "iopub.status.idle": "2023-12-04T17:41:46.693983Z",
          "shell.execute_reply.started": "2023-12-04T17:41:46.676382Z",
          "shell.execute_reply": "2023-12-04T17:41:46.693049Z"
        },
        "trusted": true,
        "id": "qPGdal98qMph"
      },
      "execution_count": null,
      "outputs": []
    },
    {
      "cell_type": "code",
      "source": [
        "df_train_essays_final = pd.concat([df_train_essays_ext[[\"text\", \"generated\"]], df_train_essays[[\"text\", \"generated\"]]])\n",
        "\n",
        "df_train_essays_final.info()"
      ],
      "metadata": {
        "execution": {
          "iopub.status.busy": "2023-12-04T17:41:46.695272Z",
          "iopub.execute_input": "2023-12-04T17:41:46.6956Z",
          "iopub.status.idle": "2023-12-04T17:41:46.72228Z",
          "shell.execute_reply.started": "2023-12-04T17:41:46.695572Z",
          "shell.execute_reply": "2023-12-04T17:41:46.721263Z"
        },
        "trusted": true,
        "id": "bn7jFj4dqMpi"
      },
      "execution_count": null,
      "outputs": []
    },
    {
      "cell_type": "markdown",
      "source": [
        "# Prepare data\n",
        "\n",
        "Let's count the number of words in each essay"
      ],
      "metadata": {
        "execution": {
          "iopub.status.busy": "2023-11-06T12:45:26.529164Z",
          "iopub.execute_input": "2023-11-06T12:45:26.529564Z",
          "iopub.status.idle": "2023-11-06T12:45:26.536032Z",
          "shell.execute_reply.started": "2023-11-06T12:45:26.529532Z",
          "shell.execute_reply": "2023-11-06T12:45:26.534584Z"
        },
        "id": "8LG0K94nqMpi"
      }
    },
    {
      "cell_type": "code",
      "source": [
        "df_train_essays[\"text_length\"] = df_train_essays[\"text\"].apply(lambda x : len(x.split()))"
      ],
      "metadata": {
        "execution": {
          "iopub.status.busy": "2023-12-04T17:41:46.723564Z",
          "iopub.execute_input": "2023-12-04T17:41:46.723903Z",
          "iopub.status.idle": "2023-12-04T17:41:46.775158Z",
          "shell.execute_reply.started": "2023-12-04T17:41:46.72387Z",
          "shell.execute_reply": "2023-12-04T17:41:46.774422Z"
        },
        "trusted": true,
        "id": "0zROjFG1qMpi"
      },
      "execution_count": null,
      "outputs": []
    },
    {
      "cell_type": "code",
      "source": [
        "fig = plt.figure(figsize=(40,50))\n",
        "plot = sns.displot(data=df_train_essays,\n",
        "                 x=\"text_length\", bins=30, kde=True)\n",
        "plot.fig.suptitle(\"Distribution of the length per essay - Train dataset\")\n"
      ],
      "metadata": {
        "execution": {
          "iopub.status.busy": "2023-12-04T17:41:46.776098Z",
          "iopub.execute_input": "2023-12-04T17:41:46.77635Z",
          "iopub.status.idle": "2023-12-04T17:41:47.372388Z",
          "shell.execute_reply.started": "2023-12-04T17:41:46.776326Z",
          "shell.execute_reply": "2023-12-04T17:41:47.371413Z"
        },
        "trusted": true,
        "id": "ceo7x9IvqMpi"
      },
      "execution_count": null,
      "outputs": []
    },
    {
      "cell_type": "code",
      "source": [
        "df_train_essays[\"text_length\"].mean() + df_train_essays[\"text_length\"].std()"
      ],
      "metadata": {
        "execution": {
          "iopub.status.busy": "2023-12-04T17:41:47.373454Z",
          "iopub.execute_input": "2023-12-04T17:41:47.373734Z",
          "iopub.status.idle": "2023-12-04T17:41:47.381861Z",
          "shell.execute_reply.started": "2023-12-04T17:41:47.37371Z",
          "shell.execute_reply": "2023-12-04T17:41:47.380853Z"
        },
        "trusted": true,
        "id": "q17QqMoKqMpi"
      },
      "execution_count": null,
      "outputs": []
    },
    {
      "cell_type": "markdown",
      "source": [
        "# Create the model"
      ],
      "metadata": {
        "id": "k8bqLPTeqMpi"
      }
    },
    {
      "cell_type": "code",
      "source": [
        "# We choose 512 because it's the limit of DistilBert\n",
        "SEQ_LENGTH = 512\n",
        "\n",
        "# Use a shorter sequence length.\n",
        "preprocessor = keras_nlp.models.DistilBertPreprocessor.from_preset(\n",
        "    \"distil_bert_base_en_uncased\",\n",
        "    sequence_length=SEQ_LENGTH,\n",
        ")\n",
        "\n",
        "# Pretrained classifier.\n",
        "classifier = keras_nlp.models.DistilBertClassifier.from_preset(\n",
        "    \"distil_bert_base_en_uncased\",\n",
        "    num_classes=2,\n",
        "    activation=None,\n",
        "    preprocessor=preprocessor,\n",
        ")\n",
        "\n",
        "# Re-compile (e.g., with a new learning rate)\n",
        "classifier.compile(\n",
        "    loss=keras.losses.SparseCategoricalCrossentropy(from_logits=True),\n",
        "    optimizer=keras.optimizers.Adam(5e-4),\n",
        "    metrics=[\n",
        "        keras.metrics.SparseCategoricalAccuracy()\n",
        "   ]\n",
        ")\n",
        "\n",
        "\n",
        "# Access backbone programmatically (e.g., to change `trainable`).\n",
        "classifier.backbone.trainable = False\n",
        "\n",
        "\n",
        "classifier.summary()"
      ],
      "metadata": {
        "execution": {
          "iopub.status.busy": "2023-12-04T17:41:47.38316Z",
          "iopub.execute_input": "2023-12-04T17:41:47.383484Z",
          "iopub.status.idle": "2023-12-04T17:41:57.54725Z",
          "shell.execute_reply.started": "2023-12-04T17:41:47.383457Z",
          "shell.execute_reply": "2023-12-04T17:41:57.546342Z"
        },
        "trusted": true,
        "id": "Gxwn3BWAqMpi"
      },
      "execution_count": null,
      "outputs": []
    },
    {
      "cell_type": "code",
      "source": [
        "# Split the dataset into train and test sets\n",
        "from sklearn.model_selection import train_test_split\n",
        "X_train, X_test, y_train, y_test = train_test_split(df_train_essays_final[\"text\"],\n",
        "                                                    df_train_essays_final[\"generated\"],\n",
        "                                                    test_size=0.33,\n",
        "                                                    random_state=42)"
      ],
      "metadata": {
        "execution": {
          "iopub.status.busy": "2023-12-04T17:41:57.550287Z",
          "iopub.execute_input": "2023-12-04T17:41:57.550637Z",
          "iopub.status.idle": "2023-12-04T17:41:57.8433Z",
          "shell.execute_reply.started": "2023-12-04T17:41:57.55061Z",
          "shell.execute_reply": "2023-12-04T17:41:57.842503Z"
        },
        "trusted": true,
        "id": "g2lQi1V4qMpi"
      },
      "execution_count": null,
      "outputs": []
    },
    {
      "cell_type": "code",
      "source": [
        "# Fit\n",
        "classifier.fit(x=X_train,\n",
        "               y=y_train,\n",
        "               validation_data=(X_test, y_test),\n",
        "               epochs=1,\n",
        "               batch_size=64\n",
        "              )"
      ],
      "metadata": {
        "execution": {
          "iopub.status.busy": "2023-12-04T17:41:57.844643Z",
          "iopub.execute_input": "2023-12-04T17:41:57.845031Z",
          "iopub.status.idle": "2023-12-04T17:55:13.073262Z",
          "shell.execute_reply.started": "2023-12-04T17:41:57.844993Z",
          "shell.execute_reply": "2023-12-04T17:55:13.072285Z"
        },
        "trusted": true,
        "id": "F1mny0w1qMpi"
      },
      "execution_count": null,
      "outputs": []
    },
    {
      "cell_type": "code",
      "source": [
        "def displayConfusionMatrix(y_true, y_pred, dataset):\n",
        "    disp = ConfusionMatrixDisplay.from_predictions(\n",
        "        y_true,\n",
        "        np.argmax(y_pred, axis=1),\n",
        "        display_labels=[\"Not Generated\",\"Generated\"],\n",
        "        cmap=plt.cm.Blues\n",
        "    )\n",
        "\n",
        "    tn, fp, fn, tp = confusion_matrix(y_true, np.argmax(y_pred, axis=1)).ravel()\n",
        "    f1_score = tp / (tp+((fn+fp)/2))\n",
        "\n",
        "    disp.ax_.set_title(\"Confusion Matrix on \" + dataset + \" Dataset -- F1 Score: \" + str(f1_score.round(2)))\n"
      ],
      "metadata": {
        "execution": {
          "iopub.status.busy": "2023-12-04T17:55:13.074913Z",
          "iopub.execute_input": "2023-12-04T17:55:13.075316Z",
          "iopub.status.idle": "2023-12-04T17:55:13.082603Z",
          "shell.execute_reply.started": "2023-12-04T17:55:13.075262Z",
          "shell.execute_reply": "2023-12-04T17:55:13.081631Z"
        },
        "trusted": true,
        "id": "rgRYau9UqMpi"
      },
      "execution_count": null,
      "outputs": []
    },
    {
      "cell_type": "code",
      "source": [
        "y_pred_test = classifier.predict(X_test)"
      ],
      "metadata": {
        "execution": {
          "iopub.status.busy": "2023-12-04T17:55:13.083829Z",
          "iopub.execute_input": "2023-12-04T17:55:13.084227Z",
          "iopub.status.idle": "2023-12-04T17:59:27.999712Z",
          "shell.execute_reply.started": "2023-12-04T17:55:13.084192Z",
          "shell.execute_reply": "2023-12-04T17:59:27.998573Z"
        },
        "trusted": true,
        "id": "jufPr9uVqMpj"
      },
      "execution_count": null,
      "outputs": []
    },
    {
      "cell_type": "code",
      "source": [
        "from sklearn.metrics import ConfusionMatrixDisplay, confusion_matrix\n",
        "displayConfusionMatrix(y_test, y_pred_test,  \"Test\")"
      ],
      "metadata": {
        "execution": {
          "iopub.status.busy": "2023-12-04T17:59:28.002974Z",
          "iopub.execute_input": "2023-12-04T17:59:28.003347Z",
          "iopub.status.idle": "2023-12-04T17:59:28.334343Z",
          "shell.execute_reply.started": "2023-12-04T17:59:28.003318Z",
          "shell.execute_reply": "2023-12-04T17:59:28.333405Z"
        },
        "trusted": true,
        "id": "y7MPaxTLqMpj"
      },
      "execution_count": null,
      "outputs": []
    },
    {
      "cell_type": "code",
      "source": [],
      "metadata": {
        "id": "BPa_3dyPqMpj"
      },
      "execution_count": null,
      "outputs": []
    }
  ]
}