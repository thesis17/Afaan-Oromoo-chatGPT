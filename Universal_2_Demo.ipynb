{
  "nbformat": 4,
  "nbformat_minor": 0,
  "metadata": {
    "colab": {
      "provenance": [],
      "include_colab_link": true
    },
    "kernelspec": {
      "name": "python3",
      "display_name": "Python 3"
    },
    "language_info": {
      "name": "python"
    }
  },
  "cells": [
    {
      "cell_type": "markdown",
      "metadata": {
        "id": "view-in-github",
        "colab_type": "text"
      },
      "source": [
        "<a href=\"https://colab.research.google.com/github/thesis17/Afaan-Oromoo-chatGPT/blob/main/Universal_2_Demo.ipynb\" target=\"_parent\"><img src=\"https://colab.research.google.com/assets/colab-badge.svg\" alt=\"Open In Colab\"/></a>"
      ]
    },
    {
      "cell_type": "markdown",
      "source": [
        "#Install AssemblyAI"
      ],
      "metadata": {
        "id": "fzUbTfSGQU5s"
      }
    },
    {
      "cell_type": "code",
      "source": [
        "!pip install assemblyai"
      ],
      "metadata": {
        "colab": {
          "base_uri": "https://localhost:8080/"
        },
        "id": "zYMg8284NTPT",
        "outputId": "85760861-a8aa-4917-b07a-5c0afc2d0eed"
      },
      "execution_count": null,
      "outputs": [
        {
          "output_type": "stream",
          "name": "stdout",
          "text": [
            "Requirement already satisfied: assemblyai in /usr/local/lib/python3.10/dist-packages (0.34.0)\n",
            "Requirement already satisfied: httpx>=0.19.0 in /usr/local/lib/python3.10/dist-packages (from assemblyai) (0.27.2)\n",
            "Requirement already satisfied: pydantic!=1.10.7,>=1.7.0 in /usr/local/lib/python3.10/dist-packages (from assemblyai) (2.9.2)\n",
            "Requirement already satisfied: typing-extensions>=3.7 in /usr/local/lib/python3.10/dist-packages (from assemblyai) (4.12.2)\n",
            "Requirement already satisfied: websockets>=11.0 in /usr/local/lib/python3.10/dist-packages (from assemblyai) (13.1)\n",
            "Requirement already satisfied: anyio in /usr/local/lib/python3.10/dist-packages (from httpx>=0.19.0->assemblyai) (3.7.1)\n",
            "Requirement already satisfied: certifi in /usr/local/lib/python3.10/dist-packages (from httpx>=0.19.0->assemblyai) (2024.8.30)\n",
            "Requirement already satisfied: httpcore==1.* in /usr/local/lib/python3.10/dist-packages (from httpx>=0.19.0->assemblyai) (1.0.6)\n",
            "Requirement already satisfied: idna in /usr/local/lib/python3.10/dist-packages (from httpx>=0.19.0->assemblyai) (3.10)\n",
            "Requirement already satisfied: sniffio in /usr/local/lib/python3.10/dist-packages (from httpx>=0.19.0->assemblyai) (1.3.1)\n",
            "Requirement already satisfied: h11<0.15,>=0.13 in /usr/local/lib/python3.10/dist-packages (from httpcore==1.*->httpx>=0.19.0->assemblyai) (0.14.0)\n",
            "Requirement already satisfied: annotated-types>=0.6.0 in /usr/local/lib/python3.10/dist-packages (from pydantic!=1.10.7,>=1.7.0->assemblyai) (0.7.0)\n",
            "Requirement already satisfied: pydantic-core==2.23.4 in /usr/local/lib/python3.10/dist-packages (from pydantic!=1.10.7,>=1.7.0->assemblyai) (2.23.4)\n",
            "Requirement already satisfied: exceptiongroup in /usr/local/lib/python3.10/dist-packages (from anyio->httpx>=0.19.0->assemblyai) (1.2.2)\n"
          ]
        }
      ]
    },
    {
      "cell_type": "markdown",
      "source": [
        "# Universal 2 Demo"
      ],
      "metadata": {
        "id": "910QKOVHNEDz"
      }
    },
    {
      "cell_type": "code",
      "execution_count": null,
      "metadata": {
        "id": "ahqAjQfyLh6b"
      },
      "outputs": [],
      "source": [
        "import assemblyai as aai\n",
        "\n",
        "aai.settings.api_key = YOUR_ASSEMBLYAI_API_KEY"
      ]
    },
    {
      "cell_type": "markdown",
      "source": [
        "\n",
        "\n",
        "#Speech Recognition\n"
      ],
      "metadata": {
        "id": "AtU7IcpQMWus"
      }
    },
    {
      "cell_type": "code",
      "source": [
        "# You can use a local filepath:\n",
        "# audio_file = \"./example.mp3\"\n",
        "\n",
        "# Or use a publicly-accessible URL:\n",
        "audio_file = (\n",
        "    \"https://assembly.ai/wildfires.mp3\"\n",
        ")\n",
        "\n",
        "transcriber = aai.Transcriber()\n",
        "\n",
        "transcript = transcriber.transcribe(audio_file)\n",
        "\n",
        "if transcript.status == aai.TranscriptStatus.error:\n",
        "    print(f\"Transcription failed: {transcript.error}\")\n",
        "    exit(1)\n",
        "\n",
        "print(transcript.text)"
      ],
      "metadata": {
        "colab": {
          "base_uri": "https://localhost:8080/"
        },
        "id": "v-AWisd7MWR4",
        "outputId": "c6c53ac5-47b9-4e11-81fd-bfb0942a49f8"
      },
      "execution_count": null,
      "outputs": [
        {
          "output_type": "stream",
          "name": "stdout",
          "text": [
            "Smoke from hundreds of wildfires in Canada is triggering air quality alerts throughout the US Skylines from Maine to Maryland to Minnesota are gray and smoggy. And in some places, the air quality warnings include the warning to stay inside. We wanted to better understand what's happening here and why, so we called Peter DeCarlo, an associate professor in the Department of Environmental Health and Engineering at Johns Hopkins University. Good morning, Professor. Good morning. So what is it about the conditions right now that have caused this round of wildfires to affect so many people so far away? Well, there's a couple of things. The season has been pretty dry already, and then the fact that we're getting hit in the US is because there's a couple weather systems that are essentially channeling the smoke from those Canadian wildfires through Pennsylvania into the mid Atlantic in the Northeast and kind of just dropping the smoke there. What is it in this haze that makes it harmful? And I'm assuming it is harmful. It is, it is. The levels outside right now in Baltimore are considered unhealthy. And most of that is due to what's called particulate matter, which are tiny particles, microscopic, smaller than the width of your hair, that can get into your lungs and impact your respiratory system, your cardiovascular system, and even your neurological, your brain. What makes this particularly harmful? Is it the volume of particulent? Is it something in particular? What is it exactly? Can you just drill down on that a little bit more? Yeah. The concentration of particulate matter, I was looking at some of the monitors that we have was reaching levels of what are, in science speak, 150 micrograms per meter cubed, which is more than 10 times what the annual average should be in about four times higher than what you're supposed to have on a 24 hour average. And so the concentrations of these particles in the air are just much, much, much higher than we typically see. And exposure to those high levels can lead to a host of health problems. And who is most vulnerable? I noticed that in New York City, for example, they're canceling outdoor activities. And so here it is in the early days of summer and they have to keep all the kids inside. So who tends to be vulnerable in a situation like this? It's the youngest. So children, obviously, whose bodies are still developing, the elderly who are, you know, their bodies are more in decline and they're more susceptible to the health impacts of breathing, the poor air quality. And then people who have preexisting health conditions, people with respiratory conditions or heart conditions, can be triggered by high levels of air Pollution. Could this get worse? That's a good question. I mean, I think if in some areas it's much worse than others and it just depends on kind of where the smoke is concentrated. I think New York has some of the higher concentrations right now, but that's going to change as that air moves away from the New York area. But over the course of the next few days, we will see different areas being hit at different times with the highest concentrations. I was going to ask you about that. As more fires start burning, I don't expect the concentrations to go up too much higher. I was going to ask you, and you started to answer this, but how much longer could this last? Forgive me if I'm asking you to speculate, but what do you think? Well, I think the fires are going to burn for a little bit longer. But the key for us in the US Is the weather system changing. And so right now it's kind of the weather systems that are pulling that air into our Mid Atlantic and Northeast region. As those weather systems change and shift, we'll see that smoke going elsewhere and not impact us in this region as much. And so I think that's going to be the defining factor. And I think the next couple days we're going to see a shift in that weather pattern and start to push the smoke away from where we are. And finally, with the impacts of climate change, we are seeing more wildfires. Will we be seeing more of these kinds of wide ranging air quality consequences or circumstances? I mean, that is one of the predictions for climate change. Looking into the future, the fire season is starting earlier and lasting longer and we're seeing more frequent fires. So yeah, this is probably something that we'll be seeing more frequently. This tends to be much more of an issue in the western U.S. so the eastern U.S. getting hit right now is a little bit new. But yeah, I think with climate change moving forward, this is something that is going to happen more frequently. That's Peter DiCarlo, Associate professor in the Department of Environmental Health and Engineering at Johns Hopkins University. Professor DeCarlo, thanks so much for joining us and sharing this expertise with us. Thank you for having me.\n"
          ]
        }
      ]
    },
    {
      "cell_type": "markdown",
      "source": [
        "#Speaker Diarization"
      ],
      "metadata": {
        "id": "-1BSN9qSMk3w"
      }
    },
    {
      "cell_type": "code",
      "source": [
        "audio_file = (\n",
        "    \"https://assembly.ai/wildfires.mp3\"\n",
        ")\n",
        "\n",
        "config = aai.TranscriptionConfig(\n",
        "  speaker_labels=True,\n",
        ")\n",
        "\n",
        "transcript = aai.Transcriber().transcribe(audio_file, config)\n",
        "\n",
        "for utterance in transcript.utterances:\n",
        "  print(f\"Speaker {utterance.speaker}: {utterance.text}\")"
      ],
      "metadata": {
        "colab": {
          "base_uri": "https://localhost:8080/"
        },
        "id": "yGfizXLMMkhG",
        "outputId": "4ad7649e-55d1-466d-fdd5-a369e3746314"
      },
      "execution_count": null,
      "outputs": [
        {
          "output_type": "stream",
          "name": "stdout",
          "text": [
            "Speaker A: Smoke from hundreds of wildfires in Canada is triggering air quality alerts throughout the US Skylines from Maine to Maryland to Minnesota are gray and smoggy. And in some places, the air quality warnings include the warning to stay inside. We wanted to better understand what's happening here and why, so we called Peter DeCarlo, an associate professor in the Department of Environmental Health and Engineering at Johns Hopkins University. Good morning, Professor.\n",
            "Speaker B: Good morning.\n",
            "Speaker A: So what is it about the conditions right now that have caused this round of wildfires to affect so many people so far away?\n",
            "Speaker B: Well, there's a couple of things. The season has been pretty dry already, and then the fact that we're getting hit in the US is because there's a couple weather systems that are essentially channeling the smoke from those Canadian wildfires through Pennsylvania into the mid Atlantic in the Northeast and kind of just dropping the smoke there.\n",
            "Speaker A: What is it in this haze that makes it harmful? And I'm assuming it is harmful.\n",
            "Speaker B: It is, it is. The levels outside right now in Baltimore are considered unhealthy. And most of that is due to what's called particulate matter, which are tiny particles, microscopic, smaller than the width of your hair, that can get into your lungs and impact your respiratory system, your cardiovascular system, and even your neurological, your brain.\n",
            "Speaker A: What makes this particularly harmful? Is it the volume of particulent? Is it something in particular? What is it exactly? Can you just drill down on that a little bit more?\n",
            "Speaker B: Yeah. The concentration of particulate matter, I was looking at some of the monitors that we have was reaching levels of what are, in science speak, 150 micrograms per meter cubed, which is more than 10 times what the annual average should be in about four times higher than what you're supposed to have on a 24 hour average. And so the concentrations of these particles in the air are just much, much, much higher than we typically see. And exposure to those high levels can lead to a host of health problems.\n",
            "Speaker A: And who is most vulnerable? I noticed that in New York City, for example, they're canceling outdoor activities. And so here it is in the early days of summer and they have to keep all the kids inside. So who tends to be vulnerable in a situation like this?\n",
            "Speaker B: It's the youngest. So children, obviously, whose bodies are still developing, the elderly who are, you know, their bodies are more in decline and they're more susceptible to the health impacts of breathing, the poor air quality. And then people who have preexisting health conditions, people with respiratory conditions or heart conditions, can be triggered by high levels of air Pollution.\n",
            "Speaker A: Could this get worse?\n",
            "Speaker B: That's a good question. I mean, I think if in some areas it's much worse than others and it just depends on kind of where the smoke is concentrated. I think New York has some of the higher concentrations right now, but that's going to change as that air moves away from the New York area. But over the course of the next few days, we will see different areas being hit at different times with the highest concentrations.\n",
            "Speaker A: I was going to ask you about that.\n",
            "Speaker B: As more fires start burning, I don't expect the concentrations to go up too much higher.\n",
            "Speaker A: I was going to ask you, and you started to answer this, but how much longer could this last? Forgive me if I'm asking you to speculate, but what do you think?\n",
            "Speaker B: Well, I think the fires are going to burn for a little bit longer. But the key for us in the US Is the weather system changing. And so right now it's kind of the weather systems that are pulling that air into our Mid Atlantic and Northeast region. As those weather systems change and shift, we'll see that smoke going elsewhere and not impact us in this region as much. And so I think that's going to be the defining factor. And I think the next couple days we're going to see a shift in that weather pattern and start to push the smoke away from where we are.\n",
            "Speaker A: And finally, with the impacts of climate change, we are seeing more wildfires. Will we be seeing more of these kinds of wide ranging air quality consequences or circumstances?\n",
            "Speaker B: I mean, that is one of the predictions for climate change. Looking into the future, the fire season is starting earlier and lasting longer and we're seeing more frequent fires. So yeah, this is probably something that we'll be seeing more frequently. This tends to be much more of an issue in the western U.S. so the eastern U.S. getting hit right now is a little bit new. But yeah, I think with climate change moving forward, this is something that is going to happen more frequently.\n",
            "Speaker A: That's Peter DiCarlo, Associate professor in the Department of Environmental Health and Engineering at Johns Hopkins University. Professor DeCarlo, thanks so much for joining us and sharing this expertise with us.\n",
            "Speaker B: Thank you for having me.\n"
          ]
        }
      ]
    },
    {
      "cell_type": "markdown",
      "source": [
        "#Summarization"
      ],
      "metadata": {
        "id": "_Z7-595EM271"
      }
    },
    {
      "cell_type": "code",
      "source": [
        "audio_file = \"https://assembly.ai/wildfires.mp3\"\n",
        "\n",
        "config = aai.TranscriptionConfig(\n",
        "  summarization=True,\n",
        "  summary_model=aai.SummarizationModel.informative,\n",
        "  summary_type=aai.SummarizationType.bullets\n",
        ")\n",
        "\n",
        "transcript = aai.Transcriber().transcribe(audio_file, config)\n",
        "\n",
        "print(transcript.summary)"
      ],
      "metadata": {
        "colab": {
          "base_uri": "https://localhost:8080/"
        },
        "id": "ptUeJR9PPiap",
        "outputId": "de64cec5-6564-482f-c2d7-7f9001bd8a7d"
      },
      "execution_count": null,
      "outputs": [
        {
          "output_type": "stream",
          "name": "stdout",
          "text": [
            "- Smoke from hundreds of wildfires in Canada is triggering air quality alerts throughout the US. Skylines from Maine to Maryland to Minnesota are gray and smoggy. In some places, the air quality warnings include the warning to stay inside.\n",
            "- The levels outside right now in Baltimore are considered unhealthy. Most of that is due to what's called particulate matter. Exposure to high levels can lead to a host of health problems. Who is most vulnerable? The youngest. Could this get worse?\n",
            "- Peter DiCarlo: The key for us in the US is the weather system changing. As those weather systems change and shift, we'll see that smoke going elsewhere and not impact us in this region as much. With climate change moving forward, this is something that is going to happen more frequently.\n"
          ]
        }
      ]
    },
    {
      "cell_type": "markdown",
      "source": [
        "#Sentiment Analysis"
      ],
      "metadata": {
        "id": "VAqKHW0rP2Dp"
      }
    },
    {
      "cell_type": "code",
      "source": [
        "audio_file = \"https://assembly.ai/wildfires.mp3\"\n",
        "\n",
        "config = aai.TranscriptionConfig(sentiment_analysis=True)\n",
        "\n",
        "transcript = aai.Transcriber().transcribe(audio_file, config)\n",
        "\n",
        "for sentiment_result in transcript.sentiment_analysis:\n",
        "    print(sentiment_result.text)\n",
        "    print(sentiment_result.sentiment)  # POSITIVE, NEUTRAL, or NEGATIVE\n",
        "    print(sentiment_result.confidence)\n",
        "    print(f\"Timestamp: {sentiment_result.start} - {sentiment_result.end}\")"
      ],
      "metadata": {
        "colab": {
          "base_uri": "https://localhost:8080/"
        },
        "id": "pwyUVehNP7E2",
        "outputId": "e60ac88f-4821-4592-f1fe-4256a143c9d9"
      },
      "execution_count": null,
      "outputs": [
        {
          "output_type": "stream",
          "name": "stdout",
          "text": [
            "Smoke from hundreds of wildfires in Canada is triggering air quality alerts throughout the US Skylines from Maine to Maryland to Minnesota are gray and smoggy.\n",
            "SentimentType.negative\n",
            "0.8264624\n",
            "Timestamp: 400 - 11017\n",
            "And in some places, the air quality warnings include the warning to stay inside.\n",
            "SentimentType.neutral\n",
            "0.537145\n",
            "Timestamp: 11121 - 15737\n",
            "We wanted to better understand what's happening here and why, so we called Peter DeCarlo, an associate professor in the Department of Environmental Health and Engineering at Johns Hopkins University.\n",
            "SentimentType.neutral\n",
            "0.7760985\n",
            "Timestamp: 15881 - 25385\n",
            "Good morning, Professor.\n",
            "SentimentType.positive\n",
            "0.84836847\n",
            "Timestamp: 25545 - 26765\n",
            "Good morning.\n",
            "SentimentType.positive\n",
            "0.7193592\n",
            "Timestamp: 27925 - 28845\n",
            "So what is it about the conditions right now that have caused this round of wildfires to affect so many people so far away?\n",
            "SentimentType.negative\n",
            "0.7462095\n",
            "Timestamp: 29005 - 37425\n",
            "Well, there's a couple of things.\n",
            "SentimentType.neutral\n",
            "0.73488915\n",
            "Timestamp: 39045 - 40505\n",
            "The season has been pretty dry already, and then the fact that we're getting hit in the US is because there's a couple weather systems that are essentially channeling the smoke from those Canadian wildfires through Pennsylvania into the mid Atlantic in the Northeast and kind of just dropping the smoke there.\n",
            "SentimentType.negative\n",
            "0.6118002\n",
            "Timestamp: 40965 - 56105\n",
            "What is it in this haze that makes it harmful?\n",
            "SentimentType.negative\n",
            "0.9158266\n",
            "Timestamp: 56455 - 59255\n",
            "And I'm assuming it is harmful.\n",
            "SentimentType.negative\n",
            "0.80006605\n",
            "Timestamp: 59295 - 60915\n",
            "It is, it is.\n",
            "SentimentType.neutral\n",
            "0.608906\n",
            "Timestamp: 62335 - 63287\n",
            "The levels outside right now in Baltimore are considered unhealthy.\n",
            "SentimentType.negative\n",
            "0.9444374\n",
            "Timestamp: 63351 - 66915\n",
            "And most of that is due to what's called particulate matter, which are tiny particles, microscopic, smaller than the width of your hair, that can get into your lungs and impact your respiratory system, your cardiovascular system, and even your neurological, your brain.\n",
            "SentimentType.negative\n",
            "0.7673307\n",
            "Timestamp: 67735 - 82755\n",
            "What makes this particularly harmful?\n",
            "SentimentType.negative\n",
            "0.93296945\n",
            "Timestamp: 83415 - 85455\n",
            "Is it the volume of particulent?\n",
            "SentimentType.neutral\n",
            "0.7856529\n",
            "Timestamp: 85495 - 87975\n",
            "Is it something in particular?\n",
            "SentimentType.neutral\n",
            "0.8175228\n",
            "Timestamp: 88015 - 89239\n",
            "What is it exactly?\n",
            "SentimentType.neutral\n",
            "0.8153341\n",
            "Timestamp: 89367 - 90295\n",
            "Can you just drill down on that a little bit more?\n",
            "SentimentType.neutral\n",
            "0.8712161\n",
            "Timestamp: 90335 - 92395\n",
            "Yeah.\n",
            "SentimentType.neutral\n",
            "0.54914486\n",
            "Timestamp: 93455 - 93951\n",
            "The concentration of particulate matter, I was looking at some of the monitors that we have was reaching levels of what are, in science speak, 150 micrograms per meter cubed, which is more than 10 times what the annual average should be in about four times higher than what you're supposed to have on a 24 hour average.\n",
            "SentimentType.neutral\n",
            "0.6536221\n",
            "Timestamp: 94023 - 113263\n",
            "And so the concentrations of these particles in the air are just much, much, much higher than we typically see.\n",
            "SentimentType.neutral\n",
            "0.49572414\n",
            "Timestamp: 113399 - 119687\n",
            "And exposure to those high levels can lead to a host of health problems.\n",
            "SentimentType.negative\n",
            "0.9395254\n",
            "Timestamp: 119791 - 123359\n",
            "And who is most vulnerable?\n",
            "SentimentType.neutral\n",
            "0.53734136\n",
            "Timestamp: 123447 - 124895\n",
            "I noticed that in New York City, for example, they're canceling outdoor activities.\n",
            "SentimentType.negative\n",
            "0.779357\n",
            "Timestamp: 124975 - 128655\n",
            "And so here it is in the early days of summer and they have to keep all the kids inside.\n",
            "SentimentType.negative\n",
            "0.5148804\n",
            "Timestamp: 128735 - 132847\n",
            "So who tends to be vulnerable in a situation like this?\n",
            "SentimentType.neutral\n",
            "0.5655255\n",
            "Timestamp: 132911 - 136355\n",
            "It's the youngest.\n",
            "SentimentType.neutral\n",
            "0.78433657\n",
            "Timestamp: 137435 - 138723\n",
            "So children, obviously, whose bodies are still developing, the elderly who are, you know, their bodies are more in decline and they're more susceptible to the health impacts of breathing, the poor air quality.\n",
            "SentimentType.negative\n",
            "0.8915515\n",
            "Timestamp: 138779 - 149615\n",
            "And then people who have preexisting health conditions, people with respiratory conditions or heart conditions, can be triggered by high levels of air Pollution.\n",
            "SentimentType.negative\n",
            "0.8602721\n",
            "Timestamp: 150595 - 156815\n",
            "Could this get worse?\n",
            "SentimentType.negative\n",
            "0.9435271\n",
            "Timestamp: 157395 - 158895\n",
            "That's a good question.\n",
            "SentimentType.positive\n",
            "0.82833433\n",
            "Timestamp: 162115 - 163123\n",
            "I mean, I think if in some areas it's much worse than others and it just depends on kind of where the smoke is concentrated.\n",
            "SentimentType.negative\n",
            "0.81752616\n",
            "Timestamp: 163219 - 170275\n",
            "I think New York has some of the higher concentrations right now, but that's going to change as that air moves away from the New York area.\n",
            "SentimentType.neutral\n",
            "0.7581233\n",
            "Timestamp: 171015 - 176895\n",
            "But over the course of the next few days, we will see different areas being hit at different times with the highest concentrations.\n",
            "SentimentType.neutral\n",
            "0.79744077\n",
            "Timestamp: 177055 - 183607\n",
            "I was going to ask you about that.\n",
            "SentimentType.neutral\n",
            "0.8381159\n",
            "Timestamp: 183751 - 184519\n",
            "As more fires start burning, I don't expect the concentrations to go up too much higher.\n",
            "SentimentType.negative\n",
            "0.7229345\n",
            "Timestamp: 184527 - 189015\n",
            "I was going to ask you, and you started to answer this, but how much longer could this last?\n",
            "SentimentType.neutral\n",
            "0.6129595\n",
            "Timestamp: 189095 - 193351\n",
            "Forgive me if I'm asking you to speculate, but what do you think?\n",
            "SentimentType.neutral\n",
            "0.7086922\n",
            "Timestamp: 193423 - 196475\n",
            "Well, I think the fires are going to burn for a little bit longer.\n",
            "SentimentType.negative\n",
            "0.707801\n",
            "Timestamp: 198075 - 200379\n",
            "But the key for us in the US Is the weather system changing.\n",
            "SentimentType.neutral\n",
            "0.8566186\n",
            "Timestamp: 200427 - 203699\n",
            "And so right now it's kind of the weather systems that are pulling that air into our Mid Atlantic and Northeast region.\n",
            "SentimentType.neutral\n",
            "0.809337\n",
            "Timestamp: 203747 - 211019\n",
            "As those weather systems change and shift, we'll see that smoke going elsewhere and not impact us in this region as much.\n",
            "SentimentType.neutral\n",
            "0.665518\n",
            "Timestamp: 211107 - 219067\n",
            "And so I think that's going to be the defining factor.\n",
            "SentimentType.neutral\n",
            "0.64447534\n",
            "Timestamp: 219131 - 220931\n",
            "And I think the next couple days we're going to see a shift in that weather pattern and start to push the smoke away from where we are.\n",
            "SentimentType.neutral\n",
            "0.8261638\n",
            "Timestamp: 220963 - 227643\n",
            "And finally, with the impacts of climate change, we are seeing more wildfires.\n",
            "SentimentType.negative\n",
            "0.69644123\n",
            "Timestamp: 227779 - 232307\n",
            "Will we be seeing more of these kinds of wide ranging air quality consequences or circumstances?\n",
            "SentimentType.neutral\n",
            "0.5142849\n",
            "Timestamp: 232451 - 240095\n",
            "I mean, that is one of the predictions for climate change.\n",
            "SentimentType.neutral\n",
            "0.6701287\n",
            "Timestamp: 241355 - 245075\n",
            "Looking into the future, the fire season is starting earlier and lasting longer and we're seeing more frequent fires.\n",
            "SentimentType.neutral\n",
            "0.47754994\n",
            "Timestamp: 245115 - 251179\n",
            "So yeah, this is probably something that we'll be seeing more frequently.\n",
            "SentimentType.neutral\n",
            "0.60486525\n",
            "Timestamp: 251227 - 255611\n",
            "This tends to be much more of an issue in the western U.S. so the eastern U.S. getting hit right now is a little bit new.\n",
            "SentimentType.neutral\n",
            "0.4966832\n",
            "Timestamp: 255723 - 261735\n",
            "But yeah, I think with climate change moving forward, this is something that is going to happen more frequently.\n",
            "SentimentType.neutral\n",
            "0.662536\n",
            "Timestamp: 262155 - 267747\n",
            "That's Peter DiCarlo, Associate professor in the Department of Environmental Health and Engineering at Johns Hopkins University.\n",
            "SentimentType.neutral\n",
            "0.91413605\n",
            "Timestamp: 267931 - 274603\n",
            "Professor DeCarlo, thanks so much for joining us and sharing this expertise with us.\n",
            "SentimentType.positive\n",
            "0.97865295\n",
            "Timestamp: 274699 - 278415\n",
            "Thank you for having me.\n",
            "SentimentType.positive\n",
            "0.97090584\n",
            "Timestamp: 279395 - 280235\n"
          ]
        }
      ]
    },
    {
      "cell_type": "markdown",
      "source": [
        "#PII Redaction"
      ],
      "metadata": {
        "id": "34_5AAOxP5Uy"
      }
    },
    {
      "cell_type": "code",
      "source": [
        "audio_file = \"https://assembly.ai/wildfires.mp3\"\n",
        "\n",
        "config = aai.TranscriptionConfig().set_redact_pii(\n",
        "    policies=[\n",
        "        aai.PIIRedactionPolicy.person_name,\n",
        "        aai.PIIRedactionPolicy.organization,\n",
        "        aai.PIIRedactionPolicy.occupation,\n",
        "    ],\n",
        "    substitution=aai.PIISubstitutionPolicy.hash,\n",
        ")\n",
        "\n",
        "transcript = aai.Transcriber().transcribe(audio_file, config)\n",
        "\n",
        "print(transcript.text)"
      ],
      "metadata": {
        "colab": {
          "base_uri": "https://localhost:8080/"
        },
        "id": "r-idv_XZP1ia",
        "outputId": "7bcac26e-95fc-4adb-a4f1-c4c86dee3292"
      },
      "execution_count": null,
      "outputs": [
        {
          "output_type": "stream",
          "name": "stdout",
          "text": [
            "Smoke from hundreds of wildfires in Canada is triggering air quality alerts throughout the US Skylines from Maine to Maryland to Minnesota are gray and smoggy. And in some places, the air quality warnings include the warning to stay inside. We wanted to better understand what's happening here and why, so we called ##### #######, an ######### ######### in the ########## ## ############# ###### ### ########### at ##### ####### ##########. Good morning, #########. Good morning. So what is it about the conditions right now that have caused this round of wildfires to affect so many people so far away? Well, there's a couple of things. The season has been pretty dry already, and then the fact that we're getting hit in the US is because there's a couple weather systems that are essentially channeling the smoke from those Canadian wildfires through Pennsylvania into the mid Atlantic in the Northeast and kind of just dropping the smoke there. What is it in this haze that makes it harmful? And I'm assuming it is harmful. It is, it is. The levels outside right now in Baltimore are considered unhealthy. And most of that is due to what's called particulate matter, which are tiny particles, microscopic, smaller than the width of your hair, that can get into your lungs and impact your respiratory system, your cardiovascular system, and even your neurological, your brain. What makes this particularly harmful? Is it the volume of particulent? Is it something in particular? What is it exactly? Can you just drill down on that a little bit more? Yeah. The concentration of particulate matter, I was looking at some of the monitors that we have was reaching levels of what are, in ####### speak, 150 micrograms per meter cubed, which is more than 10 times what the annual average should be in about four times higher than what you're supposed to have on a 24 hour average. And so the concentrations of these particles in the air are just much, much, much higher than we typically see. And exposure to those high levels can lead to a host of health problems. And who is most vulnerable? I noticed that in New York City, for example, they're canceling outdoor activities. And so here it is in the early days of summer and they have to keep all the kids inside. So who tends to be vulnerable in a situation like this? It's the youngest. So children, obviously, whose bodies are still developing, the elderly who are, you know, their bodies are more in decline and they're more susceptible to the health impacts of breathing, the poor air quality. And then people who have preexisting health conditions, people with respiratory conditions or heart conditions, can be triggered by high levels of air Pollution. Could this get worse? That's a good question. I mean, I think if in some areas it's much worse than others and it just depends on kind of where the smoke is concentrated. I think New York has some of the higher concentrations right now, but that's going to change as that air moves away from the New York area. But over the course of the next few days, we will see different areas being hit at different times with the highest concentrations. I was going to ask you about that. As more fires start burning, I don't expect the concentrations to go up too much higher. I was going to ask you, and you started to answer this, but how much longer could this last? Forgive me if I'm asking you to speculate, but what do you think? Well, I think the fires are going to burn for a little bit longer. But the key for us in the US Is the weather system changing. And so right now it's kind of the weather systems that are pulling that air into our Mid Atlantic and Northeast region. As those weather systems change and shift, we'll see that smoke going elsewhere and not impact us in this region as much. And so I think that's going to be the defining factor. And I think the next couple days we're going to see a shift in that weather pattern and start to push the smoke away from where we are. And finally, with the impacts of climate change, we are seeing more wildfires. Will we be seeing more of these kinds of wide ranging air quality consequences or circumstances? I mean, that is one of the predictions for climate change. Looking into the future, the fire season is starting earlier and lasting longer and we're seeing more frequent fires. So yeah, this is probably something that we'll be seeing more frequently. This tends to be much more of an issue in the western U.S. so the eastern U.S. getting hit right now is a little bit new. But yeah, I think with climate change moving forward, this is something that is going to happen more frequently. That's ##### #######, ######### ######### in the ########## ## ############# ###### ### ########### at ##### ####### ##########. ######### #######, thanks so much for joining us and sharing this expertise with us. Thank you for having me.\n"
          ]
        }
      ]
    }
  ]
}