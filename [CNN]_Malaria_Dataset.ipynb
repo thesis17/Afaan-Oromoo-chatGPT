{
  "metadata": {
    "kernelspec": {
      "name": "python3",
      "display_name": "Python 3",
      "language": "python"
    },
    "language_info": {
      "name": "python",
      "version": "3.11.13",
      "mimetype": "text/x-python",
      "codemirror_mode": {
        "name": "ipython",
        "version": 3
      },
      "pygments_lexer": "ipython3",
      "nbconvert_exporter": "python",
      "file_extension": ".py"
    },
    "colab": {
      "provenance": [],
      "gpuType": "T4",
      "name": "[CNN] Malaria Dataset",
      "include_colab_link": true
    },
    "accelerator": "GPU",
    "kaggle": {
      "accelerator": "nvidiaTeslaT4",
      "dataSources": [
        {
          "sourceId": 200743,
          "sourceType": "datasetVersion",
          "datasetId": 87153
        }
      ],
      "dockerImageVersionId": 31090,
      "isInternetEnabled": true,
      "language": "python",
      "sourceType": "notebook",
      "isGpuEnabled": true
    }
  },
  "nbformat_minor": 0,
  "nbformat": 4,
  "cells": [
    {
      "cell_type": "markdown",
      "metadata": {
        "id": "view-in-github",
        "colab_type": "text"
      },
      "source": [
        "<a href=\"https://colab.research.google.com/github/thesis17/Afaan-Oromoo-chatGPT/blob/main/%5BCNN%5D_Malaria_Dataset.ipynb\" target=\"_parent\"><img src=\"https://colab.research.google.com/assets/colab-badge.svg\" alt=\"Open In Colab\"/></a>"
      ]
    },
    {
      "source": [
        "# IMPORTANT: RUN THIS CELL IN ORDER TO IMPORT YOUR KAGGLE DATA SOURCES,\n",
        "# THEN FEEL FREE TO DELETE THIS CELL.\n",
        "# NOTE: THIS NOTEBOOK ENVIRONMENT DIFFERS FROM KAGGLE'S PYTHON\n",
        "# ENVIRONMENT SO THERE MAY BE MISSING LIBRARIES USED BY YOUR\n",
        "# NOTEBOOK.\n",
        "import kagglehub\n",
        "iarunava_cell_images_for_detecting_malaria_path = kagglehub.dataset_download('iarunava/cell-images-for-detecting-malaria')\n",
        "\n",
        "print('Data source import complete.')\n"
      ],
      "metadata": {
        "id": "IbViYM9llTey"
      },
      "cell_type": "code",
      "outputs": [],
      "execution_count": null
    },
    {
      "cell_type": "code",
      "source": [
        "import tensorflow as tf\n",
        "import numpy as np\n",
        "import cv2\n",
        "from tqdm import tqdm\n",
        "import os"
      ],
      "metadata": {
        "id": "5cfc79e6",
        "trusted": true,
        "execution": {
          "iopub.status.busy": "2025-07-13T23:50:35.659723Z",
          "iopub.execute_input": "2025-07-13T23:50:35.660031Z",
          "iopub.status.idle": "2025-07-13T23:50:35.664578Z",
          "shell.execute_reply.started": "2025-07-13T23:50:35.66001Z",
          "shell.execute_reply": "2025-07-13T23:50:35.663788Z"
        }
      },
      "outputs": [],
      "execution_count": null
    },
    {
      "cell_type": "markdown",
      "source": [
        "# Data Preparation"
      ],
      "metadata": {
        "id": "ce0d71e1"
      }
    },
    {
      "cell_type": "code",
      "source": [
        "def load_data_(path_data,categories):\n",
        "    data = []\n",
        "    for category in categories:\n",
        "        path = os.path.join(path_data,category)\n",
        "        label = categories.index(category)\n",
        "\n",
        "        for files in tqdm(os.listdir(path),desc=f'Load : {category}') :\n",
        "            try:\n",
        "                img = os.path.join(path,files)\n",
        "                image_read = cv2.imread(img)\n",
        "                if image_read is None:\n",
        "                    print(f\"Failed {img}\")\n",
        "                image_read = cv2.resize(image_read,(64,64))\n",
        "                data.append([image_read,label])\n",
        "            except:\n",
        "                continue\n",
        "    return data"
      ],
      "metadata": {
        "id": "14cd7662",
        "trusted": true,
        "execution": {
          "iopub.status.busy": "2025-07-13T23:49:00.883359Z",
          "iopub.execute_input": "2025-07-13T23:49:00.883799Z",
          "iopub.status.idle": "2025-07-13T23:49:00.902057Z",
          "shell.execute_reply.started": "2025-07-13T23:49:00.883773Z",
          "shell.execute_reply": "2025-07-13T23:49:00.901516Z"
        }
      },
      "outputs": [],
      "execution_count": null
    },
    {
      "cell_type": "code",
      "source": [
        "jalur = '/kaggle/input/cell-images-for-detecting-malaria/cell_images'\n",
        "cate = [\"Parasitized\",\"Uninfected\"]\n",
        "malaria_data = load_data_(jalur,cate)"
      ],
      "metadata": {
        "id": "839a0b90",
        "trusted": true,
        "execution": {
          "iopub.status.busy": "2025-07-13T23:50:49.026467Z",
          "iopub.execute_input": "2025-07-13T23:50:49.027017Z",
          "iopub.status.idle": "2025-07-13T23:56:04.726574Z",
          "shell.execute_reply.started": "2025-07-13T23:50:49.026989Z",
          "shell.execute_reply": "2025-07-13T23:56:04.725852Z"
        }
      },
      "outputs": [],
      "execution_count": null
    },
    {
      "cell_type": "markdown",
      "source": [
        "# Preprocessing"
      ],
      "metadata": {
        "id": "10bf2bc1"
      }
    },
    {
      "cell_type": "code",
      "source": [
        "import matplotlib.pyplot as plt\n",
        "import random\n",
        "\n",
        "random.seed(42)\n",
        "random.shuffle(malaria_data)\n",
        "\n",
        "\n",
        "labs = {0:'Parasitized',\n",
        "        1:'Uninfected'}\n",
        "\n",
        "rands = np.random.randint(1,100)\n",
        "\n",
        "plt.imshow(malaria_data[rands][0])\n",
        "plt.title(f'Label = {labs[malaria_data[rands][1]]}')\n",
        "plt.show()"
      ],
      "metadata": {
        "id": "c456ea23",
        "trusted": true,
        "execution": {
          "iopub.status.busy": "2025-07-14T00:08:54.161705Z",
          "iopub.execute_input": "2025-07-14T00:08:54.162002Z",
          "iopub.status.idle": "2025-07-14T00:08:54.635043Z",
          "shell.execute_reply.started": "2025-07-14T00:08:54.161982Z",
          "shell.execute_reply": "2025-07-14T00:08:54.634149Z"
        }
      },
      "outputs": [],
      "execution_count": null
    },
    {
      "cell_type": "code",
      "source": [
        "x = []\n",
        "y = []\n",
        "\n",
        "for gambar,label_ in malaria_data:\n",
        "    x.append(gambar)\n",
        "    y.append(label_)"
      ],
      "metadata": {
        "id": "beed70e8",
        "trusted": true,
        "execution": {
          "iopub.status.busy": "2025-07-14T00:08:54.636477Z",
          "iopub.execute_input": "2025-07-14T00:08:54.636839Z",
          "iopub.status.idle": "2025-07-14T00:08:54.653527Z",
          "shell.execute_reply.started": "2025-07-14T00:08:54.636818Z",
          "shell.execute_reply": "2025-07-14T00:08:54.65279Z"
        }
      },
      "outputs": [],
      "execution_count": null
    },
    {
      "cell_type": "code",
      "source": [
        "x = []\n",
        "y = []\n",
        "\n",
        "for gambar,label_ in malaria_data:\n",
        "    x.append(gambar)\n",
        "    y.append(label_)\n",
        "\n",
        "x = np.array(x).astype('float32') / 255.0\n",
        "y = np.array(y) # Keep y as integers 0 or 1\n",
        "np.set_printoptions(precision=10,suppress=False)\n",
        "print(x[10].max())"
      ],
      "metadata": {
        "id": "b17721fc",
        "trusted": true,
        "execution": {
          "iopub.status.busy": "2025-07-14T00:08:54.654374Z",
          "iopub.execute_input": "2025-07-14T00:08:54.654598Z",
          "iopub.status.idle": "2025-07-14T00:08:55.579319Z",
          "shell.execute_reply.started": "2025-07-14T00:08:54.65458Z",
          "shell.execute_reply": "2025-07-14T00:08:55.578416Z"
        }
      },
      "outputs": [],
      "execution_count": null
    },
    {
      "cell_type": "markdown",
      "source": [
        "# Split"
      ],
      "metadata": {
        "id": "85371aeb"
      }
    },
    {
      "cell_type": "code",
      "source": [
        "from sklearn.model_selection import train_test_split\n",
        "\n",
        "x_train,x_test,y_train,y_test = train_test_split(x,y,stratify=y,test_size=0.2,random_state=42)\n",
        "\n",
        "print(len(x_train))\n",
        "print(len(x_test))\n",
        "print(len(y_train))\n",
        "print(len(y_test))"
      ],
      "metadata": {
        "id": "2ac8a3d3",
        "trusted": true,
        "execution": {
          "iopub.status.busy": "2025-07-14T00:08:55.58158Z",
          "iopub.execute_input": "2025-07-14T00:08:55.581879Z",
          "iopub.status.idle": "2025-07-14T00:08:56.294327Z",
          "shell.execute_reply.started": "2025-07-14T00:08:55.581858Z",
          "shell.execute_reply": "2025-07-14T00:08:56.293607Z"
        }
      },
      "outputs": [],
      "execution_count": null
    },
    {
      "cell_type": "markdown",
      "source": [
        "# Modelling"
      ],
      "metadata": {
        "id": "123d9f09-4a61-409c-8b35-816329870161"
      }
    },
    {
      "cell_type": "code",
      "source": [
        "models = tf.keras.Sequential([\n",
        "    tf.keras.layers.Conv2D(150,kernel_size=(4,4),\n",
        "                           padding='same',\n",
        "                           activation='relu',\n",
        "                           input_shape=(64,64,3)),\n",
        "\n",
        "    tf.keras.layers.MaxPooling2D(pool_size=(2,2)),\n",
        "\n",
        "    tf.keras.layers.Conv2D(150,kernel_size=(4,4),\n",
        "                           padding='same',\n",
        "                           activation='relu'),\n",
        "\n",
        "    tf.keras.layers.MaxPooling2D(pool_size=(2,2)),\n",
        "    tf.keras.layers.Flatten(),\n",
        "    tf.keras.layers.Dense(200,activation='relu'),\n",
        "    tf.keras.layers.Dropout(0.5),\n",
        "    tf.keras.layers.Dense(200,activation='relu'),\n",
        "    tf.keras.layers.Dropout(0.5),\n",
        "    tf.keras.layers.Dense(1,activation='sigmoid')\n",
        "])"
      ],
      "metadata": {
        "id": "pPLq-Sqj4GU5",
        "trusted": true,
        "execution": {
          "iopub.status.busy": "2025-07-14T00:08:56.29507Z",
          "iopub.execute_input": "2025-07-14T00:08:56.295293Z",
          "iopub.status.idle": "2025-07-14T00:09:01.341687Z",
          "shell.execute_reply.started": "2025-07-14T00:08:56.295276Z",
          "shell.execute_reply": "2025-07-14T00:09:01.340839Z"
        }
      },
      "outputs": [],
      "execution_count": null
    },
    {
      "cell_type": "code",
      "source": [
        "models.summary()"
      ],
      "metadata": {
        "id": "IVXdbHLg7J5p",
        "trusted": true,
        "execution": {
          "iopub.status.busy": "2025-07-14T00:09:01.342604Z",
          "iopub.execute_input": "2025-07-14T00:09:01.342847Z",
          "iopub.status.idle": "2025-07-14T00:09:01.36423Z",
          "shell.execute_reply.started": "2025-07-14T00:09:01.34283Z",
          "shell.execute_reply": "2025-07-14T00:09:01.363564Z"
        }
      },
      "outputs": [],
      "execution_count": null
    },
    {
      "cell_type": "code",
      "source": [
        "models.compile(optimizer='RMSProp',\n",
        "               loss='binary_crossentropy',\n",
        "               metrics=['accuracy'])"
      ],
      "metadata": {
        "id": "bCZ-HxkB7x5I",
        "trusted": true,
        "execution": {
          "iopub.status.busy": "2025-07-14T00:09:01.364983Z",
          "iopub.execute_input": "2025-07-14T00:09:01.365205Z",
          "iopub.status.idle": "2025-07-14T00:09:01.380806Z",
          "shell.execute_reply.started": "2025-07-14T00:09:01.365187Z",
          "shell.execute_reply": "2025-07-14T00:09:01.38007Z"
        }
      },
      "outputs": [],
      "execution_count": null
    },
    {
      "cell_type": "code",
      "source": [
        "lrpletau = tf.keras.callbacks.ReduceLROnPlateau(monitor='val_loss',\n",
        "                                                factor=0.1,\n",
        "                                                patience=2,\n",
        "                                                verbose=1)\n",
        "\n",
        "earlystp = tf.keras.callbacks.EarlyStopping(monitor='val_loss',\n",
        "                                            patience=3,\n",
        "                                            verbose=1)"
      ],
      "metadata": {
        "id": "JHUNqmfD8Z6g",
        "trusted": true,
        "execution": {
          "iopub.status.busy": "2025-07-14T00:09:01.381717Z",
          "iopub.execute_input": "2025-07-14T00:09:01.381944Z",
          "iopub.status.idle": "2025-07-14T00:09:01.388521Z",
          "shell.execute_reply.started": "2025-07-14T00:09:01.381926Z",
          "shell.execute_reply": "2025-07-14T00:09:01.387886Z"
        }
      },
      "outputs": [],
      "execution_count": null
    },
    {
      "cell_type": "markdown",
      "source": [
        "# Training"
      ],
      "metadata": {
        "id": "e2d54a17-e6c4-4623-ba1c-f1d89a37f475"
      }
    },
    {
      "cell_type": "code",
      "source": [
        "models.fit(x_train,\n",
        "           y_train,\n",
        "           epochs=15,\n",
        "           validation_split=0.2,\n",
        "           batch_size=64,\n",
        "           shuffle=True,\n",
        "           callbacks=[lrpletau,earlystp]\n",
        "           )"
      ],
      "metadata": {
        "id": "TSDRH1Q48Elw",
        "trusted": true,
        "execution": {
          "iopub.status.busy": "2025-07-14T00:09:01.389277Z",
          "iopub.execute_input": "2025-07-14T00:09:01.389496Z",
          "iopub.status.idle": "2025-07-14T00:12:17.813175Z",
          "shell.execute_reply.started": "2025-07-14T00:09:01.389479Z",
          "shell.execute_reply": "2025-07-14T00:12:17.812489Z"
        }
      },
      "outputs": [],
      "execution_count": null
    },
    {
      "cell_type": "code",
      "source": [
        "plt.plot(models.history.history['accuracy'])\n",
        "plt.plot(models.history.history['val_accuracy'])\n",
        "plt.title('Model Accuracy')\n",
        "plt.ylabel('Accuracy')\n",
        "plt.xlabel('Epoch')\n",
        "plt.legend(['Train','Test'],loc='upper left')"
      ],
      "metadata": {
        "id": "XhgSocTm9HRr",
        "trusted": true,
        "execution": {
          "iopub.status.busy": "2025-07-14T00:12:17.815438Z",
          "iopub.execute_input": "2025-07-14T00:12:17.815942Z",
          "iopub.status.idle": "2025-07-14T00:12:18.048804Z",
          "shell.execute_reply.started": "2025-07-14T00:12:17.815922Z",
          "shell.execute_reply": "2025-07-14T00:12:18.04799Z"
        }
      },
      "outputs": [],
      "execution_count": null
    },
    {
      "cell_type": "code",
      "source": [
        "plt.plot(models.history.history['loss'])\n",
        "plt.plot(models.history.history['val_loss'])\n",
        "plt.title('Model loss')\n",
        "plt.ylabel('loss')\n",
        "plt.xlabel('Epoch')\n",
        "plt.legend(['Train','Test'],loc='upper left')"
      ],
      "metadata": {
        "id": "n2W581Iq9MLJ",
        "trusted": true,
        "execution": {
          "iopub.status.busy": "2025-07-14T00:12:18.049852Z",
          "iopub.execute_input": "2025-07-14T00:12:18.050104Z",
          "iopub.status.idle": "2025-07-14T00:12:18.267473Z",
          "shell.execute_reply.started": "2025-07-14T00:12:18.050085Z",
          "shell.execute_reply": "2025-07-14T00:12:18.266762Z"
        }
      },
      "outputs": [],
      "execution_count": null
    },
    {
      "cell_type": "markdown",
      "source": [
        "# Evaluating"
      ],
      "metadata": {
        "id": "1e9ff3b2-b60d-4330-8bb5-70f899e2ce07"
      }
    },
    {
      "cell_type": "code",
      "source": [
        "models.evaluate(x_test,y_test,batch_size=64)"
      ],
      "metadata": {
        "id": "6eB7P07WFltq",
        "trusted": true,
        "execution": {
          "iopub.status.busy": "2025-07-14T00:12:18.268456Z",
          "iopub.execute_input": "2025-07-14T00:12:18.268748Z",
          "iopub.status.idle": "2025-07-14T00:12:21.181931Z",
          "shell.execute_reply.started": "2025-07-14T00:12:18.268729Z",
          "shell.execute_reply": "2025-07-14T00:12:21.181131Z"
        }
      },
      "outputs": [],
      "execution_count": null
    },
    {
      "cell_type": "code",
      "source": [
        "fig, axs = plt.subplots(3,3,figsize=(10,10))\n",
        "\n",
        "for i in range(9):\n",
        "  row,col = divmod(i,3)\n",
        "  samp = np.random.randint(0, len(x_test)) # Ensure samp is within the bounds of x_test\n",
        "  ypred = models.predict(x_test[samp].reshape(1,64,64,3))\n",
        "  predicted_label = 1 if ypred > 0.5 else 0 # Get the predicted label (0 or 1)\n",
        "  axs[row,col].imshow(x_test[samp])\n",
        "  axs[row,col].set_title(f'Actual = {labs[y_test[samp]]} \\n Pred = {labs[predicted_label]}')\n",
        "\n",
        "plt.tight_layout() # Adjust layout to prevent overlapping titles\n",
        "plt.show()"
      ],
      "metadata": {
        "id": "JZ2pgf6pFu6Q",
        "trusted": true,
        "execution": {
          "iopub.status.busy": "2025-07-14T00:12:21.182699Z",
          "iopub.execute_input": "2025-07-14T00:12:21.182894Z",
          "iopub.status.idle": "2025-07-14T00:12:24.550788Z",
          "shell.execute_reply.started": "2025-07-14T00:12:21.182878Z",
          "shell.execute_reply": "2025-07-14T00:12:24.55001Z"
        }
      },
      "outputs": [],
      "execution_count": null
    },
    {
      "cell_type": "code",
      "source": [
        "from sklearn.metrics import confusion_matrix\n",
        "import seaborn as sns\n",
        "conf = confusion_matrix(y_test,models.predict(x_test) > 0.5)\n",
        "sns.heatmap(conf,annot=True,fmt='d',cmap='Blues')\n",
        "plt.title('Confusion Matrix')\n",
        "plt.xlabel('Predicted')\n",
        "plt.ylabel('Actual')\n",
        "plt.show()"
      ],
      "metadata": {
        "id": "OhXW_xFwIVnS",
        "trusted": true,
        "execution": {
          "iopub.status.busy": "2025-07-14T00:12:24.552058Z",
          "iopub.execute_input": "2025-07-14T00:12:24.552387Z",
          "iopub.status.idle": "2025-07-14T00:12:28.971984Z",
          "shell.execute_reply.started": "2025-07-14T00:12:24.552348Z",
          "shell.execute_reply": "2025-07-14T00:12:28.971123Z"
        }
      },
      "outputs": [],
      "execution_count": null
    }
  ]
}