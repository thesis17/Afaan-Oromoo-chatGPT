{
  "cells": [
    {
      "cell_type": "markdown",
      "metadata": {
        "id": "view-in-github",
        "colab_type": "text"
      },
      "source": [
        "<a href=\"https://colab.research.google.com/github/thesis17/Afaan-Oromoo-chatGPT/blob/main/Trelis_OpenAI_Distillation_BASIC.ipynb\" target=\"_parent\"><img src=\"https://colab.research.google.com/assets/colab-badge.svg\" alt=\"Open In Colab\"/></a>"
      ]
    },
    {
      "cell_type": "markdown",
      "metadata": {
        "id": "4rzLAWBkOgzF"
      },
      "source": [
        "# OpenAI Distillation and Fine-tuning\n",
        "A basic fine-tuning/distillation tutorial notebook by [Trelis Research](https://trelis.com/about).\n",
        "\n",
        "\n",
        "- Watch the [basic video on YouTube]().\n",
        "- Watch the [advanced video on YouTube](https://youtu.be/iogrvDu5K0k).\n",
        "- Get the advanced notebook at [Trelis.com/ADVANCED-fine-tuning](https://Trelis.com/ADVANCED-fine-tuning).\n",
        "- Get more Trelis Resources at [Trelis.com/About]()."
      ]
    },
    {
      "cell_type": "markdown",
      "source": [
        "## Introduction / Explanation"
      ],
      "metadata": {
        "id": "girKrW_y7ITN"
      }
    },
    {
      "cell_type": "markdown",
      "source": [
        "### Why fine-tune / distill?"
      ],
      "metadata": {
        "id": "8SZs3Yvx6xhR"
      }
    },
    {
      "cell_type": "markdown",
      "source": [
        "A. OpenAI models lack the knowledge for your specific application AND using retrieval methods (i.e. adding background information to prompts) is giving bad results.\n",
        "\n",
        "B. OpenAI models are responding with the wrong format AND prompt engineering is giving bad results.\n",
        "\n",
        "C. Strong models (GPT-4o) gives good results, but is too SLOW or EXPENSIVE."
      ],
      "metadata": {
        "id": "dMeNA12w7fWp"
      }
    },
    {
      "cell_type": "markdown",
      "source": [
        "### What is Distillation vs Fine-tuning?"
      ],
      "metadata": {
        "id": "Bh2suSpO6z2_"
      }
    },
    {
      "cell_type": "markdown",
      "source": [
        "#### Training Stages:\n",
        "-- Pre-training: Using large amounts of raw / minimally processed data.\n",
        "\n",
        "-- Fine-tuning: Training a pre-trained model with small amounts of curated data.\n",
        "\n",
        "*You can use distillation for either stage!*\n",
        "\n",
        "\n",
        "#### Training Approaches:\n",
        "-- Data Based Approach, i.e. you have to prepare lots of data.\n",
        "\n",
        "-- Distillation Approach: Take a short cut by using a stronger model (either to create the data AND/OR to by copying the weights directly or indirectly.\n",
        "\n",
        "\n",
        "#### Distillation Approaches:\n",
        "-- Black box: You use a stronger model to generate data. WHAT WE DO IN THIS NOTEBOOK.\n",
        "\n",
        "-- White box: You have access to the stronger model's inner workings. You compare the probability distributions of the stronger model with the weaker model, and adjust the weaker model. Deeper YouTube Video [Here](https://youtu.be/tf60owmwR-c)"
      ],
      "metadata": {
        "id": "jFR5BfQ27iw8"
      }
    },
    {
      "cell_type": "markdown",
      "source": [
        "### Simple Approach to Distilling / Fine-tuning"
      ],
      "metadata": {
        "id": "ucnUjBW761LZ"
      }
    },
    {
      "cell_type": "markdown",
      "source": [
        "0. Evaluate the performance of a strong and weak model.\n",
        "1. Generate synthetic data using a strong model (ideally using augmented data).\n",
        "2. Use that data to fine-tuning a cheaper/faster model (e.g. mini).\n",
        "3. Run an evaluation to see if the fine-tuning helped."
      ],
      "metadata": {
        "id": "SCId7ARu7mXn"
      }
    },
    {
      "cell_type": "markdown",
      "source": [
        "### ADVANCED Approach to Distilling / Fine-tuning"
      ],
      "metadata": {
        "id": "h8sZSNcd62Tj"
      }
    },
    {
      "cell_type": "markdown",
      "source": [
        "Get the advanced notebook at [Trelis.com/ADVANCED-fine-tuning](https://Trelis.com/ADVANCED-fine-tuning) and watch the video on [YouTube](https://youtu.be/iogrvDu5K0k).\n",
        "\n",
        "Includes:\n",
        "- **Augmented Synthetic Question and Answer Generation**:\n",
        "  - Diverse questions, augmented with background documentation.\n",
        "  - Accurate answers:\n",
        "    - Sampling at low temperature.\n",
        "    - Filtering of correct/strong responses.\n",
        "  \n",
        "- **Automatic Evaluations**: Judging of results."
      ],
      "metadata": {
        "id": "2U3MVbKd7puJ"
      }
    },
    {
      "cell_type": "markdown",
      "metadata": {
        "jp-MarkdownHeadingCollapsed": true,
        "id": "2D3ygB04OgzH"
      },
      "source": [
        "## Installation"
      ]
    },
    {
      "cell_type": "code",
      "execution_count": null,
      "metadata": {
        "id": "RS6HomH7RkOW"
      },
      "outputs": [],
      "source": [
        "!python -m pip install --upgrade pip -q\n",
        "!pip install openai -qU"
      ]
    },
    {
      "cell_type": "code",
      "source": [
        "!pip show openai"
      ],
      "metadata": {
        "colab": {
          "base_uri": "https://localhost:8080/"
        },
        "id": "jalBxhqsrFOn",
        "outputId": "a0511567-4651-4a1e-fe6d-4c014275cf07"
      },
      "execution_count": null,
      "outputs": [
        {
          "output_type": "stream",
          "name": "stdout",
          "text": [
            "Name: openai\n",
            "Version: 1.51.2\n",
            "Summary: The official Python library for the openai API\n",
            "Home-page: https://github.com/openai/openai-python\n",
            "Author: \n",
            "Author-email: OpenAI <support@openai.com>\n",
            "License: \n",
            "Location: /usr/local/lib/python3.10/dist-packages\n",
            "Requires: anyio, distro, httpx, jiter, pydantic, sniffio, tqdm, typing-extensions\n",
            "Required-by: \n"
          ]
        }
      ]
    },
    {
      "cell_type": "code",
      "execution_count": null,
      "metadata": {
        "id": "-M6vIu6EOgzJ"
      },
      "outputs": [],
      "source": [
        "import os\n",
        "import getpass\n",
        "from openai import OpenAI\n",
        "\n",
        "from google.colab import userdata\n",
        "\n",
        "\n",
        "# Set OpenAI API key\n",
        "api_key = userdata.get('OPENAI_API_KEY')\n",
        "\n",
        "# Initialize OpenAI client\n",
        "client = OpenAI(api_key=api_key)"
      ]
    },
    {
      "cell_type": "markdown",
      "source": [
        "## Set up Questions and Evaluate Performance"
      ],
      "metadata": {
        "id": "19dAWXPCrXhN"
      }
    },
    {
      "cell_type": "code",
      "source": [
        "# Define the training questions\n",
        "train_questions = [\n",
        "    \"Is a try worth one or five points in touch rugby?\",\n",
        "    \"How much is a try worth in touch rugby?\",\n",
        "    \"Is a try worth five points in touch rugby?\",\n",
        "    \"What happens after a try is scored in touch rugby?\",\n",
        "    \"How is the game restarted after a try in touch rugby?\",\n",
        "    \"What is the role of the referee in touch rugby?\",\n",
        "    \"Are there any differences between touch rugby and rugby union?\",\n",
        "    \"What is the maximum number of players on each team in touch rugby?\",\n",
        "    \"How long is a typical touch rugby match?\",\n",
        "    \"How many players on the field in touch rugby?\"\n",
        "]"
      ],
      "metadata": {
        "id": "Wt002jiN1RsG"
      },
      "execution_count": null,
      "outputs": []
    },
    {
      "cell_type": "code",
      "source": [
        "import openai\n",
        "\n",
        "# Function to call OpenAI and print the response\n",
        "def get_openai_response(model_name, question):\n",
        "    response = client.chat.completions.create(\n",
        "        model=model_name,\n",
        "        messages=[\n",
        "            {\"role\": \"system\", \"content\": \"You are a sports rules expert.\"},\n",
        "            {\"role\": \"user\", \"content\": question}\n",
        "        ],\n",
        "        temperature=0.25,\n",
        "        top_p=0.9 # help avoid bad tokens when sampling.\n",
        "    )\n",
        "    print(response.choices[0].message.content)\n",
        "    print()\n",
        "\n",
        "def evaluate(model_name,qs_to_eval=10):\n",
        "  print(f\"Generating with model: {model_name}:\")\n",
        "  # Call the function with both models\n",
        "  for question in train_questions[:qs_to_eval]:\n",
        "      print(\"---\")\n",
        "      get_openai_response(model_name, question)"
      ],
      "metadata": {
        "id": "1GSL1qReuuMv"
      },
      "execution_count": null,
      "outputs": []
    },
    {
      "cell_type": "code",
      "source": [
        "model_name = \"gpt-4o\" # teacher\n",
        "evaluate(model_name,1)"
      ],
      "metadata": {
        "colab": {
          "base_uri": "https://localhost:8080/"
        },
        "id": "wYNfnHgDvGuD",
        "outputId": "fe833510-454e-4586-c01e-a42c34dc45bf"
      },
      "execution_count": null,
      "outputs": [
        {
          "output_type": "stream",
          "name": "stdout",
          "text": [
            "Generating with model: gpt-4o:\n",
            "---\n",
            "In touch rugby, a try is typically worth one point. This differs from traditional rugby union, where a try is worth five points. Touch rugby has its own set of rules and scoring system, which often includes simplified scoring to emphasize speed and skill over physical contact.\n",
            "\n"
          ]
        }
      ]
    },
    {
      "cell_type": "code",
      "source": [
        "model_name = \"gpt-4o-mini\" # student\n",
        "evaluate(model_name,1)"
      ],
      "metadata": {
        "colab": {
          "base_uri": "https://localhost:8080/"
        },
        "id": "5nBrbEkZwV4J",
        "outputId": "0d0d6490-adb8-4ae7-dcbb-b27fcaaffc1e"
      },
      "execution_count": null,
      "outputs": [
        {
          "output_type": "stream",
          "name": "stdout",
          "text": [
            "Generating with model: gpt-4o-mini:\n",
            "---\n",
            "In touch rugby, a try is worth five points.\n",
            "\n"
          ]
        }
      ]
    },
    {
      "cell_type": "markdown",
      "source": [
        "## Generate and Store Data"
      ],
      "metadata": {
        "id": "vNOOkmN0ratD"
      }
    },
    {
      "cell_type": "code",
      "source": [
        "dataset_tag = \"touch-rugby-7\"\n",
        "\n",
        "# Function to call OpenAI and print the response\n",
        "def get_and_store_openai_response(model_name, question, store=True):\n",
        "    response = client.chat.completions.create(\n",
        "        model=model_name,\n",
        "        messages=[\n",
        "            {\"role\": \"system\", \"content\": \"You are a sports rules expert.\"},\n",
        "            {\"role\": \"user\", \"content\": question}\n",
        "        ],\n",
        "        temperature=0.25,\n",
        "        top_p=0.9,\n",
        "        metadata={\n",
        "            \"distillation\": dataset_tag\n",
        "        },\n",
        "        store=store  # Save the completion\n",
        "    )\n",
        "    print(f\"Response from {model_name} for '{question}':\")\n",
        "    print(response.choices[0].message.content)\n",
        "    if store:\n",
        "      print(\"Response stored on OpenAI servers\")\n",
        "    print()\n",
        "\n",
        "# Function to generate data and print question numbers\n",
        "def generate_data(model_name, qs_to_eval=10):\n",
        "    # Call the function with both models\n",
        "    for question_number, question in enumerate(train_questions[:qs_to_eval], start=1):\n",
        "        print(f\"Question {question_number}:\")\n",
        "        print(\"---\")\n",
        "        get_and_store_openai_response(model_name, question)"
      ],
      "metadata": {
        "id": "p_a4lf2DwUs5"
      },
      "execution_count": null,
      "outputs": []
    },
    {
      "cell_type": "code",
      "source": [
        "model_name = \"gpt-4o\"\n",
        "generate_data(model_name)"
      ],
      "metadata": {
        "colab": {
          "base_uri": "https://localhost:8080/"
        },
        "id": "DbdH706uOtVt",
        "outputId": "1ad359ae-5165-48f4-bda9-b41f869a4493"
      },
      "execution_count": null,
      "outputs": [
        {
          "output_type": "stream",
          "name": "stdout",
          "text": [
            "Question 1:\n",
            "---\n",
            "Response from gpt-4o for 'Is a try worth one or five points in touch rugby?':\n",
            "In touch rugby, a try is typically worth one point. This differs from traditional rugby union, where a try is worth five points. Touch rugby has simplified scoring to emphasize the fast-paced and social nature of the game.\n",
            "Response stored on OpenAI servers\n",
            "\n",
            "Question 2:\n",
            "---\n",
            "Response from gpt-4o for 'How much is a try worth in touch rugby?':\n",
            "In touch rugby, a try is worth one point. Unlike traditional rugby union or rugby league, where a try is worth more points, touch rugby simplifies the scoring system with each try counting equally.\n",
            "Response stored on OpenAI servers\n",
            "\n",
            "Question 3:\n",
            "---\n",
            "Response from gpt-4o for 'Is a try worth five points in touch rugby?':\n",
            "In touch rugby, a try is typically worth one point. This differs from rugby union, where a try is worth five points. Touch rugby has its own set of rules and scoring system, which emphasizes speed and skill without the physical contact found in traditional rugby.\n",
            "Response stored on OpenAI servers\n",
            "\n",
            "Question 4:\n",
            "---\n",
            "Response from gpt-4o for 'What happens after a try is scored in touch rugby?':\n",
            "In touch rugby, after a try is scored, the following sequence of events typically occurs:\n",
            "\n",
            "1. **Awarding the Try**: The team that scored the try is awarded one point. In touch rugby, unlike traditional rugby union or rugby league, a try is typically worth one point, though this can vary in some social or mixed-gender competitions.\n",
            "\n",
            "2. **Restart of Play**: The game restarts with a tap from the center of the field. The team that conceded the try will restart play. They will take a tap at the halfway line to resume the game. \n",
            "\n",
            "3. **Defense Retreat**: The scoring team must retreat a certain distance (usually 10 meters) from the halfway line to allow the opposing team to take the tap restart.\n",
            "\n",
            "4. **Continuation of Play**: Once the tap is taken, the game continues as normal, with the team that conceded the try now in possession of the ball.\n",
            "\n",
            "These procedures help maintain the flow and pace of the game, which is a hallmark of touch rugby.\n",
            "Response stored on OpenAI servers\n",
            "\n",
            "Question 5:\n",
            "---\n",
            "Response from gpt-4o for 'How is the game restarted after a try in touch rugby?':\n",
            "In touch rugby, after a try is scored, the game is typically restarted with a tap from the center of the field by the team that conceded the try. The team that scored the try will retreat to their defensive side, allowing the opposing team to restart play. The tap is taken by placing the ball on the ground and tapping it with the foot, then picking it up to pass or run. This method of restarting play helps maintain the fast-paced and continuous nature of touch rugby.\n",
            "Response stored on OpenAI servers\n",
            "\n",
            "Question 6:\n",
            "---\n",
            "Response from gpt-4o for 'What is the role of the referee in touch rugby?':\n",
            "In touch rugby, the referee plays a crucial role in ensuring the game is played fairly, safely, and in accordance with the rules. Here are the key responsibilities of a touch rugby referee:\n",
            "\n",
            "1. **Enforcing the Rules**: The referee ensures that all players adhere to the rules of touch rugby. This includes monitoring the game for any infringements and applying the appropriate penalties when necessary.\n",
            "\n",
            "2. **Safety**: The referee is responsible for maintaining a safe playing environment. They must be vigilant for any dangerous play or behavior and take action to prevent injuries.\n",
            "\n",
            "3. **Starting and Stopping Play**: The referee controls the start and stop of the game, including signaling the beginning of each half and resuming play after stoppages.\n",
            "\n",
            "4. **Managing the Touch Count**: In touch rugby, the attacking team has a limited number of touches (usually six) to score. The referee keeps track of the touch count and signals when a turnover occurs.\n",
            "\n",
            "5. **Positioning and Movement**: The referee must maintain a position on the field that allows them to see the play clearly and make accurate decisions. This often involves moving quickly to keep up with the flow of the game.\n",
            "\n",
            "6. **Communication**: Effective communication with players is crucial. The referee must clearly signal decisions and explain rulings when necessary to ensure players understand the reasons behind calls.\n",
            "\n",
            "7. **Conflict Resolution**: The referee acts as a mediator in disputes between players, helping to resolve conflicts and maintain the spirit of the game.\n",
            "\n",
            "8. **Timekeeping**: The referee is responsible for keeping track of the game time, including any stoppages, and ensuring the game runs for the correct duration.\n",
            "\n",
            "9. **Encouraging Fair Play**: The referee promotes sportsmanship and respect among players, encouraging a positive and enjoyable playing environment.\n",
            "\n",
            "Overall, the referee's role is to facilitate a smooth and enjoyable game while upholding the integrity of touch rugby.\n",
            "Response stored on OpenAI servers\n",
            "\n",
            "Question 7:\n",
            "---\n",
            "Response from gpt-4o for 'Are there any differences between touch rugby and rugby union?':\n",
            "Yes, there are several differences between touch rugby and rugby union, as they are distinct variations of the sport with different rules, objectives, and styles of play. Here are some of the key differences:\n",
            "\n",
            "1. **Contact**: \n",
            "   - **Touch Rugby**: As the name suggests, touch rugby is a minimal-contact sport. Instead of tackling, players stop the progress of the ball carrier by touching them with their hands. This makes the game safer and more accessible to a wider range of participants.\n",
            "   - **Rugby Union**: Rugby union is a full-contact sport where players tackle opponents to the ground to stop their progress. This involves a higher level of physicality and requires protective gear like mouthguards.\n",
            "\n",
            "2. **Team Size**:\n",
            "   - **Touch Rugby**: Typically played with six players per side on the field at any one time.\n",
            "   - **Rugby Union**: Played with 15 players per side in the traditional format. There is also a variant called rugby sevens, which features seven players per side.\n",
            "\n",
            "3. **Field Size**:\n",
            "   - **Touch Rugby**: The field is smaller, usually around 70 meters long and 50 meters wide, which is about half the size of a standard rugby union field.\n",
            "   - **Rugby Union**: The field is approximately 100 meters long and 70 meters wide.\n",
            "\n",
            "4. **Game Duration**:\n",
            "   - **Touch Rugby**: Matches are generally shorter, often consisting of two halves of 20 minutes each.\n",
            "   - **Rugby Union**: Standard matches are 80 minutes long, divided into two halves of 40 minutes each.\n",
            "\n",
            "5. **Scoring**:\n",
            "   - **Touch Rugby**: Points are scored by grounding the ball over the opponent's try line, similar to a try in rugby union, but there are no conversions, penalties, or drop goals.\n",
            "   - **Rugby Union**: Points can be scored in several ways, including tries, conversions, penalty goals, and drop goals.\n",
            "\n",
            "6. **Set Pieces**:\n",
            "   - **Touch Rugby**: There are no scrums or lineouts. Restarting play after a touch is made involves a simple roll-ball.\n",
            "   - **Rugby Union**: Includes complex set pieces like scrums and lineouts, which are integral parts of the game.\n",
            "\n",
            "7. **Possession**:\n",
            "   - **Touch Rugby**: Teams have a set number of touches (usually six) to score before possession is turned over to the opposing team.\n",
            "   - **Rugby Union**: Possession is contested continuously, with turnovers occurring through various means like tackles, rucks, and interceptions.\n",
            "\n",
            "8. **Objective**:\n",
            "   - **Touch Rugby**: Focuses more on speed, agility, and teamwork, with an emphasis on running and passing.\n",
            "   - **Rugby Union**: Combines physicality with strategy, involving both running and tactical kicking.\n",
            "\n",
            "These differences make touch rugby a more accessible and less physically demanding version of the sport, often used for social play, training, or as an introduction to rugby for beginners.\n",
            "Response stored on OpenAI servers\n",
            "\n",
            "Question 8:\n",
            "---\n",
            "Response from gpt-4o for 'What is the maximum number of players on each team in touch rugby?':\n",
            "In touch rugby, the maximum number of players on the field for each team is typically six. However, team sizes can vary depending on the specific rules of the competition or social game being played. It's common for teams to have additional players as substitutes, allowing for rotations during the game.\n",
            "Response stored on OpenAI servers\n",
            "\n",
            "Question 9:\n",
            "---\n",
            "Response from gpt-4o for 'How long is a typical touch rugby match?':\n",
            "A typical touch rugby match consists of two halves, each lasting 20 minutes, with a short halftime break, usually around 5 minutes. This format can vary slightly depending on the specific competition or level of play, but the 20-minute halves are standard for most touch rugby matches.\n",
            "Response stored on OpenAI servers\n",
            "\n",
            "Question 10:\n",
            "---\n",
            "Response from gpt-4o for 'How many players on the field in touch rugby?':\n",
            "In touch rugby, each team typically has six players on the field at any one time. This is a standard rule in most touch rugby competitions, although variations can exist depending on the specific league or tournament.\n",
            "Response stored on OpenAI servers\n",
            "\n"
          ]
        }
      ]
    },
    {
      "cell_type": "markdown",
      "source": [
        "## Fine-tuning and Evaluation\n",
        "This is best done by going to the fine-tuning view on your OpenAI dashboard.\n",
        "\n",
        "Then, come back, with your fine-tuned model name in hand, and run evaluation again."
      ],
      "metadata": {
        "id": "1oh6UImPrcYI"
      }
    },
    {
      "cell_type": "code",
      "source": [
        "# model_name = \"<your fine-tuned model name>\"\n",
        "model_name = \"ft:gpt-4o-mini-2024-07-18:trelis-ltd:touch-rugby-6:AIFAewgZ\"\n",
        "evaluate(model_name,1)"
      ],
      "metadata": {
        "colab": {
          "base_uri": "https://localhost:8080/"
        },
        "id": "QTem29zNz3Vp",
        "outputId": "eb805daf-b450-4ccf-b754-299c868d1a95"
      },
      "execution_count": null,
      "outputs": [
        {
          "output_type": "stream",
          "name": "stdout",
          "text": [
            "Generating with model: ft:gpt-4o-mini-2024-07-18:trelis-ltd:touch-rugby-6:AIFAewgZ:\n",
            "---\n",
            "In touch rugby, a try is typically worth one point. This differs from traditional rugby union, where a try is worth five points. Touch rugby has simplified scoring to emphasize the fast-paced and social nature of the game.\n",
            "\n"
          ]
        }
      ]
    },
    {
      "cell_type": "code",
      "source": [],
      "metadata": {
        "id": "qd5DEMGuK-Nc"
      },
      "execution_count": null,
      "outputs": []
    }
  ],
  "metadata": {
    "colab": {
      "provenance": [],
      "include_colab_link": true
    },
    "kernelspec": {
      "display_name": "Python 3 (ipykernel)",
      "language": "python",
      "name": "python3"
    },
    "language_info": {
      "codemirror_mode": {
        "name": "ipython",
        "version": 3
      },
      "file_extension": ".py",
      "mimetype": "text/x-python",
      "name": "python",
      "nbconvert_exporter": "python",
      "pygments_lexer": "ipython3",
      "version": "3.10.12"
    }
  },
  "nbformat": 4,
  "nbformat_minor": 0
}